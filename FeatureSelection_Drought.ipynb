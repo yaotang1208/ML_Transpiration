{
 "cells": [
  {
   "cell_type": "code",
   "execution_count": 4,
   "metadata": {},
   "outputs": [],
   "source": [
    "import numpy as np\n",
    "import pandas as pd\n",
    "import matplotlib.pyplot as plt\n",
    "import matplotlib.dates as mdates\n",
    "import seaborn as sns\n",
    "import warnings\n",
    "\n",
    "from datetime import datetime, date,timedelta\n",
    "from matplotlib import gridspec\n",
    "from matplotlib import cm\n",
    "\n",
    "from yellowbrick.regressor import PredictionError, ResidualsPlot\n",
    "\n",
    "warnings.filterwarnings('ignore')\n",
    "%matplotlib inline"
   ]
  },
  {
   "cell_type": "code",
   "execution_count": 40,
   "metadata": {},
   "outputs": [],
   "source": [
    "df_SF = pd.read_pickle('df_SF_HH.pkl')"
   ]
  },
  {
   "cell_type": "code",
   "execution_count": 41,
   "metadata": {},
   "outputs": [
    {
     "data": {
      "text/html": [
       "<div>\n",
       "<style scoped>\n",
       "    .dataframe tbody tr th:only-of-type {\n",
       "        vertical-align: middle;\n",
       "    }\n",
       "\n",
       "    .dataframe tbody tr th {\n",
       "        vertical-align: top;\n",
       "    }\n",
       "\n",
       "    .dataframe thead th {\n",
       "        text-align: right;\n",
       "    }\n",
       "</style>\n",
       "<table border=\"1\" class=\"dataframe\">\n",
       "  <thead>\n",
       "    <tr style=\"text-align: right;\">\n",
       "      <th></th>\n",
       "      <th>TIMESTAMP</th>\n",
       "      <th>DOY</th>\n",
       "      <th>SV_IN_1A</th>\n",
       "      <th>SV_OUT_1A</th>\n",
       "      <th>SV_MEAN_1A</th>\n",
       "      <th>SV_IN_1B</th>\n",
       "      <th>SV_OUT_1B</th>\n",
       "      <th>SV_MEAN_1B</th>\n",
       "      <th>SV_IN_2A</th>\n",
       "      <th>SV_OUT_2A</th>\n",
       "      <th>...</th>\n",
       "      <th>SV_MEAN_6A</th>\n",
       "      <th>SV_IN_7A</th>\n",
       "      <th>SV_OUT_7A</th>\n",
       "      <th>SV_MEAN_7A</th>\n",
       "      <th>SV_IN_8A</th>\n",
       "      <th>SV_OUT_8A</th>\n",
       "      <th>SV_MEAN_8A</th>\n",
       "      <th>SV_IN_9A</th>\n",
       "      <th>SV_OUT_9A</th>\n",
       "      <th>SV_MEAN_9A</th>\n",
       "    </tr>\n",
       "  </thead>\n",
       "  <tbody>\n",
       "    <tr>\n",
       "      <th>0</th>\n",
       "      <td>2015-01-01 00:00:00</td>\n",
       "      <td>1</td>\n",
       "      <td>NaN</td>\n",
       "      <td>NaN</td>\n",
       "      <td>NaN</td>\n",
       "      <td>NaN</td>\n",
       "      <td>NaN</td>\n",
       "      <td>NaN</td>\n",
       "      <td>NaN</td>\n",
       "      <td>NaN</td>\n",
       "      <td>...</td>\n",
       "      <td>NaN</td>\n",
       "      <td>NaN</td>\n",
       "      <td>NaN</td>\n",
       "      <td>NaN</td>\n",
       "      <td>NaN</td>\n",
       "      <td>NaN</td>\n",
       "      <td>NaN</td>\n",
       "      <td>NaN</td>\n",
       "      <td>NaN</td>\n",
       "      <td>NaN</td>\n",
       "    </tr>\n",
       "    <tr>\n",
       "      <th>2</th>\n",
       "      <td>2015-01-01 00:30:00</td>\n",
       "      <td>1</td>\n",
       "      <td>NaN</td>\n",
       "      <td>NaN</td>\n",
       "      <td>NaN</td>\n",
       "      <td>NaN</td>\n",
       "      <td>NaN</td>\n",
       "      <td>NaN</td>\n",
       "      <td>NaN</td>\n",
       "      <td>NaN</td>\n",
       "      <td>...</td>\n",
       "      <td>NaN</td>\n",
       "      <td>NaN</td>\n",
       "      <td>NaN</td>\n",
       "      <td>NaN</td>\n",
       "      <td>NaN</td>\n",
       "      <td>NaN</td>\n",
       "      <td>NaN</td>\n",
       "      <td>NaN</td>\n",
       "      <td>NaN</td>\n",
       "      <td>NaN</td>\n",
       "    </tr>\n",
       "    <tr>\n",
       "      <th>4</th>\n",
       "      <td>2015-01-01 01:00:00</td>\n",
       "      <td>1</td>\n",
       "      <td>NaN</td>\n",
       "      <td>NaN</td>\n",
       "      <td>NaN</td>\n",
       "      <td>NaN</td>\n",
       "      <td>NaN</td>\n",
       "      <td>NaN</td>\n",
       "      <td>NaN</td>\n",
       "      <td>NaN</td>\n",
       "      <td>...</td>\n",
       "      <td>NaN</td>\n",
       "      <td>NaN</td>\n",
       "      <td>NaN</td>\n",
       "      <td>NaN</td>\n",
       "      <td>NaN</td>\n",
       "      <td>NaN</td>\n",
       "      <td>NaN</td>\n",
       "      <td>NaN</td>\n",
       "      <td>NaN</td>\n",
       "      <td>NaN</td>\n",
       "    </tr>\n",
       "    <tr>\n",
       "      <th>6</th>\n",
       "      <td>2015-01-01 01:30:00</td>\n",
       "      <td>1</td>\n",
       "      <td>NaN</td>\n",
       "      <td>NaN</td>\n",
       "      <td>NaN</td>\n",
       "      <td>NaN</td>\n",
       "      <td>NaN</td>\n",
       "      <td>NaN</td>\n",
       "      <td>NaN</td>\n",
       "      <td>NaN</td>\n",
       "      <td>...</td>\n",
       "      <td>NaN</td>\n",
       "      <td>NaN</td>\n",
       "      <td>NaN</td>\n",
       "      <td>NaN</td>\n",
       "      <td>NaN</td>\n",
       "      <td>NaN</td>\n",
       "      <td>NaN</td>\n",
       "      <td>NaN</td>\n",
       "      <td>NaN</td>\n",
       "      <td>NaN</td>\n",
       "    </tr>\n",
       "    <tr>\n",
       "      <th>8</th>\n",
       "      <td>2015-01-01 02:00:00</td>\n",
       "      <td>1</td>\n",
       "      <td>NaN</td>\n",
       "      <td>NaN</td>\n",
       "      <td>NaN</td>\n",
       "      <td>NaN</td>\n",
       "      <td>NaN</td>\n",
       "      <td>NaN</td>\n",
       "      <td>NaN</td>\n",
       "      <td>NaN</td>\n",
       "      <td>...</td>\n",
       "      <td>NaN</td>\n",
       "      <td>NaN</td>\n",
       "      <td>NaN</td>\n",
       "      <td>NaN</td>\n",
       "      <td>NaN</td>\n",
       "      <td>NaN</td>\n",
       "      <td>NaN</td>\n",
       "      <td>NaN</td>\n",
       "      <td>NaN</td>\n",
       "      <td>NaN</td>\n",
       "    </tr>\n",
       "  </tbody>\n",
       "</table>\n",
       "<p>5 rows × 41 columns</p>\n",
       "</div>"
      ],
      "text/plain": [
       "            TIMESTAMP  DOY  SV_IN_1A  SV_OUT_1A  SV_MEAN_1A  SV_IN_1B  \\\n",
       "0 2015-01-01 00:00:00    1       NaN        NaN         NaN       NaN   \n",
       "2 2015-01-01 00:30:00    1       NaN        NaN         NaN       NaN   \n",
       "4 2015-01-01 01:00:00    1       NaN        NaN         NaN       NaN   \n",
       "6 2015-01-01 01:30:00    1       NaN        NaN         NaN       NaN   \n",
       "8 2015-01-01 02:00:00    1       NaN        NaN         NaN       NaN   \n",
       "\n",
       "   SV_OUT_1B  SV_MEAN_1B  SV_IN_2A  SV_OUT_2A  ...  SV_MEAN_6A  SV_IN_7A  \\\n",
       "0        NaN         NaN       NaN        NaN  ...         NaN       NaN   \n",
       "2        NaN         NaN       NaN        NaN  ...         NaN       NaN   \n",
       "4        NaN         NaN       NaN        NaN  ...         NaN       NaN   \n",
       "6        NaN         NaN       NaN        NaN  ...         NaN       NaN   \n",
       "8        NaN         NaN       NaN        NaN  ...         NaN       NaN   \n",
       "\n",
       "   SV_OUT_7A  SV_MEAN_7A  SV_IN_8A  SV_OUT_8A  SV_MEAN_8A  SV_IN_9A  \\\n",
       "0        NaN         NaN       NaN        NaN         NaN       NaN   \n",
       "2        NaN         NaN       NaN        NaN         NaN       NaN   \n",
       "4        NaN         NaN       NaN        NaN         NaN       NaN   \n",
       "6        NaN         NaN       NaN        NaN         NaN       NaN   \n",
       "8        NaN         NaN       NaN        NaN         NaN       NaN   \n",
       "\n",
       "   SV_OUT_9A  SV_MEAN_9A  \n",
       "0        NaN         NaN  \n",
       "2        NaN         NaN  \n",
       "4        NaN         NaN  \n",
       "6        NaN         NaN  \n",
       "8        NaN         NaN  \n",
       "\n",
       "[5 rows x 41 columns]"
      ]
     },
     "execution_count": 41,
     "metadata": {},
     "output_type": "execute_result"
    }
   ],
   "source": [
    "df_SF.head()"
   ]
  },
  {
   "cell_type": "code",
   "execution_count": 42,
   "metadata": {},
   "outputs": [],
   "source": [
    "# df_SF.dtypes"
   ]
  },
  {
   "cell_type": "code",
   "execution_count": 43,
   "metadata": {},
   "outputs": [],
   "source": [
    "FILE_MET = 'k34_Met_Soil_v0.csv'\n",
    "df_met = pd.read_csv(FILE_MET, header = 0, na_values = '-9999')"
   ]
  },
  {
   "cell_type": "code",
   "execution_count": 44,
   "metadata": {},
   "outputs": [],
   "source": [
    "df_met['TIMESTAMP'] = [datetime.strptime(str(i),'%Y%m%d%H%M') for i in df_met['TIMESTAMP_START']]"
   ]
  },
  {
   "cell_type": "code",
   "execution_count": 45,
   "metadata": {},
   "outputs": [],
   "source": [
    "df_sv_t1 = df_SF[['TIMESTAMP','SV_OUT_1A']].copy()\n",
    "# df_sv_t1.head()"
   ]
  },
  {
   "cell_type": "markdown",
   "metadata": {},
   "source": [
    "Combine micro-met data and sap flow data"
   ]
  },
  {
   "cell_type": "code",
   "execution_count": 46,
   "metadata": {},
   "outputs": [],
   "source": [
    "df = pd.merge(df_met,df_sv_t1,how = 'left',on = 'TIMESTAMP')\n",
    "# df.head()"
   ]
  },
  {
   "cell_type": "code",
   "execution_count": 47,
   "metadata": {},
   "outputs": [],
   "source": [
    "# df.dtypes"
   ]
  },
  {
   "cell_type": "markdown",
   "metadata": {},
   "source": [
    "# Time Period"
   ]
  },
  {
   "cell_type": "markdown",
   "metadata": {},
   "source": [
    "Drought"
   ]
  },
  {
   "cell_type": "code",
   "execution_count": 71,
   "metadata": {},
   "outputs": [],
   "source": [
    "# all drought\n",
    "# time_start = datetime(2015,8,1,0,0,0)\n",
    "# time_end = datetime(2016,3,1,0,0,0)\n",
    "\n",
    "# very dry\n",
    "time_start = datetime(2015,9,1,0,0,0)\n",
    "time_end = datetime(2015,10,1,0,0,0)"
   ]
  },
  {
   "cell_type": "code",
   "execution_count": 72,
   "metadata": {},
   "outputs": [],
   "source": [
    "df_drought = df.loc[(df['TIMESTAMP'] > time_start) & (df['TIMESTAMP'] < time_end)]"
   ]
  },
  {
   "cell_type": "code",
   "execution_count": 73,
   "metadata": {},
   "outputs": [],
   "source": [
    "cols_drop = ['TIMESTAMP_START','TIMESTAMP_END','TIMESTAMP','BATTERY_VOLTAGE',\n",
    "             'H2O_1','H2O_2','H2O_3','H2O_4','H2O_5','H2O_6',\n",
    "             'RH_2','RH_3','RH_4','RH_5','P_2','RH_6',\n",
    "             'WS_4','Rho_PAR','Rho_OIR','NDVI',\n",
    "             'PPFD_IN','PPFD_OUT','T_LW_IN','T_LW_OUT','LW_IN','LW_OUT',\n",
    "             'PPFD_IN_2','PA']\n",
    "# cols = ['G', 'SWC_1', 'SWC_2', 'SWC_3', 'SWC_4', 'SWC_5', 'SWC_6', \n",
    "#        'TS_1', 'TS_2', 'TS_3', 'TS_4', 'TS_5', \n",
    "#        'SW_IN', 'SW_OUT', 'RH_1','NETRAD', 'T_CANOPY', \n",
    "#        'TA_1', 'TA_2', 'TA_3', 'TA_4', 'TA_5', 'TA_6', \n",
    "#        'WS_1', 'WD_1', \n",
    "#        'CO2_1', 'CO2_2', 'CO2_3', 'CO2_4', 'CO2_5', 'CO2_6', \n",
    "#        'LW_IN_CORR', 'LW_OUT_CORR', \n",
    "#        'SV_OUT_1A']\n",
    "# cols = ['G', 'SWC_1', 'SWC_2', 'SWC_3', 'SWC_4', 'SWC_5', 'SWC_6', \n",
    "#        'TS_1', 'TS_2', 'TS_3', 'TS_4', 'TS_5', \n",
    "#        'SW_IN', 'SW_OUT', 'RH_1','NETRAD', 'T_CANOPY', \n",
    "#        'TA_1', 'TA_2', 'TA_3', 'TA_4', 'TA_5', 'TA_6', \n",
    "#        'WS_1', \n",
    "#        'CO2_1', 'CO2_2', 'CO2_3', 'CO2_4', 'CO2_5', 'CO2_6', \n",
    "#        'SV_OUT_1A']\n",
    "cols = ['G', 'SWC_1', 'SWC_2', 'SWC_3', 'SWC_4', 'SWC_5', 'SWC_6', \n",
    "       'TS_1', 'TS_2', 'TS_3', 'TS_4', 'TS_5',\n",
    "        'RH_1','NETRAD', 'T_CANOPY', \n",
    "       'TA_1', 'TA_2', 'TA_3', 'TA_4', 'TA_5', 'TA_6', \n",
    "       'CO2_1', 'CO2_2', 'CO2_3', 'CO2_4', 'CO2_5', 'CO2_6', \n",
    "       'SV_OUT_1A']\n",
    "df_fs = df_drought[cols].copy()\n",
    "# df_fs.head()"
   ]
  },
  {
   "cell_type": "code",
   "execution_count": 74,
   "metadata": {},
   "outputs": [
    {
     "data": {
      "text/html": [
       "<div>\n",
       "<style scoped>\n",
       "    .dataframe tbody tr th:only-of-type {\n",
       "        vertical-align: middle;\n",
       "    }\n",
       "\n",
       "    .dataframe tbody tr th {\n",
       "        vertical-align: top;\n",
       "    }\n",
       "\n",
       "    .dataframe thead th {\n",
       "        text-align: right;\n",
       "    }\n",
       "</style>\n",
       "<table border=\"1\" class=\"dataframe\">\n",
       "  <thead>\n",
       "    <tr style=\"text-align: right;\">\n",
       "      <th></th>\n",
       "      <th>G</th>\n",
       "      <th>SWC_1</th>\n",
       "      <th>SWC_2</th>\n",
       "      <th>SWC_3</th>\n",
       "      <th>SWC_4</th>\n",
       "      <th>SWC_5</th>\n",
       "      <th>SWC_6</th>\n",
       "      <th>TS_1</th>\n",
       "      <th>TS_2</th>\n",
       "      <th>TS_3</th>\n",
       "      <th>...</th>\n",
       "      <th>TA_4</th>\n",
       "      <th>TA_5</th>\n",
       "      <th>TA_6</th>\n",
       "      <th>CO2_1</th>\n",
       "      <th>CO2_2</th>\n",
       "      <th>CO2_3</th>\n",
       "      <th>CO2_4</th>\n",
       "      <th>CO2_5</th>\n",
       "      <th>CO2_6</th>\n",
       "      <th>SV_OUT_1A</th>\n",
       "    </tr>\n",
       "  </thead>\n",
       "  <tbody>\n",
       "    <tr>\n",
       "      <th>64273</th>\n",
       "      <td>-3.881333</td>\n",
       "      <td>0.365000</td>\n",
       "      <td>0.363</td>\n",
       "      <td>0.319</td>\n",
       "      <td>0.280000</td>\n",
       "      <td>0.265</td>\n",
       "      <td>0.384</td>\n",
       "      <td>26.196667</td>\n",
       "      <td>26.363333</td>\n",
       "      <td>26.503333</td>\n",
       "      <td>...</td>\n",
       "      <td>24.45</td>\n",
       "      <td>24.54</td>\n",
       "      <td>24.46</td>\n",
       "      <td>367.3</td>\n",
       "      <td>379.3</td>\n",
       "      <td>385.1</td>\n",
       "      <td>388.7</td>\n",
       "      <td>384.0</td>\n",
       "      <td>404.3</td>\n",
       "      <td>0.018381</td>\n",
       "    </tr>\n",
       "    <tr>\n",
       "      <th>64274</th>\n",
       "      <td>-4.059667</td>\n",
       "      <td>0.364667</td>\n",
       "      <td>0.363</td>\n",
       "      <td>0.320</td>\n",
       "      <td>0.280333</td>\n",
       "      <td>0.265</td>\n",
       "      <td>0.384</td>\n",
       "      <td>26.126667</td>\n",
       "      <td>26.306667</td>\n",
       "      <td>26.463333</td>\n",
       "      <td>...</td>\n",
       "      <td>24.17</td>\n",
       "      <td>24.34</td>\n",
       "      <td>24.42</td>\n",
       "      <td>370.8</td>\n",
       "      <td>380.5</td>\n",
       "      <td>386.9</td>\n",
       "      <td>392.9</td>\n",
       "      <td>385.2</td>\n",
       "      <td>408.6</td>\n",
       "      <td>0.697316</td>\n",
       "    </tr>\n",
       "    <tr>\n",
       "      <th>64275</th>\n",
       "      <td>-4.278000</td>\n",
       "      <td>0.364333</td>\n",
       "      <td>0.363</td>\n",
       "      <td>0.320</td>\n",
       "      <td>0.280333</td>\n",
       "      <td>0.265</td>\n",
       "      <td>0.384</td>\n",
       "      <td>26.060000</td>\n",
       "      <td>26.246667</td>\n",
       "      <td>26.420000</td>\n",
       "      <td>...</td>\n",
       "      <td>24.22</td>\n",
       "      <td>24.36</td>\n",
       "      <td>24.37</td>\n",
       "      <td>379.5</td>\n",
       "      <td>383.8</td>\n",
       "      <td>387.6</td>\n",
       "      <td>403.7</td>\n",
       "      <td>389.6</td>\n",
       "      <td>418.1</td>\n",
       "      <td>-0.300983</td>\n",
       "    </tr>\n",
       "    <tr>\n",
       "      <th>64276</th>\n",
       "      <td>-4.228333</td>\n",
       "      <td>0.364000</td>\n",
       "      <td>0.363</td>\n",
       "      <td>0.320</td>\n",
       "      <td>0.281000</td>\n",
       "      <td>0.265</td>\n",
       "      <td>0.384</td>\n",
       "      <td>26.003333</td>\n",
       "      <td>26.186667</td>\n",
       "      <td>26.373333</td>\n",
       "      <td>...</td>\n",
       "      <td>23.96</td>\n",
       "      <td>24.25</td>\n",
       "      <td>24.31</td>\n",
       "      <td>382.7</td>\n",
       "      <td>393.6</td>\n",
       "      <td>415.5</td>\n",
       "      <td>409.9</td>\n",
       "      <td>398.0</td>\n",
       "      <td>425.6</td>\n",
       "      <td>0.059737</td>\n",
       "    </tr>\n",
       "    <tr>\n",
       "      <th>64277</th>\n",
       "      <td>-4.386667</td>\n",
       "      <td>0.364000</td>\n",
       "      <td>0.363</td>\n",
       "      <td>0.320</td>\n",
       "      <td>0.281000</td>\n",
       "      <td>0.265</td>\n",
       "      <td>0.384</td>\n",
       "      <td>25.943333</td>\n",
       "      <td>26.140000</td>\n",
       "      <td>26.336667</td>\n",
       "      <td>...</td>\n",
       "      <td>23.70</td>\n",
       "      <td>24.00</td>\n",
       "      <td>24.21</td>\n",
       "      <td>392.4</td>\n",
       "      <td>395.9</td>\n",
       "      <td>415.4</td>\n",
       "      <td>415.8</td>\n",
       "      <td>405.0</td>\n",
       "      <td>428.3</td>\n",
       "      <td>0.590478</td>\n",
       "    </tr>\n",
       "  </tbody>\n",
       "</table>\n",
       "<p>5 rows × 28 columns</p>\n",
       "</div>"
      ],
      "text/plain": [
       "              G     SWC_1  SWC_2  SWC_3     SWC_4  SWC_5  SWC_6       TS_1  \\\n",
       "64273 -3.881333  0.365000  0.363  0.319  0.280000  0.265  0.384  26.196667   \n",
       "64274 -4.059667  0.364667  0.363  0.320  0.280333  0.265  0.384  26.126667   \n",
       "64275 -4.278000  0.364333  0.363  0.320  0.280333  0.265  0.384  26.060000   \n",
       "64276 -4.228333  0.364000  0.363  0.320  0.281000  0.265  0.384  26.003333   \n",
       "64277 -4.386667  0.364000  0.363  0.320  0.281000  0.265  0.384  25.943333   \n",
       "\n",
       "            TS_2       TS_3  ...   TA_4   TA_5   TA_6  CO2_1  CO2_2  CO2_3  \\\n",
       "64273  26.363333  26.503333  ...  24.45  24.54  24.46  367.3  379.3  385.1   \n",
       "64274  26.306667  26.463333  ...  24.17  24.34  24.42  370.8  380.5  386.9   \n",
       "64275  26.246667  26.420000  ...  24.22  24.36  24.37  379.5  383.8  387.6   \n",
       "64276  26.186667  26.373333  ...  23.96  24.25  24.31  382.7  393.6  415.5   \n",
       "64277  26.140000  26.336667  ...  23.70  24.00  24.21  392.4  395.9  415.4   \n",
       "\n",
       "       CO2_4  CO2_5  CO2_6  SV_OUT_1A  \n",
       "64273  388.7  384.0  404.3   0.018381  \n",
       "64274  392.9  385.2  408.6   0.697316  \n",
       "64275  403.7  389.6  418.1  -0.300983  \n",
       "64276  409.9  398.0  425.6   0.059737  \n",
       "64277  415.8  405.0  428.3   0.590478  \n",
       "\n",
       "[5 rows x 28 columns]"
      ]
     },
     "execution_count": 74,
     "metadata": {},
     "output_type": "execute_result"
    }
   ],
   "source": [
    "df_fs.head()"
   ]
  },
  {
   "cell_type": "code",
   "execution_count": 75,
   "metadata": {},
   "outputs": [
    {
     "data": {
      "text/plain": [
       "G             0\n",
       "SWC_1         0\n",
       "SWC_2         0\n",
       "SWC_3         0\n",
       "SWC_4         0\n",
       "SWC_5         0\n",
       "SWC_6         0\n",
       "TS_1          0\n",
       "TS_2          0\n",
       "TS_3          0\n",
       "TS_4          0\n",
       "TS_5          0\n",
       "RH_1          0\n",
       "NETRAD        0\n",
       "T_CANOPY      0\n",
       "TA_1          0\n",
       "TA_2          0\n",
       "TA_3          0\n",
       "TA_4          0\n",
       "TA_5          0\n",
       "TA_6          0\n",
       "CO2_1         4\n",
       "CO2_2         3\n",
       "CO2_3         3\n",
       "CO2_4         3\n",
       "CO2_5         2\n",
       "CO2_6         2\n",
       "SV_OUT_1A    16\n",
       "dtype: int64"
      ]
     },
     "execution_count": 75,
     "metadata": {},
     "output_type": "execute_result"
    }
   ],
   "source": [
    "df_fs.isna().sum()"
   ]
  },
  {
   "cell_type": "code",
   "execution_count": 76,
   "metadata": {},
   "outputs": [
    {
     "name": "stdout",
     "output_type": "stream",
     "text": [
      "['G', 'SWC_1', 'SWC_2', 'SWC_3', 'SWC_4', 'SWC_5', 'SWC_6', 'TS_1', 'TS_2', 'TS_3', 'TS_4', 'TS_5', 'RH_1', 'NETRAD', 'T_CANOPY', 'TA_1', 'TA_2', 'TA_3', 'TA_4', 'TA_5', 'TA_6', 'CO2_1', 'CO2_2', 'CO2_3', 'CO2_4', 'CO2_5']\n"
     ]
    }
   ],
   "source": [
    "y_list = ['SV_OUT_1A']\n",
    "cols_x = cols[:-2]\n",
    "print(cols_x)"
   ]
  },
  {
   "cell_type": "code",
   "execution_count": 77,
   "metadata": {},
   "outputs": [
    {
     "name": "stdout",
     "output_type": "stream",
     "text": [
      "['G', 'SWC_1', 'SWC_2', 'SWC_3', 'SWC_4', 'SWC_5', 'SWC_6', 'TS_1', 'TS_2', 'TS_3', 'TS_4', 'TS_5', 'RH_1', 'NETRAD', 'T_CANOPY', 'TA_1', 'TA_2', 'TA_3', 'TA_4', 'TA_5', 'TA_6', 'CO2_1', 'CO2_2', 'CO2_3', 'CO2_4', 'CO2_5', 'CO2_6', 'SV_OUT_1A']\n"
     ]
    }
   ],
   "source": [
    "print(list(df_fs))"
   ]
  },
  {
   "cell_type": "code",
   "execution_count": 78,
   "metadata": {},
   "outputs": [
    {
     "data": {
      "text/plain": [
       "(1419, 28)"
      ]
     },
     "execution_count": 78,
     "metadata": {},
     "output_type": "execute_result"
    }
   ],
   "source": [
    "df_ml = df_fs.dropna(axis = 0,how = 'any')\n",
    "df_ml.shape"
   ]
  },
  {
   "cell_type": "code",
   "execution_count": 79,
   "metadata": {},
   "outputs": [],
   "source": [
    "# df_ml.to_pickle('SapVelocity_ML_Drought.pkl')"
   ]
  },
  {
   "cell_type": "code",
   "execution_count": 80,
   "metadata": {},
   "outputs": [
    {
     "name": "stdout",
     "output_type": "stream",
     "text": [
      "['G', 'SWC_1', 'SWC_2', 'SWC_3', 'SWC_4', 'SWC_5', 'SWC_6', 'TS_1', 'TS_2', 'TS_3', 'TS_4', 'TS_5', 'RH_1', 'NETRAD', 'T_CANOPY', 'TA_1', 'TA_2', 'TA_3', 'TA_4', 'TA_5', 'TA_6', 'CO2_1', 'CO2_2', 'CO2_3', 'CO2_4', 'CO2_5', 'CO2_6', 'SV_OUT_1A']\n"
     ]
    }
   ],
   "source": [
    "print(list(df_ml))"
   ]
  },
  {
   "cell_type": "markdown",
   "metadata": {},
   "source": [
    "# Machine Learning Models"
   ]
  },
  {
   "cell_type": "code",
   "execution_count": 81,
   "metadata": {},
   "outputs": [],
   "source": [
    "X_org = df_ml.drop(['SV_OUT_1A'],axis = 1)\n",
    "y_org = df_ml['SV_OUT_1A']"
   ]
  },
  {
   "cell_type": "code",
   "execution_count": 82,
   "metadata": {},
   "outputs": [],
   "source": [
    "from sklearn import preprocessing\n",
    "lab_enc = preprocessing.LabelEncoder()\n",
    "y_encoded = lab_enc.fit_transform(y_org)"
   ]
  },
  {
   "cell_type": "markdown",
   "metadata": {},
   "source": [
    "# Feature Importance "
   ]
  },
  {
   "cell_type": "code",
   "execution_count": 83,
   "metadata": {},
   "outputs": [
    {
     "name": "stdout",
     "output_type": "stream",
     "text": [
      "[0.0422725  0.03319582 0.02980553 0.02561131 0.02746322 0.02573331\n",
      " 0.01886092 0.03807544 0.04136985 0.04179584 0.03864972 0.03801924\n",
      " 0.04547432 0.05016894 0.03794458 0.03568867 0.03565424 0.03546086\n",
      " 0.03696197 0.03670463 0.03864356 0.04167613 0.0384089  0.04026186\n",
      " 0.03989641 0.03752883 0.0486734 ]\n"
     ]
    },
    {
     "data": {
      "image/png": "[encoded data removed]",
      "text/plain": [
       "<Figure size 432x288 with 1 Axes>"
      ]
     },
     "metadata": {
      "needs_background": "light"
     },
     "output_type": "display_data"
    },
    {
     "name": "stdout",
     "output_type": "stream",
     "text": [
      "Feature ranking:\n",
      "1. feature 13 (0.050169)\n",
      "2. feature 26 (0.048673)\n",
      "3. feature 12 (0.045474)\n",
      "4. feature 0 (0.042272)\n",
      "5. feature 9 (0.041796)\n",
      "6. feature 21 (0.041676)\n",
      "7. feature 8 (0.041370)\n",
      "8. feature 23 (0.040262)\n",
      "9. feature 24 (0.039896)\n",
      "10. feature 10 (0.038650)\n",
      "11. feature 20 (0.038644)\n",
      "12. feature 22 (0.038409)\n",
      "13. feature 7 (0.038075)\n",
      "14. feature 11 (0.038019)\n",
      "15. feature 14 (0.037945)\n",
      "16. feature 25 (0.037529)\n",
      "17. feature 18 (0.036962)\n",
      "18. feature 19 (0.036705)\n",
      "19. feature 15 (0.035689)\n",
      "20. feature 16 (0.035654)\n",
      "21. feature 17 (0.035461)\n",
      "22. feature 1 (0.033196)\n",
      "23. feature 2 (0.029806)\n",
      "24. feature 4 (0.027463)\n",
      "25. feature 5 (0.025733)\n",
      "26. feature 3 (0.025611)\n",
      "27. feature 6 (0.018861)\n"
     ]
    },
    {
     "data": {
      "image/png": "[encoded data removed]",
      "text/plain": [
       "<Figure size 432x288 with 1 Axes>"
      ]
     },
     "metadata": {
      "needs_background": "light"
     },
     "output_type": "display_data"
    }
   ],
   "source": [
    "from sklearn.ensemble import ExtraTreesClassifier\n",
    "from sklearn.ensemble import RandomForestClassifier\n",
    "from sklearn.ensemble import GradientBoostingClassifier\n",
    "forest = RandomForestClassifier()\n",
    "forest.fit(X_org,y_encoded)\n",
    "print(forest.feature_importances_)\n",
    "feat_importances = pd.Series(forest.feature_importances_, index=X_org.columns)\n",
    "feat_importances.nlargest(10).plot(kind='barh')\n",
    "plt.show()\n",
    "\n",
    "importances = forest.feature_importances_\n",
    "std = np.std([tree.feature_importances_ for tree in forest.estimators_],\n",
    "             axis=0)\n",
    "indices = np.argsort(importances)[::-1]\n",
    "\n",
    "# Print the feature ranking\n",
    "print(\"Feature ranking:\")\n",
    "\n",
    "for f in range(X_org.shape[1]):\n",
    "    print(\"%d. feature %d (%f)\" % (f + 1, indices[f], importances[indices[f]]))\n",
    "\n",
    "# Plot the feature importances of the forest\n",
    "plt.figure()\n",
    "# plt.title(\"Feature importances\")\n",
    "plt.bar(range(X_org.shape[1]), importances[indices],\n",
    "       color=\"r\", yerr=std[indices], align=\"center\")\n",
    "plt.xticks(range(X_org.shape[1]), indices)\n",
    "plt.xlim([-1, X_org.shape[1]])\n",
    "plt.ylabel(\"Importances\")\n",
    "plt.show()"
   ]
  },
  {
   "cell_type": "code",
   "execution_count": 84,
   "metadata": {
    "scrolled": true
   },
   "outputs": [
    {
     "data": {
      "image/png": "[encoded data removed]",
      "text/plain": [
       "<Figure size 1440x432 with 1 Axes>"
      ]
     },
     "metadata": {
      "needs_background": "light"
     },
     "output_type": "display_data"
    }
   ],
   "source": [
    "# Plot the feature importances of the forest\n",
    "plt.figure(figsize = (20,6))\n",
    "# plt.title(\"ET Feature importances\")\n",
    "barlist = plt.bar(range(X_org.shape[1]), importances[indices],\n",
    "       color=\"g\", yerr=std[indices], align=\"center\")\n",
    "for i in range(5):\n",
    "    barlist[i].set_color('r')\n",
    "for i in range(6):\n",
    "    barlist[-(i+1)].set_color('b')\n",
    "plt.xticks(range(X_org.shape[1]), X_org.columns[indices])\n",
    "plt.xlim([-1, X_org.shape[1]])\n",
    "plt.ylabel(\"Importances\")\n",
    "plt.show()"
   ]
  },
  {
   "cell_type": "code",
   "execution_count": null,
   "metadata": {},
   "outputs": [],
   "source": [
    "feat_importances"
   ]
  },
  {
   "cell_type": "markdown",
   "metadata": {},
   "source": [
    "# Feature Selection"
   ]
  },
  {
   "cell_type": "markdown",
   "metadata": {},
   "source": [
    "Model-based Feature Selection"
   ]
  },
  {
   "cell_type": "code",
   "execution_count": null,
   "metadata": {},
   "outputs": [],
   "source": [
    "from sklearn.ensemble import GradientBoostingRegressor\n",
    "from sklearn.feature_selection import SelectFromModel\n",
    "# X.shape\n",
    "\n",
    "clf = GradientBoostingRegressor(n_estimators=100, learning_rate=0.1,max_depth=1, random_state=0, loss='ls')\n",
    "clf = clf.fit(X_org, y_org)\n",
    "clf.feature_importances_  \n",
    "\n",
    "model = SelectFromModel(clf, prefit=True)\n",
    "X_new = model.transform(X_org)\n",
    "y_new = y_org\n",
    "# X_new.shape   \n",
    "\n",
    "cols = model.get_support(indices=True)\n",
    "# Create new dataframe with only desired columns, or overwrite existing\n",
    "new_features = X_org.columns[cols]\n",
    "print(list(new_features))"
   ]
  },
  {
   "cell_type": "code",
   "execution_count": null,
   "metadata": {},
   "outputs": [],
   "source": []
  },
  {
   "cell_type": "code",
   "execution_count": null,
   "metadata": {},
   "outputs": [],
   "source": [
    "# # Feature Selection\n",
    "# # Automatic Fearture Selection\n",
    "# from sklearn.feature_selection import SelectPercentile\n",
    "# rng = np.random.RandomState(42)\n",
    "# noise_train = rng.normal(size=(len(X_train_prefs), 50))\n",
    "# X_train_noise = np.hstack([X_train_prefs, noise_train])\n",
    "# noise_test = rng.normal(size=(len(X_test_prefs), 50))\n",
    "# X_test_noise = np.hstack([X_test_prefs, noise_test])\n",
    "\n",
    "# select = SelectPercentile(percentile=10)\n",
    "# select.fit(X_train_noise, y_train)\n",
    "\n",
    "# # transform training set\n",
    "# X_train1 = select.transform(X_train_noise)\n",
    "# # transform test data\n",
    "# X_test1 = select.transform(X_test_noise)\n",
    "\n",
    "# print(\"X_train.shape: {}\".format(X_train_noise.shape))\n",
    "# print(\"X_train_selected.shape: {}\".format(X_train1.shape))"
   ]
  },
  {
   "cell_type": "markdown",
   "metadata": {},
   "source": [
    "Split train and test data"
   ]
  },
  {
   "cell_type": "markdown",
   "metadata": {},
   "source": [
    "1. assign datasets for ML models"
   ]
  },
  {
   "cell_type": "code",
   "execution_count": null,
   "metadata": {},
   "outputs": [],
   "source": [
    "X = X_new\n",
    "y = y_new"
   ]
  },
  {
   "cell_type": "code",
   "execution_count": null,
   "metadata": {},
   "outputs": [],
   "source": [
    "# Split train and test data\n",
    "from sklearn.model_selection import train_test_split\n",
    "X_train_pre, X_test_pre, y_train, y_test = train_test_split(X, y)"
   ]
  },
  {
   "cell_type": "code",
   "execution_count": null,
   "metadata": {},
   "outputs": [],
   "source": [
    "# Preprocessing & Normalization\n",
    "from sklearn.preprocessing import MinMaxScaler, StandardScaler\n",
    "scaler = StandardScaler()\n",
    "scaler.fit(X_train_pre)\n",
    "# Train and Test data before feature selection\n",
    "X_train_prefs = scaler.transform(X_train_pre)\n",
    "X_test_prefs = scaler.transform(X_test_pre)"
   ]
  },
  {
   "cell_type": "markdown",
   "metadata": {},
   "source": [
    "Train and Test Data"
   ]
  },
  {
   "cell_type": "code",
   "execution_count": null,
   "metadata": {},
   "outputs": [],
   "source": [
    "X_train = X_train_prefs\n",
    "X_test = X_test_prefs"
   ]
  },
  {
   "cell_type": "markdown",
   "metadata": {},
   "source": [
    "# Simple ML Regressors"
   ]
  },
  {
   "cell_type": "markdown",
   "metadata": {},
   "source": [
    "k-neighbors regression"
   ]
  },
  {
   "cell_type": "code",
   "execution_count": null,
   "metadata": {},
   "outputs": [],
   "source": [
    "# k-neighbors regression\n",
    "from sklearn.neighbors import KNeighborsRegressor\n",
    "knr = KNeighborsRegressor(n_neighbors=6)\n",
    "\n",
    "visualizer1 = PredictionError(knr)\n",
    "visualizer1.fit(X_train, y_train)  # Fit the training data to the visualizer\n",
    "visualizer1.score(X_test, y_test)  # Evaluate the model on the test data\n",
    "visualizer1.show()   "
   ]
  },
  {
   "cell_type": "code",
   "execution_count": null,
   "metadata": {},
   "outputs": [],
   "source": [
    "visualizer2 = ResidualsPlot(knr)\n",
    "visualizer2.fit(X_train, y_train)  # Fit the training data to the visualizer\n",
    "visualizer2.score(X_test, y_test)  # Evaluate the model on the test data\n",
    "visualizer2.show()"
   ]
  },
  {
   "cell_type": "markdown",
   "metadata": {},
   "source": [
    "Linear Regression"
   ]
  },
  {
   "cell_type": "code",
   "execution_count": null,
   "metadata": {},
   "outputs": [],
   "source": [
    "# Linear Regression\n",
    "from sklearn.linear_model import LinearRegression\n",
    "lr = LinearRegression()\n",
    "lr.fit(X_train,y_train)\n",
    "feat_importances = lr.feature_importances_\n",
    "print(feat_importances)\n",
    "visualizer1 = PredictionError(lr)\n",
    "visualizer1.fit(X_train, y_train)  # Fit the training data to the visualizer\n",
    "visualizer1.score(X_test, y_test)  # Evaluate the model on the test data\n",
    "visualizer1.show()   "
   ]
  },
  {
   "cell_type": "code",
   "execution_count": null,
   "metadata": {},
   "outputs": [],
   "source": [
    "visualizer2 = ResidualsPlot(lr)\n",
    "visualizer2.fit(X_train, y_train)  # Fit the training data to the visualizer\n",
    "visualizer2.score(X_test, y_test)  # Evaluate the model on the test data\n",
    "visualizer2.show()"
   ]
  },
  {
   "cell_type": "markdown",
   "metadata": {},
   "source": [
    "Ridge Regression"
   ]
  },
  {
   "cell_type": "code",
   "execution_count": null,
   "metadata": {},
   "outputs": [],
   "source": [
    "from sklearn.linear_model import Ridge\n",
    "rr = Ridge(alpha = 5)\n",
    "\n",
    "visualizer1 = PredictionError(rr)\n",
    "visualizer1.fit(X_train, y_train)  # Fit the training data to the visualizer\n",
    "visualizer1.score(X_test, y_test)  # Evaluate the model on the test data\n",
    "visualizer1.show()  "
   ]
  },
  {
   "cell_type": "code",
   "execution_count": null,
   "metadata": {},
   "outputs": [],
   "source": [
    "visualizer2 = ResidualsPlot(rr)\n",
    "visualizer2.fit(X_train, y_train)  # Fit the training data to the visualizer\n",
    "visualizer2.score(X_test, y_test)  # Evaluate the model on the test data\n",
    "visualizer2.show()"
   ]
  },
  {
   "cell_type": "markdown",
   "metadata": {},
   "source": [
    "Lasso"
   ]
  },
  {
   "cell_type": "code",
   "execution_count": null,
   "metadata": {},
   "outputs": [],
   "source": [
    "from sklearn.linear_model import Lasso\n",
    "lsr = Lasso(alpha = 0.01, max_iter=10000)\n",
    "visualizer1 = PredictionError(lsr)\n",
    "visualizer1.fit(X_train, y_train)  # Fit the training data to the visualizer\n",
    "visualizer1.score(X_test, y_test)  # Evaluate the model on the test data\n",
    "visualizer1.show()  "
   ]
  },
  {
   "cell_type": "code",
   "execution_count": null,
   "metadata": {},
   "outputs": [],
   "source": [
    "visualizer2 = ResidualsPlot(lsr)\n",
    "visualizer2.fit(X_train, y_train)  # Fit the training data to the visualizer\n",
    "visualizer2.score(X_test, y_test)  # Evaluate the model on the test data\n",
    "visualizer2.show()"
   ]
  },
  {
   "cell_type": "markdown",
   "metadata": {},
   "source": [
    "Decision Tree"
   ]
  },
  {
   "cell_type": "code",
   "execution_count": null,
   "metadata": {},
   "outputs": [],
   "source": [
    "# Decision Tree Regressor\n",
    "from sklearn.tree import DecisionTreeRegressor\n",
    "dtr = DecisionTreeRegressor(max_depth = 5)\n",
    "\n",
    "visualizer1 = PredictionError(dtr)\n",
    "visualizer1.fit(X_train, y_train)  # Fit the training data to the visualizer\n",
    "visualizer1.score(X_test, y_test)  # Evaluate the model on the test data\n",
    "visualizer1.show()"
   ]
  },
  {
   "cell_type": "code",
   "execution_count": null,
   "metadata": {},
   "outputs": [],
   "source": [
    "visualizer2 = ResidualsPlot(dtr)\n",
    "visualizer2.fit(X_train, y_train)  # Fit the training data to the visualizer\n",
    "visualizer2.score(X_test, y_test)  # Evaluate the model on the test data\n",
    "visualizer2.show()"
   ]
  },
  {
   "cell_type": "markdown",
   "metadata": {},
   "source": [
    "Random Forest"
   ]
  },
  {
   "cell_type": "code",
   "execution_count": null,
   "metadata": {},
   "outputs": [],
   "source": [
    "# Random Forest Regressor\n",
    "from sklearn.ensemble import RandomForestRegressor\n",
    "rfr = RandomForestRegressor(max_depth=3, random_state=0,n_estimators=1000)\n",
    "\n",
    "visualizer1 = PredictionError(rfr)\n",
    "visualizer1.fit(X_train, y_train)  # Fit the training data to the visualizer\n",
    "visualizer1.score(X_test, y_test)  # Evaluate the model on the test data\n",
    "visualizer1.show()  "
   ]
  },
  {
   "cell_type": "code",
   "execution_count": null,
   "metadata": {},
   "outputs": [],
   "source": [
    "visualizer2 = ResidualsPlot(rfr)\n",
    "visualizer2.fit(X_train, y_train)  # Fit the training data to the visualizer\n",
    "visualizer2.score(X_test, y_test)  # Evaluate the model on the test data\n",
    "visualizer2.show()"
   ]
  },
  {
   "cell_type": "markdown",
   "metadata": {},
   "source": [
    "Support Vector Machines"
   ]
  },
  {
   "cell_type": "code",
   "execution_count": null,
   "metadata": {},
   "outputs": [],
   "source": [
    "from sklearn.svm import SVR\n",
    "# svmr = SVR(gamma = 'scale',C = 1.0, epsilon = 0.2)\n",
    "svmr = SVR(kernel='linear', gamma='auto')\n",
    "\n",
    "visualizer1 = PredictionError(svmr)\n",
    "visualizer1.fit(X_train, y_train)  # Fit the training data to the visualizer\n",
    "visualizer1.score(X_test, y_test)  # Evaluate the model on the test data\n",
    "visualizer1.show()  "
   ]
  },
  {
   "cell_type": "code",
   "execution_count": null,
   "metadata": {},
   "outputs": [],
   "source": [
    "visualizer2 = ResidualsPlot(svmr)\n",
    "visualizer2.fit(X_train, y_train)  # Fit the training data to the visualizer\n",
    "visualizer2.score(X_test, y_test)  # Evaluate the model on the test data\n",
    "visualizer2.show()"
   ]
  },
  {
   "cell_type": "markdown",
   "metadata": {},
   "source": [
    "Stochastic gradient descent regressor"
   ]
  },
  {
   "cell_type": "code",
   "execution_count": null,
   "metadata": {},
   "outputs": [],
   "source": [
    "from sklearn import linear_model\n",
    "sgdr = linear_model.SGDRegressor(max_iter=1000, tol=1e-3)\n",
    "\n",
    "visualizer1 = PredictionError(sgdr)\n",
    "visualizer1.fit(X_train, y_train)  # Fit the training data to the visualizer\n",
    "visualizer1.score(X_test, y_test)  # Evaluate the model on the test data\n",
    "visualizer1.show()  "
   ]
  },
  {
   "cell_type": "code",
   "execution_count": null,
   "metadata": {},
   "outputs": [],
   "source": [
    "visualizer2 = ResidualsPlot(sgdr)\n",
    "visualizer2.fit(X_train, y_train)  # Fit the training data to the visualizer\n",
    "visualizer2.score(X_test, y_test)  # Evaluate the model on the test data\n",
    "visualizer2.show()"
   ]
  },
  {
   "cell_type": "markdown",
   "metadata": {},
   "source": [
    "Shallow Neural Networks"
   ]
  },
  {
   "cell_type": "code",
   "execution_count": null,
   "metadata": {},
   "outputs": [],
   "source": [
    "# Shallow Neural Networks\n",
    "from sklearn.neural_network import MLPRegressor\n",
    "mlpr = MLPRegressor()\n",
    "\n",
    "visualizer1 = PredictionError(mlpr)\n",
    "visualizer1.fit(X_train, y_train)  # Fit the training data to the visualizer\n",
    "visualizer1.score(X_test, y_test)  # Evaluate the model on the test data\n",
    "visualizer1.show()  "
   ]
  },
  {
   "cell_type": "code",
   "execution_count": null,
   "metadata": {},
   "outputs": [],
   "source": [
    "visualizer2 = ResidualsPlot(mlpr)\n",
    "visualizer2.fit(X_train, y_train)  # Fit the training data to the visualizer\n",
    "visualizer2.score(X_test, y_test)  # Evaluate the model on the test data\n",
    "visualizer2.show()"
   ]
  },
  {
   "cell_type": "code",
   "execution_count": null,
   "metadata": {},
   "outputs": [],
   "source": []
  }
 ],
 "metadata": {
  "kernelspec": {
   "display_name": "Python 3",
   "language": "python",
   "name": "python3"
  },
  "language_info": {
   "codemirror_mode": {
    "name": "ipython",
    "version": 3
   },
   "file_extension": ".py",
   "mimetype": "text/x-python",
   "name": "python",
   "nbconvert_exporter": "python",
   "pygments_lexer": "ipython3",
   "version": "3.7.3"
  }
 },
 "nbformat": 4,
 "nbformat_minor": 2
}
