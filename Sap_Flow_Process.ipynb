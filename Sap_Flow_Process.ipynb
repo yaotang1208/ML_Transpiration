{
 "cells": [
  {
   "cell_type": "code",
   "execution_count": 1,
   "metadata": {},
   "outputs": [],
   "source": [
    "import numpy as np\n",
    "import pandas as pd\n",
    "import matplotlib.pyplot as plt\n",
    "import matplotlib.dates as mdates\n",
    "import seaborn as sns\n",
    "import warnings\n",
    "\n",
    "from datetime import datetime, date,timedelta\n",
    "from matplotlib import gridspec\n",
    "from matplotlib import cm\n",
    "\n",
    "warnings.filterwarnings('ignore')\n",
    "%matplotlib inline"
   ]
  },
  {
   "cell_type": "code",
   "execution_count": 10,
   "metadata": {},
   "outputs": [],
   "source": [
    "FILE_1A_15 = 'ZF2 tree 1 Sap Velocity (Position A) - 2015.csv'\n",
    "FILE_1A_16 = 'ZF2 tree 1 Sap Velocity (Position A) - 2016.csv'\n",
    "FILE_1B_16 = 'ZF2 tree 1 Sap Velocity (Position B) - 2016.csv'\n",
    "FILE_2A_15 = 'ZF2 tree 2 Sap Velocity (Position A) - 2015.csv'\n",
    "FILE_2A_16 = 'ZF2 tree 2 Sap Velocity (Position A) - 2016.csv'\n",
    "FILE_2B_16 = 'ZF2 tree 2 Sap Velocity (Position B) - 2016.csv'\n",
    "FILE_3A_15 = 'ZF2 tree 3 Sap Velocity (Position A) - 2015.csv'\n",
    "FILE_3A_16 = 'ZF2 tree 3 Sap Velocity (Position A) - 2016.csv'\n",
    "FILE_3B_16 = 'ZF2 tree 3 Sap Velocity (Position B) - 2016.csv'\n",
    "FILE_4A_15 = 'ZF2 tree 4 Sap Velocity (Position A) - 2015.csv'\n",
    "FILE_5A_15 = 'ZF2 tree 5 Sap Velocity (Position A) - 2015.csv'\n",
    "FILE_5A_16 = 'ZF2 tree 5 Sap Velocity (Position A) - 2016.csv'\n",
    "FILE_5B_16 = 'ZF2 tree 5 Sap Velocity (Position B) - 2016.csv'\n",
    "FILE_6A_16 = 'ZF2 tree 6 Sap Velocity (Position A) - 2016.csv'\n",
    "FILE_7A_16 = 'ZF2 tree 7 Sap Velocity (Position A) - 2016.csv'\n",
    "FILE_8A_16 = 'ZF2 tree 8 Sap Velocity (Position A) - 2016.csv'\n",
    "FILE_9A_16 = 'ZF2 tree 9 Sap Velocity (Position A) - 2016.csv'"
   ]
  },
  {
   "cell_type": "code",
   "execution_count": 3,
   "metadata": {},
   "outputs": [],
   "source": [
    "#1A\n",
    "df_1A_15 = pd.read_csv(FILE_1A_15,header = None, \n",
    "                       names = ['TIMESTAMP','DOY','SV_IN_1A','SV_OUT_1A','SV_MEAN_1A'],skiprows = 2,na_values='')\n",
    "df_1A_16 = pd.read_csv(FILE_1A_16,header = None, \n",
    "                       names = ['TIMESTAMP','DOY','SV_IN_1A','SV_OUT_1A','SV_MEAN_1A'],skiprows = 2,na_values='')\n",
    "df_1A = pd.concat([df_1A_15,df_1A_16])\n",
    "df_1A.dropna(0,how='all',inplace=True)\n",
    "df_1A['TIMESTAMP'] = [datetime.strptime(i,'%m/%d/%Y %H:%M') for i in df_1A['TIMESTAMP']]\n",
    "df_1A.drop(columns=['DOY'],inplace = True)\n",
    "# df_1A.head()\n",
    "#1B\n",
    "df_1B = pd.read_csv(FILE_1B_16,header = None, \n",
    "                       names = ['TIMESTAMP','DOY','SV_IN_1B','SV_OUT_1B','SV_MEAN_1B'],skiprows = 2,na_values='')\n",
    "df_1B.dropna(0,how='all',inplace=True)\n",
    "df_1B['TIMESTAMP'] = [datetime.strptime(i,'%m/%d/%Y %H:%M') for i in df_1B['TIMESTAMP']]\n",
    "df_1B.drop(columns=['DOY'],inplace = True)"
   ]
  },
  {
   "cell_type": "code",
   "execution_count": null,
   "metadata": {},
   "outputs": [],
   "source": []
  },
  {
   "cell_type": "code",
   "execution_count": 4,
   "metadata": {},
   "outputs": [],
   "source": [
    "#2\n",
    "#A\n",
    "df_2A_15 = pd.read_csv(FILE_2A_15,header = None, \n",
    "                       names = ['TIMESTAMP','DOY','SV_IN_2A','SV_OUT_2A','SV_MEAN_2A'],skiprows = 2,na_values='')\n",
    "df_2A_16 = pd.read_csv(FILE_2A_16,header = None, \n",
    "                       names = ['TIMESTAMP','DOY','SV_IN_2A','SV_OUT_2A','SV_MEAN_2A'],skiprows = 2,na_values='')\n",
    "df_2A = pd.concat([df_2A_15,df_2A_16])\n",
    "df_2A.dropna(0,how='all',inplace=True)\n",
    "df_2A['TIMESTAMP'] = [datetime.strptime(i,'%m/%d/%Y %H:%M') for i in df_2A['TIMESTAMP']]\n",
    "df_2A.drop(columns=['DOY'],inplace = True)\n",
    "\n",
    "#B\n",
    "df_2B = pd.read_csv(FILE_2B_16,header = None, \n",
    "                       names = ['TIMESTAMP','DOY','SV_IN_2B','SV_OUT_2B','SV_MEAN_2B'],skiprows = 2,na_values='')\n",
    "df_2B.dropna(0,how='all',inplace=True)\n",
    "df_2B['TIMESTAMP'] = [datetime.strptime(i,'%m/%d/%Y %H:%M') for i in df_2B['TIMESTAMP']]\n",
    "df_2B.drop(columns=['DOY'],inplace = True)"
   ]
  },
  {
   "cell_type": "code",
   "execution_count": 5,
   "metadata": {},
   "outputs": [],
   "source": [
    "#3\n",
    "#A\n",
    "df_3A_15 = pd.read_csv(FILE_3A_15,header = None, \n",
    "                       names = ['TIMESTAMP','DOY','SV_IN_3A','SV_OUT_3A','SV_MEAN_3A'],skiprows = 2,na_values='')\n",
    "df_3A_16 = pd.read_csv(FILE_3A_16,header = None, \n",
    "                       names = ['TIMESTAMP','DOY','SV_IN_3A','SV_OUT_3A','SV_MEAN_3A'],skiprows = 2,na_values='')\n",
    "df_3A = pd.concat([df_3A_15,df_3A_16])\n",
    "df_3A.dropna(0,how='all',inplace=True)\n",
    "df_3A['TIMESTAMP'] = [datetime.strptime(i,'%m/%d/%Y %H:%M') for i in df_3A['TIMESTAMP']]\n",
    "df_3A.drop(columns=['DOY'],inplace = True)\n",
    "\n",
    "#B\n",
    "df_3B = pd.read_csv(FILE_3B_16,header = None, \n",
    "                       names = ['TIMESTAMP','DOY','SV_IN_3B','SV_OUT_3B','SV_MEAN_3B'],skiprows = 2,na_values='')\n",
    "df_3B.dropna(0,how='all',inplace=True)\n",
    "df_3B['TIMESTAMP'] = [datetime.strptime(i,'%m/%d/%Y %H:%M') for i in df_3B['TIMESTAMP']]\n",
    "df_3B.drop(columns=['DOY'],inplace = True)"
   ]
  },
  {
   "cell_type": "code",
   "execution_count": 6,
   "metadata": {},
   "outputs": [],
   "source": [
    "#4A\n",
    "df_4A = pd.read_csv(FILE_4A_15,header = None, \n",
    "                       names = ['TIMESTAMP','DOY','SV_IN_4A','SV_OUT_4A','SV_MEAN_4A'],skiprows = 2,na_values='')\n",
    "df_4A.dropna(0,how='all',inplace=True)\n",
    "df_4A['TIMESTAMP'] = [datetime.strptime(i,'%m/%d/%Y %H:%M') for i in df_4A['TIMESTAMP']]\n",
    "df_4A.drop(columns=['DOY'],inplace = True)"
   ]
  },
  {
   "cell_type": "code",
   "execution_count": 7,
   "metadata": {},
   "outputs": [],
   "source": [
    "#5\n",
    "#A\n",
    "df_5A_15 = pd.read_csv(FILE_5A_15,header = None, \n",
    "                       names = ['TIMESTAMP','DOY','SV_IN_5A','SV_OUT_5A','SV_MEAN_5A'],skiprows = 2,na_values='')\n",
    "df_5A_16 = pd.read_csv(FILE_5A_16,header = None, \n",
    "                       names = ['TIMESTAMP','DOY','SV_IN_5A','SV_OUT_5A','SV_MEAN_5A'],skiprows = 2,na_values='')\n",
    "df_5A = pd.concat([df_5A_15,df_5A_16])\n",
    "df_5A.dropna(0,how='all',inplace=True)\n",
    "df_5A['TIMESTAMP'] = [datetime.strptime(i,'%m/%d/%Y %H:%M') for i in df_5A['TIMESTAMP']]\n",
    "df_5A.drop(columns=['DOY'],inplace = True)\n",
    "\n",
    "#B\n",
    "df_5B = pd.read_csv(FILE_5B_16,header = None, \n",
    "                       names = ['TIMESTAMP','DOY','SV_IN_5B','SV_OUT_5B','SV_MEAN_5B'],skiprows = 2,na_values='')\n",
    "df_5B.dropna(0,how='all',inplace=True)\n",
    "df_5B['TIMESTAMP'] = [datetime.strptime(i,'%m/%d/%Y %H:%M') for i in df_5B['TIMESTAMP']]\n",
    "df_5B.drop(columns=['DOY'],inplace = True)"
   ]
  },
  {
   "cell_type": "code",
   "execution_count": 8,
   "metadata": {},
   "outputs": [],
   "source": [
    "#6A\n",
    "df_6A = pd.read_csv(FILE_6A_16,header = None, \n",
    "                       names = ['TIMESTAMP','DOY','SV_IN_6A','SV_OUT_6A','SV_MEAN_6A'],skiprows = 2,na_values='')\n",
    "df_6A.dropna(0,how='all',inplace=True)\n",
    "df_6A['TIMESTAMP'] = [datetime.strptime(i,'%m/%d/%Y %H:%M') for i in df_6A['TIMESTAMP']]\n",
    "df_6A.drop(columns=['DOY'],inplace = True)"
   ]
  },
  {
   "cell_type": "code",
   "execution_count": 11,
   "metadata": {},
   "outputs": [],
   "source": [
    "#7A\n",
    "df_7A = pd.read_csv(FILE_7A_16,header = None, \n",
    "                       names = ['TIMESTAMP','DOY','SV_IN_7A','SV_OUT_7A','SV_MEAN_7A'],skiprows = 2,na_values='')\n",
    "df_7A.dropna(0,how='all',inplace=True)\n",
    "df_7A['TIMESTAMP'] = [datetime.strptime(i,'%m/%d/%Y %H:%M') for i in df_7A['TIMESTAMP']]\n",
    "df_7A.drop(columns=['DOY'],inplace = True)"
   ]
  },
  {
   "cell_type": "code",
   "execution_count": 12,
   "metadata": {},
   "outputs": [],
   "source": [
    "#8A\n",
    "df_8A = pd.read_csv(FILE_8A_16,header = None, \n",
    "                       names = ['TIMESTAMP','DOY','SV_IN_8A','SV_OUT_8A','SV_MEAN_8A'],skiprows = 2,na_values='')\n",
    "df_8A.dropna(0,how='all',inplace=True)\n",
    "df_8A['TIMESTAMP'] = [datetime.strptime(i,'%m/%d/%Y %H:%M') for i in df_8A['TIMESTAMP']]\n",
    "df_8A.drop(columns=['DOY'],inplace = True)"
   ]
  },
  {
   "cell_type": "code",
   "execution_count": 13,
   "metadata": {},
   "outputs": [],
   "source": [
    "#9A\n",
    "df_9A = pd.read_csv(FILE_9A_16,header = None, \n",
    "                       names = ['TIMESTAMP','DOY','SV_IN_9A','SV_OUT_9A','SV_MEAN_9A'],skiprows = 2,na_values='')\n",
    "df_9A.dropna(0,how='all',inplace=True)\n",
    "df_9A['TIMESTAMP'] = [datetime.strptime(i,'%m/%d/%Y %H:%M') for i in df_9A['TIMESTAMP']]\n",
    "df_9A.drop(columns=['DOY'],inplace = True)"
   ]
  },
  {
   "cell_type": "code",
   "execution_count": null,
   "metadata": {},
   "outputs": [],
   "source": [
    "# df_1A_16.head()"
   ]
  },
  {
   "cell_type": "code",
   "execution_count": null,
   "metadata": {},
   "outputs": [],
   "source": [
    "# df_1A_15 ['TIMESTAMP'] = [datetime.strptime(i,'%m/%d/%Y %H:%M').strftime('%Y%m%d%H%M') for i in df_1A_15 ['TIMESTAMP']]\n",
    "# df_1A['TIMESTAMP'] = [datetime.strptime(i,'%m/%d/%Y %H:%M') for i in df_1A['TIMESTAMP']]\n",
    "# df_1A_16['TIMESTAMP'] = [datetime.strptime(i,'%m/%d/%Y %H:%M') for i in df_1A_16['TIMESTAMP']]\n",
    "# df_1A.head()"
   ]
  },
  {
   "cell_type": "code",
   "execution_count": null,
   "metadata": {},
   "outputs": [],
   "source": [
    "# df_1A_16.head()"
   ]
  },
  {
   "cell_type": "code",
   "execution_count": null,
   "metadata": {},
   "outputs": [],
   "source": [
    "# df_1A.drop(columns=['DOY'],inplace = True)\n",
    "# df_1A.head()"
   ]
  },
  {
   "cell_type": "code",
   "execution_count": null,
   "metadata": {},
   "outputs": [],
   "source": [
    "# df_1A_16.drop(columns=['DOY'],inplace = True)\n",
    "# df_1A_16.head()"
   ]
  },
  {
   "cell_type": "code",
   "execution_count": null,
   "metadata": {},
   "outputs": [],
   "source": [
    "# df_1A = pd.concat([df_1A_15,df_1A_16])"
   ]
  },
  {
   "cell_type": "code",
   "execution_count": null,
   "metadata": {},
   "outputs": [],
   "source": [
    "# df_1A_15.TIMESTAMP.head()"
   ]
  },
  {
   "cell_type": "code",
   "execution_count": 14,
   "metadata": {},
   "outputs": [],
   "source": [
    "var_list = ['TIMESTAMP','DOY']"
   ]
  },
  {
   "cell_type": "code",
   "execution_count": null,
   "metadata": {},
   "outputs": [],
   "source": [
    "# var_list = ['TIMESTAMP','DOY',\n",
    "#             'SV_IN_1A','SV_OUT_1A','SV_MEAN_1A',\n",
    "#             'SV_IN_1B','SV_OUT_1B','SV_MEAN_1B',\n",
    "#             'SV_IN_2A','SV_OUT_2A','SV_MEAN_2A',\n",
    "#             'SV_IN_2B','SV_OUT_2B','SV_MEAN_2B',\n",
    "#             'SV_IN_3A','SV_OUT_3A','SV_MEAN_3A',\n",
    "#             'SV_IN_3B','SV_OUT_3B','SV_MEAN_3B',\n",
    "#             'SV_IN_4A','SV_OUT_4A','SV_MEAN_4A',\n",
    "#             'SV_IN_5A','SV_OUT_5A','SV_MEAN_5A',\n",
    "#             'SV_IN_5B','SV_OUT_5B','SV_MEAN_5B',\n",
    "#             'SV_IN_6A','SV_OUT_6A','SV_MEAN_6A',\n",
    "#             'SV_IN_7A','SV_OUT_7A','SV_MEAN_7A',\n",
    "#             'SV_IN_8A','SV_OUT_8A','SV_MEAN_8A',\n",
    "#             'SV_IN_9A','SV_OUT_9A','SV_MEAN_9A'           \n",
    "#            ]"
   ]
  },
  {
   "cell_type": "code",
   "execution_count": 15,
   "metadata": {},
   "outputs": [],
   "source": [
    "df_SF = pd.DataFrame(columns=var_list)\n",
    "# df_SF.head"
   ]
  },
  {
   "cell_type": "code",
   "execution_count": 16,
   "metadata": {},
   "outputs": [
    {
     "data": {
      "text/html": [
       "<div>\n",
       "<style scoped>\n",
       "    .dataframe tbody tr th:only-of-type {\n",
       "        vertical-align: middle;\n",
       "    }\n",
       "\n",
       "    .dataframe tbody tr th {\n",
       "        vertical-align: top;\n",
       "    }\n",
       "\n",
       "    .dataframe thead th {\n",
       "        text-align: right;\n",
       "    }\n",
       "</style>\n",
       "<table border=\"1\" class=\"dataframe\">\n",
       "  <thead>\n",
       "    <tr style=\"text-align: right;\">\n",
       "      <th></th>\n",
       "      <th>TIMESTAMP</th>\n",
       "      <th>DOY</th>\n",
       "    </tr>\n",
       "  </thead>\n",
       "  <tbody>\n",
       "    <tr>\n",
       "      <th>0</th>\n",
       "      <td>2015-01-01 00:00:00</td>\n",
       "      <td>1</td>\n",
       "    </tr>\n",
       "    <tr>\n",
       "      <th>1</th>\n",
       "      <td>2015-01-01 00:15:00</td>\n",
       "      <td>1</td>\n",
       "    </tr>\n",
       "    <tr>\n",
       "      <th>2</th>\n",
       "      <td>2015-01-01 00:30:00</td>\n",
       "      <td>1</td>\n",
       "    </tr>\n",
       "    <tr>\n",
       "      <th>3</th>\n",
       "      <td>2015-01-01 00:45:00</td>\n",
       "      <td>1</td>\n",
       "    </tr>\n",
       "    <tr>\n",
       "      <th>4</th>\n",
       "      <td>2015-01-01 01:00:00</td>\n",
       "      <td>1</td>\n",
       "    </tr>\n",
       "  </tbody>\n",
       "</table>\n",
       "</div>"
      ],
      "text/plain": [
       "            TIMESTAMP  DOY\n",
       "0 2015-01-01 00:00:00    1\n",
       "1 2015-01-01 00:15:00    1\n",
       "2 2015-01-01 00:30:00    1\n",
       "3 2015-01-01 00:45:00    1\n",
       "4 2015-01-01 01:00:00    1"
      ]
     },
     "execution_count": 16,
     "metadata": {},
     "output_type": "execute_result"
    }
   ],
   "source": [
    "d1 = datetime(2015,1,1,0,0,0)\n",
    "d2 = datetime(2017,1,1,0,0,0)\n",
    "df_SF['TIMESTAMP'] = pd.date_range(d1,d2,freq='15T')\n",
    "df_SF['DOY'] = [((i - datetime(i.year, 1, 1)).days + 1) for i in df_SF['TIMESTAMP']]\n",
    "# df_SF['TIMESTAMP'] = [i.strftime('%Y%m%d%H%M') for i in df_SF['TIMESTAMP']]\n",
    "# df_SF.TIMESTAMP.head()\n",
    "df_SF.head()"
   ]
  },
  {
   "cell_type": "code",
   "execution_count": 17,
   "metadata": {},
   "outputs": [
    {
     "data": {
      "text/html": [
       "<div>\n",
       "<style scoped>\n",
       "    .dataframe tbody tr th:only-of-type {\n",
       "        vertical-align: middle;\n",
       "    }\n",
       "\n",
       "    .dataframe tbody tr th {\n",
       "        vertical-align: top;\n",
       "    }\n",
       "\n",
       "    .dataframe thead th {\n",
       "        text-align: right;\n",
       "    }\n",
       "</style>\n",
       "<table border=\"1\" class=\"dataframe\">\n",
       "  <thead>\n",
       "    <tr style=\"text-align: right;\">\n",
       "      <th></th>\n",
       "      <th>TIMESTAMP</th>\n",
       "      <th>DOY</th>\n",
       "      <th>SV_IN_1A</th>\n",
       "      <th>SV_OUT_1A</th>\n",
       "      <th>SV_MEAN_1A</th>\n",
       "      <th>SV_IN_1B</th>\n",
       "      <th>SV_OUT_1B</th>\n",
       "      <th>SV_MEAN_1B</th>\n",
       "      <th>SV_IN_2A</th>\n",
       "      <th>SV_OUT_2A</th>\n",
       "      <th>...</th>\n",
       "      <th>SV_MEAN_6A</th>\n",
       "      <th>SV_IN_7A</th>\n",
       "      <th>SV_OUT_7A</th>\n",
       "      <th>SV_MEAN_7A</th>\n",
       "      <th>SV_IN_8A</th>\n",
       "      <th>SV_OUT_8A</th>\n",
       "      <th>SV_MEAN_8A</th>\n",
       "      <th>SV_IN_9A</th>\n",
       "      <th>SV_OUT_9A</th>\n",
       "      <th>SV_MEAN_9A</th>\n",
       "    </tr>\n",
       "  </thead>\n",
       "  <tbody>\n",
       "    <tr>\n",
       "      <th>0</th>\n",
       "      <td>2015-01-01 00:00:00</td>\n",
       "      <td>1</td>\n",
       "      <td>NaN</td>\n",
       "      <td>NaN</td>\n",
       "      <td>NaN</td>\n",
       "      <td>NaN</td>\n",
       "      <td>NaN</td>\n",
       "      <td>NaN</td>\n",
       "      <td>NaN</td>\n",
       "      <td>NaN</td>\n",
       "      <td>...</td>\n",
       "      <td>NaN</td>\n",
       "      <td>NaN</td>\n",
       "      <td>NaN</td>\n",
       "      <td>NaN</td>\n",
       "      <td>NaN</td>\n",
       "      <td>NaN</td>\n",
       "      <td>NaN</td>\n",
       "      <td>NaN</td>\n",
       "      <td>NaN</td>\n",
       "      <td>NaN</td>\n",
       "    </tr>\n",
       "    <tr>\n",
       "      <th>1</th>\n",
       "      <td>2015-01-01 00:15:00</td>\n",
       "      <td>1</td>\n",
       "      <td>NaN</td>\n",
       "      <td>NaN</td>\n",
       "      <td>NaN</td>\n",
       "      <td>NaN</td>\n",
       "      <td>NaN</td>\n",
       "      <td>NaN</td>\n",
       "      <td>NaN</td>\n",
       "      <td>NaN</td>\n",
       "      <td>...</td>\n",
       "      <td>NaN</td>\n",
       "      <td>NaN</td>\n",
       "      <td>NaN</td>\n",
       "      <td>NaN</td>\n",
       "      <td>NaN</td>\n",
       "      <td>NaN</td>\n",
       "      <td>NaN</td>\n",
       "      <td>NaN</td>\n",
       "      <td>NaN</td>\n",
       "      <td>NaN</td>\n",
       "    </tr>\n",
       "    <tr>\n",
       "      <th>2</th>\n",
       "      <td>2015-01-01 00:30:00</td>\n",
       "      <td>1</td>\n",
       "      <td>NaN</td>\n",
       "      <td>NaN</td>\n",
       "      <td>NaN</td>\n",
       "      <td>NaN</td>\n",
       "      <td>NaN</td>\n",
       "      <td>NaN</td>\n",
       "      <td>NaN</td>\n",
       "      <td>NaN</td>\n",
       "      <td>...</td>\n",
       "      <td>NaN</td>\n",
       "      <td>NaN</td>\n",
       "      <td>NaN</td>\n",
       "      <td>NaN</td>\n",
       "      <td>NaN</td>\n",
       "      <td>NaN</td>\n",
       "      <td>NaN</td>\n",
       "      <td>NaN</td>\n",
       "      <td>NaN</td>\n",
       "      <td>NaN</td>\n",
       "    </tr>\n",
       "    <tr>\n",
       "      <th>3</th>\n",
       "      <td>2015-01-01 00:45:00</td>\n",
       "      <td>1</td>\n",
       "      <td>NaN</td>\n",
       "      <td>NaN</td>\n",
       "      <td>NaN</td>\n",
       "      <td>NaN</td>\n",
       "      <td>NaN</td>\n",
       "      <td>NaN</td>\n",
       "      <td>NaN</td>\n",
       "      <td>NaN</td>\n",
       "      <td>...</td>\n",
       "      <td>NaN</td>\n",
       "      <td>NaN</td>\n",
       "      <td>NaN</td>\n",
       "      <td>NaN</td>\n",
       "      <td>NaN</td>\n",
       "      <td>NaN</td>\n",
       "      <td>NaN</td>\n",
       "      <td>NaN</td>\n",
       "      <td>NaN</td>\n",
       "      <td>NaN</td>\n",
       "    </tr>\n",
       "    <tr>\n",
       "      <th>4</th>\n",
       "      <td>2015-01-01 01:00:00</td>\n",
       "      <td>1</td>\n",
       "      <td>NaN</td>\n",
       "      <td>NaN</td>\n",
       "      <td>NaN</td>\n",
       "      <td>NaN</td>\n",
       "      <td>NaN</td>\n",
       "      <td>NaN</td>\n",
       "      <td>NaN</td>\n",
       "      <td>NaN</td>\n",
       "      <td>...</td>\n",
       "      <td>NaN</td>\n",
       "      <td>NaN</td>\n",
       "      <td>NaN</td>\n",
       "      <td>NaN</td>\n",
       "      <td>NaN</td>\n",
       "      <td>NaN</td>\n",
       "      <td>NaN</td>\n",
       "      <td>NaN</td>\n",
       "      <td>NaN</td>\n",
       "      <td>NaN</td>\n",
       "    </tr>\n",
       "  </tbody>\n",
       "</table>\n",
       "<p>5 rows × 41 columns</p>\n",
       "</div>"
      ],
      "text/plain": [
       "            TIMESTAMP  DOY  SV_IN_1A  SV_OUT_1A  SV_MEAN_1A  SV_IN_1B  \\\n",
       "0 2015-01-01 00:00:00    1       NaN        NaN         NaN       NaN   \n",
       "1 2015-01-01 00:15:00    1       NaN        NaN         NaN       NaN   \n",
       "2 2015-01-01 00:30:00    1       NaN        NaN         NaN       NaN   \n",
       "3 2015-01-01 00:45:00    1       NaN        NaN         NaN       NaN   \n",
       "4 2015-01-01 01:00:00    1       NaN        NaN         NaN       NaN   \n",
       "\n",
       "   SV_OUT_1B  SV_MEAN_1B  SV_IN_2A  SV_OUT_2A  ...  SV_MEAN_6A  SV_IN_7A  \\\n",
       "0        NaN         NaN       NaN        NaN  ...         NaN       NaN   \n",
       "1        NaN         NaN       NaN        NaN  ...         NaN       NaN   \n",
       "2        NaN         NaN       NaN        NaN  ...         NaN       NaN   \n",
       "3        NaN         NaN       NaN        NaN  ...         NaN       NaN   \n",
       "4        NaN         NaN       NaN        NaN  ...         NaN       NaN   \n",
       "\n",
       "   SV_OUT_7A  SV_MEAN_7A  SV_IN_8A  SV_OUT_8A  SV_MEAN_8A  SV_IN_9A  \\\n",
       "0        NaN         NaN       NaN        NaN         NaN       NaN   \n",
       "1        NaN         NaN       NaN        NaN         NaN       NaN   \n",
       "2        NaN         NaN       NaN        NaN         NaN       NaN   \n",
       "3        NaN         NaN       NaN        NaN         NaN       NaN   \n",
       "4        NaN         NaN       NaN        NaN         NaN       NaN   \n",
       "\n",
       "   SV_OUT_9A  SV_MEAN_9A  \n",
       "0        NaN         NaN  \n",
       "1        NaN         NaN  \n",
       "2        NaN         NaN  \n",
       "3        NaN         NaN  \n",
       "4        NaN         NaN  \n",
       "\n",
       "[5 rows x 41 columns]"
      ]
     },
     "execution_count": 17,
     "metadata": {},
     "output_type": "execute_result"
    }
   ],
   "source": [
    "# pd.merge is not good for this task\n",
    "df_SF = pd.merge(df_SF,df_1A,how = 'left',on='TIMESTAMP')\n",
    "df_SF = pd.merge(df_SF,df_1B,how = 'left',on='TIMESTAMP')\n",
    "df_SF = pd.merge(df_SF,df_2A,how = 'left',on='TIMESTAMP')\n",
    "df_SF = pd.merge(df_SF,df_2B,how = 'left',on='TIMESTAMP')\n",
    "df_SF = pd.merge(df_SF,df_3A,how = 'left',on='TIMESTAMP')\n",
    "df_SF = pd.merge(df_SF,df_3B,how = 'left',on='TIMESTAMP')\n",
    "df_SF = pd.merge(df_SF,df_4A,how = 'left',on='TIMESTAMP')\n",
    "df_SF = pd.merge(df_SF,df_5A,how = 'left',on='TIMESTAMP')\n",
    "df_SF = pd.merge(df_SF,df_5B,how = 'left',on='TIMESTAMP')\n",
    "df_SF = pd.merge(df_SF,df_6A,how = 'left',on='TIMESTAMP')\n",
    "df_SF = pd.merge(df_SF,df_7A,how = 'left',on='TIMESTAMP')\n",
    "df_SF = pd.merge(df_SF,df_8A,how = 'left',on='TIMESTAMP')\n",
    "df_SF = pd.merge(df_SF,df_9A,how = 'left',on='TIMESTAMP')\n",
    "df_SF.head()"
   ]
  },
  {
   "cell_type": "code",
   "execution_count": 19,
   "metadata": {},
   "outputs": [],
   "source": [
    "df_SF.to_pickle('df_SF.pkl')"
   ]
  },
  {
   "cell_type": "code",
   "execution_count": null,
   "metadata": {},
   "outputs": [],
   "source": []
  },
  {
   "cell_type": "code",
   "execution_count": null,
   "metadata": {},
   "outputs": [],
   "source": [
    "df_SF.describe()"
   ]
  },
  {
   "cell_type": "code",
   "execution_count": null,
   "metadata": {},
   "outputs": [],
   "source": [
    "df_1A_15.describe()"
   ]
  },
  {
   "cell_type": "code",
   "execution_count": 18,
   "metadata": {},
   "outputs": [
    {
     "data": {
      "text/plain": [
       "<matplotlib.axes._subplots.AxesSubplot at 0x16659b1f550>"
      ]
     },
     "execution_count": 18,
     "metadata": {},
     "output_type": "execute_result"
    },
    {
     "data": {
      "image/png": "[encoded data removed]",
      "text/plain": [
       "<Figure size 432x288 with 1 Axes>"
      ]
     },
     "metadata": {
      "needs_background": "light"
     },
     "output_type": "display_data"
    }
   ],
   "source": [
    "df_SF.plot(x='TIMESTAMP',y='SV_MEAN_9A')"
   ]
  },
  {
   "cell_type": "code",
   "execution_count": null,
   "metadata": {},
   "outputs": [],
   "source": [
    "# df_1A_15.head()"
   ]
  },
  {
   "cell_type": "code",
   "execution_count": null,
   "metadata": {},
   "outputs": [],
   "source": [
    "# df_1A_15[-5:]"
   ]
  },
  {
   "cell_type": "code",
   "execution_count": 21,
   "metadata": {},
   "outputs": [
    {
     "ename": "AttributeError",
     "evalue": "'str' object has no attribute 'strftime'",
     "output_type": "error",
     "traceback": [
      "\u001b[1;31m---------------------------------------------------------------------------\u001b[0m",
      "\u001b[1;31mAttributeError\u001b[0m                            Traceback (most recent call last)",
      "\u001b[1;32m<ipython-input-21-c42c789ab800>\u001b[0m in \u001b[0;36m<module>\u001b[1;34m\u001b[0m\n\u001b[0;32m      1\u001b[0m \u001b[1;31m#output csv\u001b[0m\u001b[1;33m\u001b[0m\u001b[1;33m\u001b[0m\u001b[1;33m\u001b[0m\u001b[0m\n\u001b[1;32m----> 2\u001b[1;33m \u001b[0mdf_SF\u001b[0m\u001b[1;33m[\u001b[0m\u001b[1;34m'TIMESTAMP'\u001b[0m\u001b[1;33m]\u001b[0m \u001b[1;33m=\u001b[0m \u001b[1;33m[\u001b[0m\u001b[0mi\u001b[0m\u001b[1;33m.\u001b[0m\u001b[0mstrftime\u001b[0m\u001b[1;33m(\u001b[0m\u001b[1;34m'%Y%m%d%H%M'\u001b[0m\u001b[1;33m)\u001b[0m \u001b[1;32mfor\u001b[0m \u001b[0mi\u001b[0m \u001b[1;32min\u001b[0m \u001b[0mdf_SF\u001b[0m\u001b[1;33m[\u001b[0m\u001b[1;34m'TIMESTAMP'\u001b[0m\u001b[1;33m]\u001b[0m\u001b[1;33m]\u001b[0m\u001b[1;33m\u001b[0m\u001b[1;33m\u001b[0m\u001b[0m\n\u001b[0m\u001b[0;32m      3\u001b[0m \u001b[0mdf_SF\u001b[0m\u001b[1;33m.\u001b[0m\u001b[0mto_csv\u001b[0m\u001b[1;33m(\u001b[0m\u001b[1;34m'Sap_FLow_k34.csv'\u001b[0m\u001b[1;33m,\u001b[0m\u001b[0mindex\u001b[0m \u001b[1;33m=\u001b[0m \u001b[1;32mFalse\u001b[0m\u001b[1;33m)\u001b[0m\u001b[1;33m\u001b[0m\u001b[1;33m\u001b[0m\u001b[0m\n",
      "\u001b[1;32m<ipython-input-21-c42c789ab800>\u001b[0m in \u001b[0;36m<listcomp>\u001b[1;34m(.0)\u001b[0m\n\u001b[0;32m      1\u001b[0m \u001b[1;31m#output csv\u001b[0m\u001b[1;33m\u001b[0m\u001b[1;33m\u001b[0m\u001b[1;33m\u001b[0m\u001b[0m\n\u001b[1;32m----> 2\u001b[1;33m \u001b[0mdf_SF\u001b[0m\u001b[1;33m[\u001b[0m\u001b[1;34m'TIMESTAMP'\u001b[0m\u001b[1;33m]\u001b[0m \u001b[1;33m=\u001b[0m \u001b[1;33m[\u001b[0m\u001b[0mi\u001b[0m\u001b[1;33m.\u001b[0m\u001b[0mstrftime\u001b[0m\u001b[1;33m(\u001b[0m\u001b[1;34m'%Y%m%d%H%M'\u001b[0m\u001b[1;33m)\u001b[0m \u001b[1;32mfor\u001b[0m \u001b[0mi\u001b[0m \u001b[1;32min\u001b[0m \u001b[0mdf_SF\u001b[0m\u001b[1;33m[\u001b[0m\u001b[1;34m'TIMESTAMP'\u001b[0m\u001b[1;33m]\u001b[0m\u001b[1;33m]\u001b[0m\u001b[1;33m\u001b[0m\u001b[1;33m\u001b[0m\u001b[0m\n\u001b[0m\u001b[0;32m      3\u001b[0m \u001b[0mdf_SF\u001b[0m\u001b[1;33m.\u001b[0m\u001b[0mto_csv\u001b[0m\u001b[1;33m(\u001b[0m\u001b[1;34m'Sap_FLow_k34.csv'\u001b[0m\u001b[1;33m,\u001b[0m\u001b[0mindex\u001b[0m \u001b[1;33m=\u001b[0m \u001b[1;32mFalse\u001b[0m\u001b[1;33m)\u001b[0m\u001b[1;33m\u001b[0m\u001b[1;33m\u001b[0m\u001b[0m\n",
      "\u001b[1;31mAttributeError\u001b[0m: 'str' object has no attribute 'strftime'"
     ]
    }
   ],
   "source": [
    "#convert time to AmeriFlux Style\n",
    "df_SF['TIMESTAMP'] = [i.strftime('%Y%m%d%H%M') for i in df_SF['TIMESTAMP']]"
   ]
  },
  {
   "cell_type": "code",
   "execution_count": 25,
   "metadata": {},
   "outputs": [],
   "source": [
    "# fill null with AmeriFlux Style\n",
    "df_SF.fillna(-9999,inplace=True)"
   ]
  },
  {
   "cell_type": "code",
   "execution_count": 26,
   "metadata": {},
   "outputs": [],
   "source": [
    "#output csv\n",
    "df_SF.to_csv('Sap_FLow_k34.csv',index = False)"
   ]
  },
  {
   "cell_type": "code",
   "execution_count": null,
   "metadata": {},
   "outputs": [],
   "source": []
  }
 ],
 "metadata": {
  "kernelspec": {
   "display_name": "Python 3",
   "language": "python",
   "name": "python3"
  },
  "language_info": {
   "codemirror_mode": {
    "name": "ipython",
    "version": 3
   },
   "file_extension": ".py",
   "mimetype": "text/x-python",
   "name": "python",
   "nbconvert_exporter": "python",
   "pygments_lexer": "ipython3",
   "version": "3.7.5"
  }
 },
 "nbformat": 4,
 "nbformat_minor": 2
}
