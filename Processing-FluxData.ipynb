{
 "cells": [
  {
   "cell_type": "code",
   "execution_count": 1,
   "metadata": {},
   "outputs": [],
   "source": [
    "import numpy as np\n",
    "import pandas as pd\n",
    "import matplotlib.pyplot as plt\n",
    "import matplotlib.dates as mdates\n",
    "import seaborn as sns\n",
    "import warnings\n",
    "\n",
    "from datetime import datetime, date,timedelta\n",
    "from matplotlib import gridspec\n",
    "from matplotlib import cm\n",
    "\n",
    "warnings.filterwarnings('ignore')\n",
    "%matplotlib inline"
   ]
  },
  {
   "cell_type": "code",
   "execution_count": 2,
   "metadata": {},
   "outputs": [],
   "source": [
    "FILENAME = \"K34_2012_2017_full_output_v2_original.csv\"\n",
    "df = pd.read_csv(FILENAME, header = 0, skiprows = [0,2], na_values = '-9999')"
   ]
  },
  {
   "cell_type": "code",
   "execution_count": 3,
   "metadata": {},
   "outputs": [
    {
     "data": {
      "text/html": [
       "<div>\n",
       "<style scoped>\n",
       "    .dataframe tbody tr th:only-of-type {\n",
       "        vertical-align: middle;\n",
       "    }\n",
       "\n",
       "    .dataframe tbody tr th {\n",
       "        vertical-align: top;\n",
       "    }\n",
       "\n",
       "    .dataframe thead th {\n",
       "        text-align: right;\n",
       "    }\n",
       "</style>\n",
       "<table border=\"1\" class=\"dataframe\">\n",
       "  <thead>\n",
       "    <tr style=\"text-align: right;\">\n",
       "      <th></th>\n",
       "      <th>TIMESTAMP_START</th>\n",
       "      <th>TIMESTAMP_END</th>\n",
       "      <th>DOY</th>\n",
       "      <th>daytime</th>\n",
       "      <th>file_records</th>\n",
       "      <th>used_records</th>\n",
       "      <th>Tau</th>\n",
       "      <th>qc_Tau</th>\n",
       "      <th>H</th>\n",
       "      <th>qc_H</th>\n",
       "      <th>...</th>\n",
       "      <th>h2o_spikes</th>\n",
       "      <th>u_var</th>\n",
       "      <th>v_var</th>\n",
       "      <th>w_var</th>\n",
       "      <th>ts_var</th>\n",
       "      <th>co2_var</th>\n",
       "      <th>h2o_var</th>\n",
       "      <th>w/ts_cov</th>\n",
       "      <th>w/co2_cov</th>\n",
       "      <th>w/h2o_cov</th>\n",
       "    </tr>\n",
       "  </thead>\n",
       "  <tbody>\n",
       "    <tr>\n",
       "      <th>0</th>\n",
       "      <td>201201010730</td>\n",
       "      <td>201201010800</td>\n",
       "      <td>NaN</td>\n",
       "      <td>NaN</td>\n",
       "      <td>NaN</td>\n",
       "      <td>NaN</td>\n",
       "      <td>NaN</td>\n",
       "      <td>NaN</td>\n",
       "      <td>NaN</td>\n",
       "      <td>NaN</td>\n",
       "      <td>...</td>\n",
       "      <td>NaN</td>\n",
       "      <td>NaN</td>\n",
       "      <td>NaN</td>\n",
       "      <td>NaN</td>\n",
       "      <td>NaN</td>\n",
       "      <td>NaN</td>\n",
       "      <td>NaN</td>\n",
       "      <td>NaN</td>\n",
       "      <td>NaN</td>\n",
       "      <td>NaN</td>\n",
       "    </tr>\n",
       "    <tr>\n",
       "      <th>1</th>\n",
       "      <td>201201010800</td>\n",
       "      <td>201201010830</td>\n",
       "      <td>NaN</td>\n",
       "      <td>NaN</td>\n",
       "      <td>NaN</td>\n",
       "      <td>NaN</td>\n",
       "      <td>NaN</td>\n",
       "      <td>NaN</td>\n",
       "      <td>NaN</td>\n",
       "      <td>NaN</td>\n",
       "      <td>...</td>\n",
       "      <td>NaN</td>\n",
       "      <td>NaN</td>\n",
       "      <td>NaN</td>\n",
       "      <td>NaN</td>\n",
       "      <td>NaN</td>\n",
       "      <td>NaN</td>\n",
       "      <td>NaN</td>\n",
       "      <td>NaN</td>\n",
       "      <td>NaN</td>\n",
       "      <td>NaN</td>\n",
       "    </tr>\n",
       "    <tr>\n",
       "      <th>2</th>\n",
       "      <td>201201010830</td>\n",
       "      <td>201201010900</td>\n",
       "      <td>NaN</td>\n",
       "      <td>NaN</td>\n",
       "      <td>NaN</td>\n",
       "      <td>NaN</td>\n",
       "      <td>NaN</td>\n",
       "      <td>NaN</td>\n",
       "      <td>NaN</td>\n",
       "      <td>NaN</td>\n",
       "      <td>...</td>\n",
       "      <td>NaN</td>\n",
       "      <td>NaN</td>\n",
       "      <td>NaN</td>\n",
       "      <td>NaN</td>\n",
       "      <td>NaN</td>\n",
       "      <td>NaN</td>\n",
       "      <td>NaN</td>\n",
       "      <td>NaN</td>\n",
       "      <td>NaN</td>\n",
       "      <td>NaN</td>\n",
       "    </tr>\n",
       "    <tr>\n",
       "      <th>3</th>\n",
       "      <td>201201010900</td>\n",
       "      <td>201201010930</td>\n",
       "      <td>NaN</td>\n",
       "      <td>NaN</td>\n",
       "      <td>NaN</td>\n",
       "      <td>NaN</td>\n",
       "      <td>NaN</td>\n",
       "      <td>NaN</td>\n",
       "      <td>NaN</td>\n",
       "      <td>NaN</td>\n",
       "      <td>...</td>\n",
       "      <td>NaN</td>\n",
       "      <td>NaN</td>\n",
       "      <td>NaN</td>\n",
       "      <td>NaN</td>\n",
       "      <td>NaN</td>\n",
       "      <td>NaN</td>\n",
       "      <td>NaN</td>\n",
       "      <td>NaN</td>\n",
       "      <td>NaN</td>\n",
       "      <td>NaN</td>\n",
       "    </tr>\n",
       "    <tr>\n",
       "      <th>4</th>\n",
       "      <td>201201010930</td>\n",
       "      <td>201201011000</td>\n",
       "      <td>NaN</td>\n",
       "      <td>NaN</td>\n",
       "      <td>NaN</td>\n",
       "      <td>NaN</td>\n",
       "      <td>NaN</td>\n",
       "      <td>NaN</td>\n",
       "      <td>NaN</td>\n",
       "      <td>NaN</td>\n",
       "      <td>...</td>\n",
       "      <td>NaN</td>\n",
       "      <td>NaN</td>\n",
       "      <td>NaN</td>\n",
       "      <td>NaN</td>\n",
       "      <td>NaN</td>\n",
       "      <td>NaN</td>\n",
       "      <td>NaN</td>\n",
       "      <td>NaN</td>\n",
       "      <td>NaN</td>\n",
       "      <td>NaN</td>\n",
       "    </tr>\n",
       "  </tbody>\n",
       "</table>\n",
       "<p>5 rows × 109 columns</p>\n",
       "</div>"
      ],
      "text/plain": [
       "   TIMESTAMP_START  TIMESTAMP_END  DOY  daytime  file_records  used_records  \\\n",
       "0     201201010730   201201010800  NaN      NaN           NaN           NaN   \n",
       "1     201201010800   201201010830  NaN      NaN           NaN           NaN   \n",
       "2     201201010830   201201010900  NaN      NaN           NaN           NaN   \n",
       "3     201201010900   201201010930  NaN      NaN           NaN           NaN   \n",
       "4     201201010930   201201011000  NaN      NaN           NaN           NaN   \n",
       "\n",
       "   Tau  qc_Tau   H  qc_H  ...  h2o_spikes  u_var  v_var  w_var  ts_var  \\\n",
       "0  NaN     NaN NaN   NaN  ...         NaN    NaN    NaN    NaN     NaN   \n",
       "1  NaN     NaN NaN   NaN  ...         NaN    NaN    NaN    NaN     NaN   \n",
       "2  NaN     NaN NaN   NaN  ...         NaN    NaN    NaN    NaN     NaN   \n",
       "3  NaN     NaN NaN   NaN  ...         NaN    NaN    NaN    NaN     NaN   \n",
       "4  NaN     NaN NaN   NaN  ...         NaN    NaN    NaN    NaN     NaN   \n",
       "\n",
       "   co2_var  h2o_var  w/ts_cov  w/co2_cov  w/h2o_cov  \n",
       "0      NaN      NaN       NaN        NaN        NaN  \n",
       "1      NaN      NaN       NaN        NaN        NaN  \n",
       "2      NaN      NaN       NaN        NaN        NaN  \n",
       "3      NaN      NaN       NaN        NaN        NaN  \n",
       "4      NaN      NaN       NaN        NaN        NaN  \n",
       "\n",
       "[5 rows x 109 columns]"
      ]
     },
     "execution_count": 3,
     "metadata": {},
     "output_type": "execute_result"
    }
   ],
   "source": [
    "df.head()"
   ]
  },
  {
   "cell_type": "code",
   "execution_count": 4,
   "metadata": {},
   "outputs": [],
   "source": [
    "df['TIMESTAMP'] = [datetime.strptime(str(i),'%Y%m%d%H%M') for i in df['TIMESTAMP_START']]"
   ]
  },
  {
   "cell_type": "code",
   "execution_count": 5,
   "metadata": {},
   "outputs": [
    {
     "data": {
      "text/plain": [
       "0   2012-01-01 07:30:00\n",
       "1   2012-01-01 08:00:00\n",
       "2   2012-01-01 08:30:00\n",
       "3   2012-01-01 09:00:00\n",
       "4   2012-01-01 09:30:00\n",
       "Name: TIMESTAMP, dtype: datetime64[ns]"
      ]
     },
     "execution_count": 5,
     "metadata": {},
     "output_type": "execute_result"
    }
   ],
   "source": [
    "df['TIMESTAMP'][:5]"
   ]
  },
  {
   "cell_type": "code",
   "execution_count": 6,
   "metadata": {},
   "outputs": [
    {
     "data": {
      "text/plain": [
       "TIMESTAMP_START                0\n",
       "TIMESTAMP_END                  0\n",
       "DOY                        43411\n",
       "daytime                    52070\n",
       "file_records               52070\n",
       "used_records               52070\n",
       "Tau                        53110\n",
       "qc_Tau                     52070\n",
       "H                          53110\n",
       "qc_H                       53110\n",
       "LE                         54679\n",
       "qc_LE                      54679\n",
       "co2_flux                   53336\n",
       "qc_co2_flux                53336\n",
       "h2o_flux                   54679\n",
       "qc_h2o_flux                54679\n",
       "H_strg                     53359\n",
       "LE_strg                    54074\n",
       "co2_strg                   52516\n",
       "h2o_strg                   54074\n",
       "co2_v-adv                  52296\n",
       "h2o_v-adv                  53827\n",
       "co2_molar_density          52296\n",
       "co2_mole_fraction          52296\n",
       "co2_mixing_ratio           52296\n",
       "co2_time_lag               53336\n",
       "co2_def_timelag            52070\n",
       "h2o_molar_density          53827\n",
       "h2o_mole_fraction          53827\n",
       "h2o_mixing_ratio           53827\n",
       "                           ...  \n",
       "un_h2o_flux                54679\n",
       "h2o_scf                    52070\n",
       "spikes_hf                  52070\n",
       "amplitude_resolution_hf    52070\n",
       "drop_out_hf                52070\n",
       "absolute_limits_hf         52070\n",
       "skewness_kurtosis_hf       52070\n",
       "skewness_kurtosis_sf       52070\n",
       "discontinuities_hf         52070\n",
       "discontinuities_sf         52070\n",
       "timelag_hf                 52070\n",
       "timelag_sf                 52070\n",
       "attack_angle_hf            52070\n",
       "non_steady_wind_hf         52070\n",
       "u_spikes                   52070\n",
       "v_spikes                   52070\n",
       "w_spikes                   52070\n",
       "ts_spikes                  52070\n",
       "co2_spikes                 52070\n",
       "h2o_spikes                 52070\n",
       "u_var                      52070\n",
       "v_var                      52070\n",
       "w_var                      52070\n",
       "ts_var                     53110\n",
       "co2_var                    52296\n",
       "h2o_var                    53827\n",
       "w/ts_cov                   53110\n",
       "w/co2_cov                  52296\n",
       "w/h2o_cov                  53827\n",
       "TIMESTAMP                      0\n",
       "Length: 110, dtype: int64"
      ]
     },
     "execution_count": 6,
     "metadata": {},
     "output_type": "execute_result"
    }
   ],
   "source": [
    "df.isna().sum()"
   ]
  },
  {
   "cell_type": "code",
   "execution_count": 10,
   "metadata": {},
   "outputs": [
    {
     "data": {
      "text/plain": [
       "<matplotlib.axes._subplots.AxesSubplot at 0x2646530ee48>"
      ]
     },
     "execution_count": 10,
     "metadata": {},
     "output_type": "execute_result"
    },
    {
     "data": {
      "image/png": "[encoded data removed]",
      "text/plain": [
       "<Figure size 1440x360 with 1 Axes>"
      ]
     },
     "metadata": {
      "needs_background": "light"
     },
     "output_type": "display_data"
    }
   ],
   "source": [
    "df.isna().sum().plot.bar(figsize=(20,5))"
   ]
  },
  {
   "cell_type": "code",
   "execution_count": null,
   "metadata": {},
   "outputs": [],
   "source": []
  },
  {
   "cell_type": "code",
   "execution_count": 9,
   "metadata": {},
   "outputs": [],
   "source": [
    "df.to_pickle('df_EC.pkl')"
   ]
  },
  {
   "cell_type": "code",
   "execution_count": null,
   "metadata": {},
   "outputs": [],
   "source": []
  }
 ],
 "metadata": {
  "kernelspec": {
   "display_name": "Python 3",
   "language": "python",
   "name": "python3"
  },
  "language_info": {
   "codemirror_mode": {
    "name": "ipython",
    "version": 3
   },
   "file_extension": ".py",
   "mimetype": "text/x-python",
   "name": "python",
   "nbconvert_exporter": "python",
   "pygments_lexer": "ipython3",
   "version": "3.7.5"
  }
 },
 "nbformat": 4,
 "nbformat_minor": 2
}
