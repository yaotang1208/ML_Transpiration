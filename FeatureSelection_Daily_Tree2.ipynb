{
 "cells": [
  {
   "cell_type": "code",
   "execution_count": null,
   "metadata": {},
   "outputs": [],
   "source": []
  },
  {
   "cell_type": "code",
   "execution_count": 1,
   "metadata": {},
   "outputs": [],
   "source": [
    "import numpy as np\n",
    "import pandas as pd\n",
    "import matplotlib.pyplot as plt\n",
    "import matplotlib.dates as mdates\n",
    "import seaborn as sns\n",
    "import warnings\n",
    "\n",
    "from datetime import datetime, date,timedelta\n",
    "from matplotlib import gridspec\n",
    "from matplotlib import cm\n",
    "\n",
    "from yellowbrick.regressor import PredictionError, ResidualsPlot\n",
    "\n",
    "warnings.filterwarnings('ignore')\n",
    "%matplotlib inline"
   ]
  },
  {
   "cell_type": "code",
   "execution_count": 2,
   "metadata": {},
   "outputs": [],
   "source": [
    "df = pd.read_pickle('MicroMetSV_30min.pkl')"
   ]
  },
  {
   "cell_type": "code",
   "execution_count": 3,
   "metadata": {},
   "outputs": [
    {
     "data": {
      "text/html": [
       "<div>\n",
       "<style scoped>\n",
       "    .dataframe tbody tr th:only-of-type {\n",
       "        vertical-align: middle;\n",
       "    }\n",
       "\n",
       "    .dataframe tbody tr th {\n",
       "        vertical-align: top;\n",
       "    }\n",
       "\n",
       "    .dataframe thead th {\n",
       "        text-align: right;\n",
       "    }\n",
       "</style>\n",
       "<table border=\"1\" class=\"dataframe\">\n",
       "  <thead>\n",
       "    <tr style=\"text-align: right;\">\n",
       "      <th></th>\n",
       "      <th>TIMESTAMP_START</th>\n",
       "      <th>TIMESTAMP_END</th>\n",
       "      <th>G</th>\n",
       "      <th>SWC_1</th>\n",
       "      <th>SWC_2</th>\n",
       "      <th>SWC_3</th>\n",
       "      <th>SWC_4</th>\n",
       "      <th>SWC_5</th>\n",
       "      <th>SWC_6</th>\n",
       "      <th>TS_1</th>\n",
       "      <th>...</th>\n",
       "      <th>SV_MEAN_6A</th>\n",
       "      <th>SV_IN_7A</th>\n",
       "      <th>SV_OUT_7A</th>\n",
       "      <th>SV_MEAN_7A</th>\n",
       "      <th>SV_IN_8A</th>\n",
       "      <th>SV_OUT_8A</th>\n",
       "      <th>SV_MEAN_8A</th>\n",
       "      <th>SV_IN_9A</th>\n",
       "      <th>SV_OUT_9A</th>\n",
       "      <th>SV_MEAN_9A</th>\n",
       "    </tr>\n",
       "  </thead>\n",
       "  <tbody>\n",
       "    <tr>\n",
       "      <th>0</th>\n",
       "      <td>201201010000</td>\n",
       "      <td>201201010030</td>\n",
       "      <td>-2.595333</td>\n",
       "      <td>NaN</td>\n",
       "      <td>NaN</td>\n",
       "      <td>NaN</td>\n",
       "      <td>NaN</td>\n",
       "      <td>NaN</td>\n",
       "      <td>NaN</td>\n",
       "      <td>24.073333</td>\n",
       "      <td>...</td>\n",
       "      <td>NaN</td>\n",
       "      <td>NaN</td>\n",
       "      <td>NaN</td>\n",
       "      <td>NaN</td>\n",
       "      <td>NaN</td>\n",
       "      <td>NaN</td>\n",
       "      <td>NaN</td>\n",
       "      <td>NaN</td>\n",
       "      <td>NaN</td>\n",
       "      <td>NaN</td>\n",
       "    </tr>\n",
       "    <tr>\n",
       "      <th>1</th>\n",
       "      <td>201201010030</td>\n",
       "      <td>201201010100</td>\n",
       "      <td>-2.882667</td>\n",
       "      <td>NaN</td>\n",
       "      <td>NaN</td>\n",
       "      <td>NaN</td>\n",
       "      <td>NaN</td>\n",
       "      <td>NaN</td>\n",
       "      <td>NaN</td>\n",
       "      <td>24.006667</td>\n",
       "      <td>...</td>\n",
       "      <td>NaN</td>\n",
       "      <td>NaN</td>\n",
       "      <td>NaN</td>\n",
       "      <td>NaN</td>\n",
       "      <td>NaN</td>\n",
       "      <td>NaN</td>\n",
       "      <td>NaN</td>\n",
       "      <td>NaN</td>\n",
       "      <td>NaN</td>\n",
       "      <td>NaN</td>\n",
       "    </tr>\n",
       "    <tr>\n",
       "      <th>2</th>\n",
       "      <td>201201010100</td>\n",
       "      <td>201201010130</td>\n",
       "      <td>-3.149000</td>\n",
       "      <td>NaN</td>\n",
       "      <td>NaN</td>\n",
       "      <td>NaN</td>\n",
       "      <td>NaN</td>\n",
       "      <td>NaN</td>\n",
       "      <td>NaN</td>\n",
       "      <td>23.903333</td>\n",
       "      <td>...</td>\n",
       "      <td>NaN</td>\n",
       "      <td>NaN</td>\n",
       "      <td>NaN</td>\n",
       "      <td>NaN</td>\n",
       "      <td>NaN</td>\n",
       "      <td>NaN</td>\n",
       "      <td>NaN</td>\n",
       "      <td>NaN</td>\n",
       "      <td>NaN</td>\n",
       "      <td>NaN</td>\n",
       "    </tr>\n",
       "    <tr>\n",
       "      <th>3</th>\n",
       "      <td>201201010130</td>\n",
       "      <td>201201010200</td>\n",
       "      <td>-3.426333</td>\n",
       "      <td>NaN</td>\n",
       "      <td>NaN</td>\n",
       "      <td>NaN</td>\n",
       "      <td>NaN</td>\n",
       "      <td>NaN</td>\n",
       "      <td>NaN</td>\n",
       "      <td>23.863333</td>\n",
       "      <td>...</td>\n",
       "      <td>NaN</td>\n",
       "      <td>NaN</td>\n",
       "      <td>NaN</td>\n",
       "      <td>NaN</td>\n",
       "      <td>NaN</td>\n",
       "      <td>NaN</td>\n",
       "      <td>NaN</td>\n",
       "      <td>NaN</td>\n",
       "      <td>NaN</td>\n",
       "      <td>NaN</td>\n",
       "    </tr>\n",
       "    <tr>\n",
       "      <th>4</th>\n",
       "      <td>201201010200</td>\n",
       "      <td>201201010230</td>\n",
       "      <td>-3.579333</td>\n",
       "      <td>NaN</td>\n",
       "      <td>NaN</td>\n",
       "      <td>NaN</td>\n",
       "      <td>NaN</td>\n",
       "      <td>NaN</td>\n",
       "      <td>NaN</td>\n",
       "      <td>23.850000</td>\n",
       "      <td>...</td>\n",
       "      <td>NaN</td>\n",
       "      <td>NaN</td>\n",
       "      <td>NaN</td>\n",
       "      <td>NaN</td>\n",
       "      <td>NaN</td>\n",
       "      <td>NaN</td>\n",
       "      <td>NaN</td>\n",
       "      <td>NaN</td>\n",
       "      <td>NaN</td>\n",
       "      <td>NaN</td>\n",
       "    </tr>\n",
       "  </tbody>\n",
       "</table>\n",
       "<p>5 rows × 104 columns</p>\n",
       "</div>"
      ],
      "text/plain": [
       "   TIMESTAMP_START  TIMESTAMP_END         G  SWC_1  SWC_2  SWC_3  SWC_4  \\\n",
       "0     201201010000   201201010030 -2.595333    NaN    NaN    NaN    NaN   \n",
       "1     201201010030   201201010100 -2.882667    NaN    NaN    NaN    NaN   \n",
       "2     201201010100   201201010130 -3.149000    NaN    NaN    NaN    NaN   \n",
       "3     201201010130   201201010200 -3.426333    NaN    NaN    NaN    NaN   \n",
       "4     201201010200   201201010230 -3.579333    NaN    NaN    NaN    NaN   \n",
       "\n",
       "   SWC_5  SWC_6       TS_1  ...  SV_MEAN_6A  SV_IN_7A  SV_OUT_7A  SV_MEAN_7A  \\\n",
       "0    NaN    NaN  24.073333  ...         NaN       NaN        NaN         NaN   \n",
       "1    NaN    NaN  24.006667  ...         NaN       NaN        NaN         NaN   \n",
       "2    NaN    NaN  23.903333  ...         NaN       NaN        NaN         NaN   \n",
       "3    NaN    NaN  23.863333  ...         NaN       NaN        NaN         NaN   \n",
       "4    NaN    NaN  23.850000  ...         NaN       NaN        NaN         NaN   \n",
       "\n",
       "   SV_IN_8A  SV_OUT_8A  SV_MEAN_8A  SV_IN_9A  SV_OUT_9A  SV_MEAN_9A  \n",
       "0       NaN        NaN         NaN       NaN        NaN         NaN  \n",
       "1       NaN        NaN         NaN       NaN        NaN         NaN  \n",
       "2       NaN        NaN         NaN       NaN        NaN         NaN  \n",
       "3       NaN        NaN         NaN       NaN        NaN         NaN  \n",
       "4       NaN        NaN         NaN       NaN        NaN         NaN  \n",
       "\n",
       "[5 rows x 104 columns]"
      ]
     },
     "execution_count": 3,
     "metadata": {},
     "output_type": "execute_result"
    }
   ],
   "source": [
    "df.head()"
   ]
  },
  {
   "cell_type": "code",
   "execution_count": 4,
   "metadata": {},
   "outputs": [
    {
     "name": "stdout",
     "output_type": "stream",
     "text": [
      "['TIMESTAMP_START', 'TIMESTAMP_END', 'G', 'SWC_1', 'SWC_2', 'SWC_3', 'SWC_4', 'SWC_5', 'SWC_6', 'TS_1', 'TS_2', 'TS_3', 'TS_4', 'TS_5', 'SW_IN', 'SW_OUT', 'LW_IN', 'LW_OUT', 'PPFD_IN', 'RH_1', 'RH_2', 'RH_3', 'RH_4', 'RH_5', 'RH_6', 'PPFD_OUT', 'NETRAD', 'T_CANOPY', 'PA', 'P_1', 'P_2', 'BATTERY_VOLTAGE', 'T_LW_IN', 'T_LW_OUT', 'TA_1', 'TA_2', 'TA_3', 'TA_4', 'TA_5', 'TA_6', 'WS_1', 'WD_1', 'WS_2', 'WS_3', 'WS_4', 'H2O_1', 'H2O_2', 'H2O_3', 'H2O_4', 'H2O_5', 'H2O_6', 'CO2_1', 'CO2_2', 'CO2_3', 'CO2_4', 'CO2_5', 'CO2_6', 'LW_IN_CORR', 'LW_OUT_CORR', 'PPFD_IN_2', 'Rho_PAR', 'Rho_OIR', 'NDVI', 'TIMESTAMP', 'DOY', 'SV_IN_1A', 'SV_OUT_1A', 'SV_MEAN_1A', 'SV_IN_1B', 'SV_OUT_1B', 'SV_MEAN_1B', 'SV_IN_2A', 'SV_OUT_2A', 'SV_MEAN_2A', 'SV_IN_2B', 'SV_OUT_2B', 'SV_MEAN_2B', 'SV_IN_3A', 'SV_OUT_3A', 'SV_MEAN_3A', 'SV_IN_3B', 'SV_OUT_3B', 'SV_MEAN_3B', 'SV_IN_4A', 'SV_OUT_4A', 'SV_MEAN_4A', 'SV_IN_5A', 'SV_OUT_5A', 'SV_MEAN_5A', 'SV_IN_5B', 'SV_OUT_5B', 'SV_MEAN_5B', 'SV_IN_6A', 'SV_OUT_6A', 'SV_MEAN_6A', 'SV_IN_7A', 'SV_OUT_7A', 'SV_MEAN_7A', 'SV_IN_8A', 'SV_OUT_8A', 'SV_MEAN_8A', 'SV_IN_9A', 'SV_OUT_9A', 'SV_MEAN_9A']\n"
     ]
    }
   ],
   "source": [
    "print(list(df))"
   ]
  },
  {
   "cell_type": "markdown",
   "metadata": {},
   "source": [
    "Noon"
   ]
  },
  {
   "cell_type": "code",
   "execution_count": 5,
   "metadata": {},
   "outputs": [],
   "source": [
    "df_noon = df.loc[24::48]"
   ]
  },
  {
   "cell_type": "markdown",
   "metadata": {},
   "source": [
    "# Time Period"
   ]
  },
  {
   "cell_type": "markdown",
   "metadata": {},
   "source": [
    "Drought"
   ]
  },
  {
   "cell_type": "code",
   "execution_count": 6,
   "metadata": {},
   "outputs": [],
   "source": [
    "# all drought\n",
    "time_start = datetime(2015,8,1,0,0,0)\n",
    "time_end = datetime(2016,3,1,0,0,0)\n",
    "\n",
    "# very dry\n",
    "# time_start = datetime(2015,9,1,0,0,0)\n",
    "# time_end = datetime(2015,10,1,0,0,0)"
   ]
  },
  {
   "cell_type": "code",
   "execution_count": 7,
   "metadata": {},
   "outputs": [],
   "source": [
    "df_drought = df_noon.loc[(df['TIMESTAMP'] > time_start) & (df_noon['TIMESTAMP'] < time_end)]"
   ]
  },
  {
   "cell_type": "code",
   "execution_count": 8,
   "metadata": {},
   "outputs": [],
   "source": [
    "# cols_drop = ['TIMESTAMP_START','TIMESTAMP_END','TIMESTAMP','BATTERY_VOLTAGE',\n",
    "#              'H2O_1','H2O_2','H2O_3','H2O_4','H2O_5','H2O_6',\n",
    "#              'RH_2','RH_3','RH_4','RH_5','P_2','RH_6',\n",
    "#              'WS_4','Rho_PAR','Rho_OIR','NDVI',\n",
    "#              'PPFD_IN','PPFD_OUT','T_LW_IN','T_LW_OUT','LW_IN','LW_OUT',\n",
    "#              'PPFD_IN_2','PA']\n",
    "# cols = ['G', 'SWC_1', 'SWC_2', 'SWC_3', 'SWC_4', 'SWC_5', 'SWC_6', \n",
    "#        'TS_1', 'TS_2', 'TS_3', 'TS_4', 'TS_5', \n",
    "#        'SW_IN', 'SW_OUT', 'RH_1','NETRAD', 'T_CANOPY', \n",
    "#        'TA_1', 'TA_2', 'TA_3', 'TA_4', 'TA_5', 'TA_6', \n",
    "#        'WS_1', 'WD_1', \n",
    "#        'CO2_1', 'CO2_2', 'CO2_3', 'CO2_4', 'CO2_5', 'CO2_6', \n",
    "#        'LW_IN_CORR', 'LW_OUT_CORR', \n",
    "#        'SV_OUT_1A']\n",
    "# cols = ['G', 'SWC_1', 'SWC_2', 'SWC_3', 'SWC_4', 'SWC_5', 'SWC_6', \n",
    "#        'TS_1', 'TS_2', 'TS_3', 'TS_4', 'TS_5', \n",
    "#        'SW_IN', 'SW_OUT', 'RH_1','NETRAD', 'T_CANOPY', \n",
    "#        'TA_1', 'TA_2', 'TA_3', 'TA_4', 'TA_5', 'TA_6', \n",
    "#        'WS_1', \n",
    "#        'CO2_1', 'CO2_2', 'CO2_3', 'CO2_4', 'CO2_5', 'CO2_6', \n",
    "#        'SV_OUT_1A']\n",
    "# cols = ['G', 'SWC_1', 'SWC_2', 'SWC_3', 'SWC_4', 'SWC_5', 'SWC_6', \n",
    "#        'TS_1', 'TS_2', 'TS_3', 'TS_4', 'TS_5',\n",
    "#         'RH_1','NETRAD', 'T_CANOPY', \n",
    "#        'TA_1', 'TA_2', 'TA_3', 'TA_4', 'TA_5', 'TA_6', \n",
    "#        'CO2_1', 'CO2_2', 'CO2_3', 'CO2_4', 'CO2_5', 'CO2_6', \n",
    "#        'SV_OUT_2A']\n",
    "cols = ['G', 'SWC_1', 'SWC_2', 'SWC_3', 'SWC_4', 'SWC_5', 'SWC_6', \n",
    "       'TS_1', 'TS_2', 'TS_3', 'TS_4', 'TS_5',\n",
    "        'RH_1','NETRAD', 'T_CANOPY', \n",
    "       'TA_1', 'TA_2', 'TA_3', 'TA_4', 'TA_5', 'TA_6', \n",
    "       'SV_OUT_2A']"
   ]
  },
  {
   "cell_type": "markdown",
   "metadata": {},
   "source": [
    "Assign df for feature selection"
   ]
  },
  {
   "cell_type": "code",
   "execution_count": 9,
   "metadata": {},
   "outputs": [],
   "source": [
    "# df_fs = df[cols].copy()\n",
    "df_fs = df_drought[cols].copy()\n",
    "# df_fs = df_noon[cols].copy()"
   ]
  },
  {
   "cell_type": "code",
   "execution_count": 10,
   "metadata": {},
   "outputs": [
    {
     "data": {
      "text/html": [
       "<div>\n",
       "<style scoped>\n",
       "    .dataframe tbody tr th:only-of-type {\n",
       "        vertical-align: middle;\n",
       "    }\n",
       "\n",
       "    .dataframe tbody tr th {\n",
       "        vertical-align: top;\n",
       "    }\n",
       "\n",
       "    .dataframe thead th {\n",
       "        text-align: right;\n",
       "    }\n",
       "</style>\n",
       "<table border=\"1\" class=\"dataframe\">\n",
       "  <thead>\n",
       "    <tr style=\"text-align: right;\">\n",
       "      <th></th>\n",
       "      <th>G</th>\n",
       "      <th>SWC_1</th>\n",
       "      <th>SWC_2</th>\n",
       "      <th>SWC_3</th>\n",
       "      <th>SWC_4</th>\n",
       "      <th>SWC_5</th>\n",
       "      <th>SWC_6</th>\n",
       "      <th>TS_1</th>\n",
       "      <th>TS_2</th>\n",
       "      <th>TS_3</th>\n",
       "      <th>...</th>\n",
       "      <th>RH_1</th>\n",
       "      <th>NETRAD</th>\n",
       "      <th>T_CANOPY</th>\n",
       "      <th>TA_1</th>\n",
       "      <th>TA_2</th>\n",
       "      <th>TA_3</th>\n",
       "      <th>TA_4</th>\n",
       "      <th>TA_5</th>\n",
       "      <th>TA_6</th>\n",
       "      <th>SV_OUT_2A</th>\n",
       "    </tr>\n",
       "  </thead>\n",
       "  <tbody>\n",
       "    <tr>\n",
       "      <th>62808</th>\n",
       "      <td>5.178667</td>\n",
       "      <td>0.391000</td>\n",
       "      <td>0.397</td>\n",
       "      <td>0.365000</td>\n",
       "      <td>0.324</td>\n",
       "      <td>0.294000</td>\n",
       "      <td>0.399000</td>\n",
       "      <td>25.933333</td>\n",
       "      <td>25.690000</td>\n",
       "      <td>25.526667</td>\n",
       "      <td>...</td>\n",
       "      <td>62.63</td>\n",
       "      <td>NaN</td>\n",
       "      <td>32.17</td>\n",
       "      <td>30.42</td>\n",
       "      <td>30.61</td>\n",
       "      <td>30.83</td>\n",
       "      <td>32.05</td>\n",
       "      <td>30.67</td>\n",
       "      <td>29.47</td>\n",
       "      <td>15.126126</td>\n",
       "    </tr>\n",
       "    <tr>\n",
       "      <th>62856</th>\n",
       "      <td>5.346667</td>\n",
       "      <td>0.389000</td>\n",
       "      <td>0.395</td>\n",
       "      <td>0.363000</td>\n",
       "      <td>0.323</td>\n",
       "      <td>0.294000</td>\n",
       "      <td>0.399000</td>\n",
       "      <td>26.206667</td>\n",
       "      <td>25.950000</td>\n",
       "      <td>25.746667</td>\n",
       "      <td>...</td>\n",
       "      <td>62.48</td>\n",
       "      <td>NaN</td>\n",
       "      <td>33.30</td>\n",
       "      <td>30.83</td>\n",
       "      <td>31.10</td>\n",
       "      <td>31.30</td>\n",
       "      <td>32.69</td>\n",
       "      <td>30.98</td>\n",
       "      <td>29.90</td>\n",
       "      <td>14.641336</td>\n",
       "    </tr>\n",
       "    <tr>\n",
       "      <th>62904</th>\n",
       "      <td>5.437667</td>\n",
       "      <td>0.386000</td>\n",
       "      <td>0.394</td>\n",
       "      <td>0.360333</td>\n",
       "      <td>0.321</td>\n",
       "      <td>0.293000</td>\n",
       "      <td>0.399000</td>\n",
       "      <td>26.226667</td>\n",
       "      <td>25.950000</td>\n",
       "      <td>25.743333</td>\n",
       "      <td>...</td>\n",
       "      <td>63.73</td>\n",
       "      <td>NaN</td>\n",
       "      <td>32.90</td>\n",
       "      <td>30.45</td>\n",
       "      <td>30.71</td>\n",
       "      <td>30.97</td>\n",
       "      <td>32.03</td>\n",
       "      <td>30.83</td>\n",
       "      <td>29.53</td>\n",
       "      <td>14.861904</td>\n",
       "    </tr>\n",
       "    <tr>\n",
       "      <th>62952</th>\n",
       "      <td>7.068667</td>\n",
       "      <td>0.382667</td>\n",
       "      <td>0.392</td>\n",
       "      <td>0.357667</td>\n",
       "      <td>0.319</td>\n",
       "      <td>0.292333</td>\n",
       "      <td>0.399000</td>\n",
       "      <td>26.430000</td>\n",
       "      <td>26.150000</td>\n",
       "      <td>25.950000</td>\n",
       "      <td>...</td>\n",
       "      <td>53.84</td>\n",
       "      <td>NaN</td>\n",
       "      <td>33.79</td>\n",
       "      <td>31.27</td>\n",
       "      <td>31.49</td>\n",
       "      <td>31.74</td>\n",
       "      <td>32.73</td>\n",
       "      <td>31.86</td>\n",
       "      <td>30.66</td>\n",
       "      <td>14.907856</td>\n",
       "    </tr>\n",
       "    <tr>\n",
       "      <th>63000</th>\n",
       "      <td>6.532667</td>\n",
       "      <td>0.378000</td>\n",
       "      <td>0.390</td>\n",
       "      <td>0.354333</td>\n",
       "      <td>0.316</td>\n",
       "      <td>0.291000</td>\n",
       "      <td>0.398333</td>\n",
       "      <td>26.533333</td>\n",
       "      <td>26.276667</td>\n",
       "      <td>26.070000</td>\n",
       "      <td>...</td>\n",
       "      <td>62.10</td>\n",
       "      <td>NaN</td>\n",
       "      <td>32.99</td>\n",
       "      <td>30.82</td>\n",
       "      <td>31.13</td>\n",
       "      <td>31.35</td>\n",
       "      <td>32.95</td>\n",
       "      <td>31.31</td>\n",
       "      <td>30.26</td>\n",
       "      <td>14.920492</td>\n",
       "    </tr>\n",
       "  </tbody>\n",
       "</table>\n",
       "<p>5 rows × 22 columns</p>\n",
       "</div>"
      ],
      "text/plain": [
       "              G     SWC_1  SWC_2     SWC_3  SWC_4     SWC_5     SWC_6  \\\n",
       "62808  5.178667  0.391000  0.397  0.365000  0.324  0.294000  0.399000   \n",
       "62856  5.346667  0.389000  0.395  0.363000  0.323  0.294000  0.399000   \n",
       "62904  5.437667  0.386000  0.394  0.360333  0.321  0.293000  0.399000   \n",
       "62952  7.068667  0.382667  0.392  0.357667  0.319  0.292333  0.399000   \n",
       "63000  6.532667  0.378000  0.390  0.354333  0.316  0.291000  0.398333   \n",
       "\n",
       "            TS_1       TS_2       TS_3  ...   RH_1  NETRAD  T_CANOPY   TA_1  \\\n",
       "62808  25.933333  25.690000  25.526667  ...  62.63     NaN     32.17  30.42   \n",
       "62856  26.206667  25.950000  25.746667  ...  62.48     NaN     33.30  30.83   \n",
       "62904  26.226667  25.950000  25.743333  ...  63.73     NaN     32.90  30.45   \n",
       "62952  26.430000  26.150000  25.950000  ...  53.84     NaN     33.79  31.27   \n",
       "63000  26.533333  26.276667  26.070000  ...  62.10     NaN     32.99  30.82   \n",
       "\n",
       "        TA_2   TA_3   TA_4   TA_5   TA_6  SV_OUT_2A  \n",
       "62808  30.61  30.83  32.05  30.67  29.47  15.126126  \n",
       "62856  31.10  31.30  32.69  30.98  29.90  14.641336  \n",
       "62904  30.71  30.97  32.03  30.83  29.53  14.861904  \n",
       "62952  31.49  31.74  32.73  31.86  30.66  14.907856  \n",
       "63000  31.13  31.35  32.95  31.31  30.26  14.920492  \n",
       "\n",
       "[5 rows x 22 columns]"
      ]
     },
     "execution_count": 10,
     "metadata": {},
     "output_type": "execute_result"
    }
   ],
   "source": [
    "df_fs.head()"
   ]
  },
  {
   "cell_type": "code",
   "execution_count": 11,
   "metadata": {},
   "outputs": [
    {
     "data": {
      "text/plain": [
       "G            11\n",
       "SWC_1        11\n",
       "SWC_2        11\n",
       "SWC_3        11\n",
       "SWC_4        11\n",
       "SWC_5        11\n",
       "SWC_6        11\n",
       "TS_1         11\n",
       "TS_2         11\n",
       "TS_3         11\n",
       "TS_4         11\n",
       "TS_5         11\n",
       "RH_1         26\n",
       "NETRAD       37\n",
       "T_CANOPY     26\n",
       "TA_1         26\n",
       "TA_2         26\n",
       "TA_3         26\n",
       "TA_4         26\n",
       "TA_5         26\n",
       "TA_6         26\n",
       "SV_OUT_2A    93\n",
       "dtype: int64"
      ]
     },
     "execution_count": 11,
     "metadata": {},
     "output_type": "execute_result"
    }
   ],
   "source": [
    "df_fs.isna().sum()"
   ]
  },
  {
   "cell_type": "code",
   "execution_count": 12,
   "metadata": {},
   "outputs": [
    {
     "name": "stdout",
     "output_type": "stream",
     "text": [
      "SV_OUT_2A\n",
      "['G', 'SWC_1', 'SWC_2', 'SWC_3', 'SWC_4', 'SWC_5', 'SWC_6', 'TS_1', 'TS_2', 'TS_3', 'TS_4', 'TS_5', 'RH_1', 'NETRAD', 'T_CANOPY', 'TA_1', 'TA_2', 'TA_3', 'TA_4', 'TA_5']\n"
     ]
    }
   ],
   "source": [
    "y_list = cols[-1]\n",
    "cols_x = cols[:-2]\n",
    "print(y_list)\n",
    "print(cols_x)"
   ]
  },
  {
   "cell_type": "code",
   "execution_count": 13,
   "metadata": {},
   "outputs": [
    {
     "name": "stdout",
     "output_type": "stream",
     "text": [
      "['G', 'SWC_1', 'SWC_2', 'SWC_3', 'SWC_4', 'SWC_5', 'SWC_6', 'TS_1', 'TS_2', 'TS_3', 'TS_4', 'TS_5', 'RH_1', 'NETRAD', 'T_CANOPY', 'TA_1', 'TA_2', 'TA_3', 'TA_4', 'TA_5', 'TA_6', 'SV_OUT_2A']\n"
     ]
    }
   ],
   "source": [
    "print(list(df_fs))"
   ]
  },
  {
   "cell_type": "code",
   "execution_count": 14,
   "metadata": {},
   "outputs": [
    {
     "data": {
      "text/plain": [
       "(96, 22)"
      ]
     },
     "execution_count": 14,
     "metadata": {},
     "output_type": "execute_result"
    }
   ],
   "source": [
    "df_ml = df_fs.dropna(axis = 0,how = 'any')\n",
    "df_ml.shape"
   ]
  },
  {
   "cell_type": "code",
   "execution_count": 15,
   "metadata": {},
   "outputs": [],
   "source": [
    "# df_ml.to_pickle('SapVelocity_ML_Drought.pkl')"
   ]
  },
  {
   "cell_type": "code",
   "execution_count": 16,
   "metadata": {},
   "outputs": [
    {
     "name": "stdout",
     "output_type": "stream",
     "text": [
      "['G', 'SWC_1', 'SWC_2', 'SWC_3', 'SWC_4', 'SWC_5', 'SWC_6', 'TS_1', 'TS_2', 'TS_3', 'TS_4', 'TS_5', 'RH_1', 'NETRAD', 'T_CANOPY', 'TA_1', 'TA_2', 'TA_3', 'TA_4', 'TA_5', 'TA_6', 'SV_OUT_2A']\n"
     ]
    }
   ],
   "source": [
    "print(list(df_ml))"
   ]
  },
  {
   "cell_type": "markdown",
   "metadata": {},
   "source": [
    "# Machine Learning Models"
   ]
  },
  {
   "cell_type": "code",
   "execution_count": 17,
   "metadata": {},
   "outputs": [],
   "source": [
    "X_org = df_ml.drop(y_list,axis = 1)\n",
    "y_org = df_ml[y_list]"
   ]
  },
  {
   "cell_type": "code",
   "execution_count": 18,
   "metadata": {},
   "outputs": [],
   "source": [
    "from sklearn import preprocessing\n",
    "lab_enc = preprocessing.LabelEncoder()\n",
    "y_encoded = lab_enc.fit_transform(y_org)"
   ]
  },
  {
   "cell_type": "markdown",
   "metadata": {},
   "source": [
    "# Feature Importance "
   ]
  },
  {
   "cell_type": "code",
   "execution_count": 19,
   "metadata": {},
   "outputs": [
    {
     "name": "stdout",
     "output_type": "stream",
     "text": [
      "[0.05600481 0.05089845 0.04216551 0.06629775 0.04104731 0.05452517\n",
      " 0.04685624 0.04903151 0.04815872 0.04138036 0.06078351 0.04073044\n",
      " 0.05747085 0.04090882 0.04881737 0.05355729 0.04242812 0.02296083\n",
      " 0.05665392 0.03059301 0.04873   ]\n"
     ]
    },
    {
     "data": {
      "image/png": "[encoded data removed]",
      "text/plain": [
       "<Figure size 432x288 with 1 Axes>"
      ]
     },
     "metadata": {
      "needs_background": "light"
     },
     "output_type": "display_data"
    },
    {
     "name": "stdout",
     "output_type": "stream",
     "text": [
      "Feature ranking:\n",
      "1. feature 3 (0.066298)\n",
      "2. feature 10 (0.060784)\n",
      "3. feature 12 (0.057471)\n",
      "4. feature 18 (0.056654)\n",
      "5. feature 0 (0.056005)\n",
      "6. feature 5 (0.054525)\n",
      "7. feature 15 (0.053557)\n",
      "8. feature 1 (0.050898)\n",
      "9. feature 7 (0.049032)\n",
      "10. feature 14 (0.048817)\n",
      "11. feature 20 (0.048730)\n",
      "12. feature 8 (0.048159)\n",
      "13. feature 6 (0.046856)\n",
      "14. feature 16 (0.042428)\n",
      "15. feature 2 (0.042166)\n",
      "16. feature 9 (0.041380)\n",
      "17. feature 4 (0.041047)\n",
      "18. feature 13 (0.040909)\n",
      "19. feature 11 (0.040730)\n",
      "20. feature 19 (0.030593)\n",
      "21. feature 17 (0.022961)\n"
     ]
    },
    {
     "data": {
      "image/png": "[encoded data removed]",
      "text/plain": [
       "<Figure size 432x288 with 1 Axes>"
      ]
     },
     "metadata": {
      "needs_background": "light"
     },
     "output_type": "display_data"
    }
   ],
   "source": [
    "from sklearn.ensemble import ExtraTreesClassifier\n",
    "from sklearn.ensemble import RandomForestClassifier\n",
    "from sklearn.ensemble import GradientBoostingClassifier\n",
    "forest = RandomForestClassifier()\n",
    "forest.fit(X_org,y_encoded)\n",
    "print(forest.feature_importances_)\n",
    "feat_importances = pd.Series(forest.feature_importances_, index=X_org.columns)\n",
    "feat_importances.nlargest(10).plot(kind='barh')\n",
    "plt.show()\n",
    "\n",
    "importances = forest.feature_importances_\n",
    "std = np.std([tree.feature_importances_ for tree in forest.estimators_],\n",
    "             axis=0)\n",
    "indices = np.argsort(importances)[::-1]\n",
    "\n",
    "# Print the feature ranking\n",
    "print(\"Feature ranking:\")\n",
    "\n",
    "for f in range(X_org.shape[1]):\n",
    "    print(\"%d. feature %d (%f)\" % (f + 1, indices[f], importances[indices[f]]))\n",
    "\n",
    "# Plot the feature importances of the forest\n",
    "plt.figure()\n",
    "# plt.title(\"Feature importances\")\n",
    "plt.bar(range(X_org.shape[1]), importances[indices],\n",
    "       color=\"r\", yerr=std[indices], align=\"center\")\n",
    "plt.xticks(range(X_org.shape[1]), indices)\n",
    "plt.xlim([-1, X_org.shape[1]])\n",
    "plt.ylabel(\"Importances\")\n",
    "plt.show()"
   ]
  },
  {
   "cell_type": "code",
   "execution_count": 20,
   "metadata": {
    "scrolled": true
   },
   "outputs": [
    {
     "data": {
      "image/png": "[encoded data removed]",
      "text/plain": [
       "<Figure size 1728x432 with 1 Axes>"
      ]
     },
     "metadata": {
      "needs_background": "light"
     },
     "output_type": "display_data"
    }
   ],
   "source": [
    "# Plot the feature importances of the forest\n",
    "plt.figure(figsize = (24,6))\n",
    "# plt.title(\"ET Feature importances\")\n",
    "barlist = plt.bar(range(X_org.shape[1]), importances[indices],\n",
    "       color=\"g\", yerr=std[indices], align=\"center\")\n",
    "for i in range(5):\n",
    "    barlist[i].set_color('r')\n",
    "for i in range(6):\n",
    "    barlist[-(i+1)].set_color('b')\n",
    "plt.xticks(range(X_org.shape[1]), X_org.columns[indices])\n",
    "plt.xlim([-1, X_org.shape[1]])\n",
    "plt.ylabel(\"Importances\")\n",
    "plt.show()"
   ]
  },
  {
   "cell_type": "code",
   "execution_count": null,
   "metadata": {},
   "outputs": [],
   "source": [
    "feat_importances"
   ]
  },
  {
   "cell_type": "markdown",
   "metadata": {},
   "source": [
    "# Feature Selection"
   ]
  },
  {
   "cell_type": "markdown",
   "metadata": {},
   "source": [
    "Model-based Feature Selection"
   ]
  },
  {
   "cell_type": "code",
   "execution_count": null,
   "metadata": {},
   "outputs": [],
   "source": [
    "from sklearn.ensemble import GradientBoostingRegressor\n",
    "from sklearn.feature_selection import SelectFromModel\n",
    "# X.shape\n",
    "\n",
    "# clf = GradientBoostingRegressor(n_estimators=100, learning_rate=0.1,max_depth=1, random_state=0, loss='ls')\n",
    "# clf = clf.fit(X_org, y_org)\n",
    "clf = RandomForestClassifier()\n",
    "clf = clf.fit(X_org, y_encoded)\n",
    "\n",
    "clf.feature_importances_  \n",
    "\n",
    "model = SelectFromModel(clf, prefit=True)\n",
    "X_new = model.transform(X_org)\n",
    "y_new = y_org\n",
    "# X_new.shape   \n",
    "\n",
    "cols = model.get_support(indices=True)\n",
    "# Create new dataframe with only desired columns, or overwrite existing\n",
    "new_features = X_org.columns[cols]\n",
    "print(list(new_features))"
   ]
  },
  {
   "cell_type": "code",
   "execution_count": null,
   "metadata": {},
   "outputs": [],
   "source": []
  },
  {
   "cell_type": "code",
   "execution_count": null,
   "metadata": {},
   "outputs": [],
   "source": [
    "# # Feature Selection\n",
    "# # Automatic Fearture Selection\n",
    "# from sklearn.feature_selection import SelectPercentile\n",
    "# rng = np.random.RandomState(42)\n",
    "# noise_train = rng.normal(size=(len(X_train_prefs), 50))\n",
    "# X_train_noise = np.hstack([X_train_prefs, noise_train])\n",
    "# noise_test = rng.normal(size=(len(X_test_prefs), 50))\n",
    "# X_test_noise = np.hstack([X_test_prefs, noise_test])\n",
    "\n",
    "# select = SelectPercentile(percentile=10)\n",
    "# select.fit(X_train_noise, y_train)\n",
    "\n",
    "# # transform training set\n",
    "# X_train1 = select.transform(X_train_noise)\n",
    "# # transform test data\n",
    "# X_test1 = select.transform(X_test_noise)\n",
    "\n",
    "# print(\"X_train.shape: {}\".format(X_train_noise.shape))\n",
    "# print(\"X_train_selected.shape: {}\".format(X_train1.shape))"
   ]
  },
  {
   "cell_type": "markdown",
   "metadata": {},
   "source": [
    "Split train and test data"
   ]
  },
  {
   "cell_type": "markdown",
   "metadata": {},
   "source": [
    "1. assign datasets for ML models"
   ]
  },
  {
   "cell_type": "code",
   "execution_count": null,
   "metadata": {},
   "outputs": [],
   "source": [
    "X = X_new\n",
    "y = y_new"
   ]
  },
  {
   "cell_type": "code",
   "execution_count": null,
   "metadata": {},
   "outputs": [],
   "source": [
    "# Split train and test data\n",
    "from sklearn.model_selection import train_test_split\n",
    "X_train_pre, X_test_pre, y_train, y_test = train_test_split(X, y)"
   ]
  },
  {
   "cell_type": "code",
   "execution_count": null,
   "metadata": {},
   "outputs": [],
   "source": [
    "# Preprocessing & Normalization\n",
    "from sklearn.preprocessing import MinMaxScaler, StandardScaler\n",
    "scaler = StandardScaler()\n",
    "scaler.fit(X_train_pre)\n",
    "# Train and Test data before feature selection\n",
    "X_train_prefs = scaler.transform(X_train_pre)\n",
    "X_test_prefs = scaler.transform(X_test_pre)"
   ]
  },
  {
   "cell_type": "markdown",
   "metadata": {},
   "source": [
    "Train and Test Data"
   ]
  },
  {
   "cell_type": "code",
   "execution_count": null,
   "metadata": {},
   "outputs": [],
   "source": [
    "X_train = X_train_prefs\n",
    "X_test = X_test_prefs"
   ]
  },
  {
   "cell_type": "markdown",
   "metadata": {},
   "source": [
    "# Simple ML Regressors"
   ]
  },
  {
   "cell_type": "markdown",
   "metadata": {},
   "source": [
    "k-neighbors regression"
   ]
  },
  {
   "cell_type": "code",
   "execution_count": null,
   "metadata": {},
   "outputs": [],
   "source": [
    "# k-neighbors regression\n",
    "from sklearn.neighbors import KNeighborsRegressor\n",
    "knr = KNeighborsRegressor(n_neighbors=6)\n",
    "\n",
    "visualizer1 = PredictionError(knr)\n",
    "visualizer1.fit(X_train, y_train)  # Fit the training data to the visualizer\n",
    "visualizer1.score(X_test, y_test)  # Evaluate the model on the test data\n",
    "visualizer1.show()   "
   ]
  },
  {
   "cell_type": "code",
   "execution_count": null,
   "metadata": {},
   "outputs": [],
   "source": [
    "visualizer2 = ResidualsPlot(knr)\n",
    "visualizer2.fit(X_train, y_train)  # Fit the training data to the visualizer\n",
    "visualizer2.score(X_test, y_test)  # Evaluate the model on the test data\n",
    "visualizer2.show()"
   ]
  },
  {
   "cell_type": "markdown",
   "metadata": {},
   "source": [
    "Linear Regression"
   ]
  },
  {
   "cell_type": "code",
   "execution_count": null,
   "metadata": {},
   "outputs": [],
   "source": [
    "# Linear Regression\n",
    "from sklearn.linear_model import LinearRegression\n",
    "lr = LinearRegression()\n",
    "lr.fit(X_train,y_train)\n",
    "feat_importances = lr.feature_importances_\n",
    "print(feat_importances)\n",
    "visualizer1 = PredictionError(lr)\n",
    "visualizer1.fit(X_train, y_train)  # Fit the training data to the visualizer\n",
    "visualizer1.score(X_test, y_test)  # Evaluate the model on the test data\n",
    "visualizer1.show()   "
   ]
  },
  {
   "cell_type": "code",
   "execution_count": null,
   "metadata": {},
   "outputs": [],
   "source": [
    "visualizer2 = ResidualsPlot(lr)\n",
    "visualizer2.fit(X_train, y_train)  # Fit the training data to the visualizer\n",
    "visualizer2.score(X_test, y_test)  # Evaluate the model on the test data\n",
    "visualizer2.show()"
   ]
  },
  {
   "cell_type": "markdown",
   "metadata": {},
   "source": [
    "Ridge Regression"
   ]
  },
  {
   "cell_type": "code",
   "execution_count": null,
   "metadata": {},
   "outputs": [],
   "source": [
    "from sklearn.linear_model import Ridge\n",
    "rr = Ridge(alpha = 5)\n",
    "\n",
    "visualizer1 = PredictionError(rr)\n",
    "visualizer1.fit(X_train, y_train)  # Fit the training data to the visualizer\n",
    "visualizer1.score(X_test, y_test)  # Evaluate the model on the test data\n",
    "visualizer1.show()  "
   ]
  },
  {
   "cell_type": "code",
   "execution_count": null,
   "metadata": {},
   "outputs": [],
   "source": [
    "visualizer2 = ResidualsPlot(rr)\n",
    "visualizer2.fit(X_train, y_train)  # Fit the training data to the visualizer\n",
    "visualizer2.score(X_test, y_test)  # Evaluate the model on the test data\n",
    "visualizer2.show()"
   ]
  },
  {
   "cell_type": "markdown",
   "metadata": {},
   "source": [
    "Lasso"
   ]
  },
  {
   "cell_type": "code",
   "execution_count": null,
   "metadata": {},
   "outputs": [],
   "source": [
    "from sklearn.linear_model import Lasso\n",
    "lsr = Lasso(alpha = 0.01, max_iter=10000)\n",
    "visualizer1 = PredictionError(lsr)\n",
    "visualizer1.fit(X_train, y_train)  # Fit the training data to the visualizer\n",
    "visualizer1.score(X_test, y_test)  # Evaluate the model on the test data\n",
    "visualizer1.show()  "
   ]
  },
  {
   "cell_type": "code",
   "execution_count": null,
   "metadata": {},
   "outputs": [],
   "source": [
    "visualizer2 = ResidualsPlot(lsr)\n",
    "visualizer2.fit(X_train, y_train)  # Fit the training data to the visualizer\n",
    "visualizer2.score(X_test, y_test)  # Evaluate the model on the test data\n",
    "visualizer2.show()"
   ]
  },
  {
   "cell_type": "markdown",
   "metadata": {},
   "source": [
    "Decision Tree"
   ]
  },
  {
   "cell_type": "code",
   "execution_count": null,
   "metadata": {},
   "outputs": [],
   "source": [
    "# Decision Tree Regressor\n",
    "from sklearn.tree import DecisionTreeRegressor\n",
    "dtr = DecisionTreeRegressor(max_depth = 5)\n",
    "\n",
    "visualizer1 = PredictionError(dtr)\n",
    "visualizer1.fit(X_train, y_train)  # Fit the training data to the visualizer\n",
    "visualizer1.score(X_test, y_test)  # Evaluate the model on the test data\n",
    "visualizer1.show()"
   ]
  },
  {
   "cell_type": "code",
   "execution_count": null,
   "metadata": {},
   "outputs": [],
   "source": [
    "visualizer2 = ResidualsPlot(dtr)\n",
    "visualizer2.fit(X_train, y_train)  # Fit the training data to the visualizer\n",
    "visualizer2.score(X_test, y_test)  # Evaluate the model on the test data\n",
    "visualizer2.show()"
   ]
  },
  {
   "cell_type": "markdown",
   "metadata": {},
   "source": [
    "Random Forest"
   ]
  },
  {
   "cell_type": "code",
   "execution_count": null,
   "metadata": {},
   "outputs": [],
   "source": [
    "# Random Forest Regressor\n",
    "from sklearn.ensemble import RandomForestRegressor\n",
    "rfr = RandomForestRegressor(max_depth=3, random_state=0,n_estimators=1000)\n",
    "\n",
    "visualizer1 = PredictionError(rfr)\n",
    "visualizer1.fit(X_train, y_train)  # Fit the training data to the visualizer\n",
    "visualizer1.score(X_test, y_test)  # Evaluate the model on the test data\n",
    "visualizer1.show()  "
   ]
  },
  {
   "cell_type": "code",
   "execution_count": null,
   "metadata": {},
   "outputs": [],
   "source": [
    "visualizer2 = ResidualsPlot(rfr)\n",
    "visualizer2.fit(X_train, y_train)  # Fit the training data to the visualizer\n",
    "visualizer2.score(X_test, y_test)  # Evaluate the model on the test data\n",
    "visualizer2.show()"
   ]
  },
  {
   "cell_type": "markdown",
   "metadata": {},
   "source": [
    "Support Vector Machines"
   ]
  },
  {
   "cell_type": "code",
   "execution_count": null,
   "metadata": {},
   "outputs": [],
   "source": [
    "from sklearn.svm import SVR\n",
    "# svmr = SVR(gamma = 'scale',C = 1.0, epsilon = 0.2)\n",
    "svmr = SVR(kernel='linear', gamma='auto')\n",
    "\n",
    "visualizer1 = PredictionError(svmr)\n",
    "visualizer1.fit(X_train, y_train)  # Fit the training data to the visualizer\n",
    "visualizer1.score(X_test, y_test)  # Evaluate the model on the test data\n",
    "visualizer1.show()  "
   ]
  },
  {
   "cell_type": "code",
   "execution_count": null,
   "metadata": {},
   "outputs": [],
   "source": [
    "visualizer2 = ResidualsPlot(svmr)\n",
    "visualizer2.fit(X_train, y_train)  # Fit the training data to the visualizer\n",
    "visualizer2.score(X_test, y_test)  # Evaluate the model on the test data\n",
    "visualizer2.show()"
   ]
  },
  {
   "cell_type": "markdown",
   "metadata": {},
   "source": [
    "Stochastic gradient descent regressor"
   ]
  },
  {
   "cell_type": "code",
   "execution_count": null,
   "metadata": {},
   "outputs": [],
   "source": [
    "from sklearn import linear_model\n",
    "sgdr = linear_model.SGDRegressor(max_iter=1000, tol=1e-3)\n",
    "\n",
    "visualizer1 = PredictionError(sgdr)\n",
    "visualizer1.fit(X_train, y_train)  # Fit the training data to the visualizer\n",
    "visualizer1.score(X_test, y_test)  # Evaluate the model on the test data\n",
    "visualizer1.show()  "
   ]
  },
  {
   "cell_type": "code",
   "execution_count": null,
   "metadata": {},
   "outputs": [],
   "source": [
    "visualizer2 = ResidualsPlot(sgdr)\n",
    "visualizer2.fit(X_train, y_train)  # Fit the training data to the visualizer\n",
    "visualizer2.score(X_test, y_test)  # Evaluate the model on the test data\n",
    "visualizer2.show()"
   ]
  },
  {
   "cell_type": "markdown",
   "metadata": {},
   "source": [
    "Shallow Neural Networks"
   ]
  },
  {
   "cell_type": "code",
   "execution_count": null,
   "metadata": {},
   "outputs": [],
   "source": [
    "# Shallow Neural Networks\n",
    "from sklearn.neural_network import MLPRegressor\n",
    "mlpr = MLPRegressor()\n",
    "\n",
    "visualizer1 = PredictionError(mlpr)\n",
    "visualizer1.fit(X_train, y_train)  # Fit the training data to the visualizer\n",
    "visualizer1.score(X_test, y_test)  # Evaluate the model on the test data\n",
    "visualizer1.show()  "
   ]
  },
  {
   "cell_type": "code",
   "execution_count": null,
   "metadata": {},
   "outputs": [],
   "source": [
    "visualizer2 = ResidualsPlot(mlpr)\n",
    "visualizer2.fit(X_train, y_train)  # Fit the training data to the visualizer\n",
    "visualizer2.score(X_test, y_test)  # Evaluate the model on the test data\n",
    "visualizer2.show()"
   ]
  },
  {
   "cell_type": "code",
   "execution_count": null,
   "metadata": {},
   "outputs": [],
   "source": []
  }
 ],
 "metadata": {
  "kernelspec": {
   "display_name": "Python 3",
   "language": "python",
   "name": "python3"
  },
  "language_info": {
   "codemirror_mode": {
    "name": "ipython",
    "version": 3
   },
   "file_extension": ".py",
   "mimetype": "text/x-python",
   "name": "python",
   "nbconvert_exporter": "python",
   "pygments_lexer": "ipython3",
   "version": "3.7.5"
  }
 },
 "nbformat": 4,
 "nbformat_minor": 2
}
