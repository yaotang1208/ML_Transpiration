{
 "cells": [
  {
   "cell_type": "code",
   "execution_count": 1,
   "metadata": {},
   "outputs": [],
   "source": [
    "import numpy as np\n",
    "import pandas as pd\n",
    "import matplotlib.pyplot as plt\n",
    "import matplotlib.dates as mdates\n",
    "import seaborn as sns\n",
    "import warnings\n",
    "\n",
    "from datetime import datetime, date,timedelta\n",
    "from matplotlib import gridspec\n",
    "from matplotlib import cm\n",
    "\n",
    "from yellowbrick.regressor import PredictionError, ResidualsPlot\n",
    "\n",
    "warnings.filterwarnings('ignore')\n",
    "%matplotlib inline"
   ]
  },
  {
   "cell_type": "code",
   "execution_count": 4,
   "metadata": {},
   "outputs": [
    {
     "data": {
      "text/html": [
       "<div>\n",
       "<style scoped>\n",
       "    .dataframe tbody tr th:only-of-type {\n",
       "        vertical-align: middle;\n",
       "    }\n",
       "\n",
       "    .dataframe tbody tr th {\n",
       "        vertical-align: top;\n",
       "    }\n",
       "\n",
       "    .dataframe thead th {\n",
       "        text-align: right;\n",
       "    }\n",
       "</style>\n",
       "<table border=\"1\" class=\"dataframe\">\n",
       "  <thead>\n",
       "    <tr style=\"text-align: right;\">\n",
       "      <th></th>\n",
       "      <th>TIMESTAMP</th>\n",
       "      <th>DOY</th>\n",
       "      <th>SV_IN_1A</th>\n",
       "      <th>SV_OUT_1A</th>\n",
       "      <th>SV_MEAN_1A</th>\n",
       "      <th>SV_IN_1B</th>\n",
       "      <th>SV_OUT_1B</th>\n",
       "      <th>SV_MEAN_1B</th>\n",
       "      <th>SV_IN_2A</th>\n",
       "      <th>SV_OUT_2A</th>\n",
       "      <th>...</th>\n",
       "      <th>SV_MEAN_6A</th>\n",
       "      <th>SV_IN_7A</th>\n",
       "      <th>SV_OUT_7A</th>\n",
       "      <th>SV_MEAN_7A</th>\n",
       "      <th>SV_IN_8A</th>\n",
       "      <th>SV_OUT_8A</th>\n",
       "      <th>SV_MEAN_8A</th>\n",
       "      <th>SV_IN_9A</th>\n",
       "      <th>SV_OUT_9A</th>\n",
       "      <th>SV_MEAN_9A</th>\n",
       "    </tr>\n",
       "  </thead>\n",
       "  <tbody>\n",
       "    <tr>\n",
       "      <th>0</th>\n",
       "      <td>2015-01-01 00:00:00</td>\n",
       "      <td>1</td>\n",
       "      <td>NaN</td>\n",
       "      <td>NaN</td>\n",
       "      <td>NaN</td>\n",
       "      <td>NaN</td>\n",
       "      <td>NaN</td>\n",
       "      <td>NaN</td>\n",
       "      <td>NaN</td>\n",
       "      <td>NaN</td>\n",
       "      <td>...</td>\n",
       "      <td>NaN</td>\n",
       "      <td>NaN</td>\n",
       "      <td>NaN</td>\n",
       "      <td>NaN</td>\n",
       "      <td>NaN</td>\n",
       "      <td>NaN</td>\n",
       "      <td>NaN</td>\n",
       "      <td>NaN</td>\n",
       "      <td>NaN</td>\n",
       "      <td>NaN</td>\n",
       "    </tr>\n",
       "    <tr>\n",
       "      <th>2</th>\n",
       "      <td>2015-01-01 00:30:00</td>\n",
       "      <td>1</td>\n",
       "      <td>NaN</td>\n",
       "      <td>NaN</td>\n",
       "      <td>NaN</td>\n",
       "      <td>NaN</td>\n",
       "      <td>NaN</td>\n",
       "      <td>NaN</td>\n",
       "      <td>NaN</td>\n",
       "      <td>NaN</td>\n",
       "      <td>...</td>\n",
       "      <td>NaN</td>\n",
       "      <td>NaN</td>\n",
       "      <td>NaN</td>\n",
       "      <td>NaN</td>\n",
       "      <td>NaN</td>\n",
       "      <td>NaN</td>\n",
       "      <td>NaN</td>\n",
       "      <td>NaN</td>\n",
       "      <td>NaN</td>\n",
       "      <td>NaN</td>\n",
       "    </tr>\n",
       "    <tr>\n",
       "      <th>4</th>\n",
       "      <td>2015-01-01 01:00:00</td>\n",
       "      <td>1</td>\n",
       "      <td>NaN</td>\n",
       "      <td>NaN</td>\n",
       "      <td>NaN</td>\n",
       "      <td>NaN</td>\n",
       "      <td>NaN</td>\n",
       "      <td>NaN</td>\n",
       "      <td>NaN</td>\n",
       "      <td>NaN</td>\n",
       "      <td>...</td>\n",
       "      <td>NaN</td>\n",
       "      <td>NaN</td>\n",
       "      <td>NaN</td>\n",
       "      <td>NaN</td>\n",
       "      <td>NaN</td>\n",
       "      <td>NaN</td>\n",
       "      <td>NaN</td>\n",
       "      <td>NaN</td>\n",
       "      <td>NaN</td>\n",
       "      <td>NaN</td>\n",
       "    </tr>\n",
       "    <tr>\n",
       "      <th>6</th>\n",
       "      <td>2015-01-01 01:30:00</td>\n",
       "      <td>1</td>\n",
       "      <td>NaN</td>\n",
       "      <td>NaN</td>\n",
       "      <td>NaN</td>\n",
       "      <td>NaN</td>\n",
       "      <td>NaN</td>\n",
       "      <td>NaN</td>\n",
       "      <td>NaN</td>\n",
       "      <td>NaN</td>\n",
       "      <td>...</td>\n",
       "      <td>NaN</td>\n",
       "      <td>NaN</td>\n",
       "      <td>NaN</td>\n",
       "      <td>NaN</td>\n",
       "      <td>NaN</td>\n",
       "      <td>NaN</td>\n",
       "      <td>NaN</td>\n",
       "      <td>NaN</td>\n",
       "      <td>NaN</td>\n",
       "      <td>NaN</td>\n",
       "    </tr>\n",
       "    <tr>\n",
       "      <th>8</th>\n",
       "      <td>2015-01-01 02:00:00</td>\n",
       "      <td>1</td>\n",
       "      <td>NaN</td>\n",
       "      <td>NaN</td>\n",
       "      <td>NaN</td>\n",
       "      <td>NaN</td>\n",
       "      <td>NaN</td>\n",
       "      <td>NaN</td>\n",
       "      <td>NaN</td>\n",
       "      <td>NaN</td>\n",
       "      <td>...</td>\n",
       "      <td>NaN</td>\n",
       "      <td>NaN</td>\n",
       "      <td>NaN</td>\n",
       "      <td>NaN</td>\n",
       "      <td>NaN</td>\n",
       "      <td>NaN</td>\n",
       "      <td>NaN</td>\n",
       "      <td>NaN</td>\n",
       "      <td>NaN</td>\n",
       "      <td>NaN</td>\n",
       "    </tr>\n",
       "  </tbody>\n",
       "</table>\n",
       "<p>5 rows × 41 columns</p>\n",
       "</div>"
      ],
      "text/plain": [
       "            TIMESTAMP  DOY  SV_IN_1A  SV_OUT_1A  SV_MEAN_1A  SV_IN_1B  \\\n",
       "0 2015-01-01 00:00:00    1       NaN        NaN         NaN       NaN   \n",
       "2 2015-01-01 00:30:00    1       NaN        NaN         NaN       NaN   \n",
       "4 2015-01-01 01:00:00    1       NaN        NaN         NaN       NaN   \n",
       "6 2015-01-01 01:30:00    1       NaN        NaN         NaN       NaN   \n",
       "8 2015-01-01 02:00:00    1       NaN        NaN         NaN       NaN   \n",
       "\n",
       "   SV_OUT_1B  SV_MEAN_1B  SV_IN_2A  SV_OUT_2A  ...  SV_MEAN_6A  SV_IN_7A  \\\n",
       "0        NaN         NaN       NaN        NaN  ...         NaN       NaN   \n",
       "2        NaN         NaN       NaN        NaN  ...         NaN       NaN   \n",
       "4        NaN         NaN       NaN        NaN  ...         NaN       NaN   \n",
       "6        NaN         NaN       NaN        NaN  ...         NaN       NaN   \n",
       "8        NaN         NaN       NaN        NaN  ...         NaN       NaN   \n",
       "\n",
       "   SV_OUT_7A  SV_MEAN_7A  SV_IN_8A  SV_OUT_8A  SV_MEAN_8A  SV_IN_9A  \\\n",
       "0        NaN         NaN       NaN        NaN         NaN       NaN   \n",
       "2        NaN         NaN       NaN        NaN         NaN       NaN   \n",
       "4        NaN         NaN       NaN        NaN         NaN       NaN   \n",
       "6        NaN         NaN       NaN        NaN         NaN       NaN   \n",
       "8        NaN         NaN       NaN        NaN         NaN       NaN   \n",
       "\n",
       "   SV_OUT_9A  SV_MEAN_9A  \n",
       "0        NaN         NaN  \n",
       "2        NaN         NaN  \n",
       "4        NaN         NaN  \n",
       "6        NaN         NaN  \n",
       "8        NaN         NaN  \n",
       "\n",
       "[5 rows x 41 columns]"
      ]
     },
     "execution_count": 4,
     "metadata": {},
     "output_type": "execute_result"
    }
   ],
   "source": [
    "df_SF = pd.read_pickle('df_SF_HH.pkl')\n",
    "df_SF.head()"
   ]
  },
  {
   "cell_type": "code",
   "execution_count": 5,
   "metadata": {},
   "outputs": [
    {
     "data": {
      "text/html": [
       "<div>\n",
       "<style scoped>\n",
       "    .dataframe tbody tr th:only-of-type {\n",
       "        vertical-align: middle;\n",
       "    }\n",
       "\n",
       "    .dataframe tbody tr th {\n",
       "        vertical-align: top;\n",
       "    }\n",
       "\n",
       "    .dataframe thead th {\n",
       "        text-align: right;\n",
       "    }\n",
       "</style>\n",
       "<table border=\"1\" class=\"dataframe\">\n",
       "  <thead>\n",
       "    <tr style=\"text-align: right;\">\n",
       "      <th></th>\n",
       "      <th>TIMESTAMP_START</th>\n",
       "      <th>TIMESTAMP_END</th>\n",
       "      <th>DOY</th>\n",
       "      <th>daytime</th>\n",
       "      <th>file_records</th>\n",
       "      <th>used_records</th>\n",
       "      <th>Tau</th>\n",
       "      <th>qc_Tau</th>\n",
       "      <th>H</th>\n",
       "      <th>qc_H</th>\n",
       "      <th>...</th>\n",
       "      <th>u_var</th>\n",
       "      <th>v_var</th>\n",
       "      <th>w_var</th>\n",
       "      <th>ts_var</th>\n",
       "      <th>co2_var</th>\n",
       "      <th>h2o_var</th>\n",
       "      <th>w/ts_cov</th>\n",
       "      <th>w/co2_cov</th>\n",
       "      <th>w/h2o_cov</th>\n",
       "      <th>TIMESTAMP</th>\n",
       "    </tr>\n",
       "  </thead>\n",
       "  <tbody>\n",
       "    <tr>\n",
       "      <th>0</th>\n",
       "      <td>201201010730</td>\n",
       "      <td>201201010800</td>\n",
       "      <td>NaN</td>\n",
       "      <td>NaN</td>\n",
       "      <td>NaN</td>\n",
       "      <td>NaN</td>\n",
       "      <td>NaN</td>\n",
       "      <td>NaN</td>\n",
       "      <td>NaN</td>\n",
       "      <td>NaN</td>\n",
       "      <td>...</td>\n",
       "      <td>NaN</td>\n",
       "      <td>NaN</td>\n",
       "      <td>NaN</td>\n",
       "      <td>NaN</td>\n",
       "      <td>NaN</td>\n",
       "      <td>NaN</td>\n",
       "      <td>NaN</td>\n",
       "      <td>NaN</td>\n",
       "      <td>NaN</td>\n",
       "      <td>2012-01-01 07:30:00</td>\n",
       "    </tr>\n",
       "    <tr>\n",
       "      <th>1</th>\n",
       "      <td>201201010800</td>\n",
       "      <td>201201010830</td>\n",
       "      <td>NaN</td>\n",
       "      <td>NaN</td>\n",
       "      <td>NaN</td>\n",
       "      <td>NaN</td>\n",
       "      <td>NaN</td>\n",
       "      <td>NaN</td>\n",
       "      <td>NaN</td>\n",
       "      <td>NaN</td>\n",
       "      <td>...</td>\n",
       "      <td>NaN</td>\n",
       "      <td>NaN</td>\n",
       "      <td>NaN</td>\n",
       "      <td>NaN</td>\n",
       "      <td>NaN</td>\n",
       "      <td>NaN</td>\n",
       "      <td>NaN</td>\n",
       "      <td>NaN</td>\n",
       "      <td>NaN</td>\n",
       "      <td>2012-01-01 08:00:00</td>\n",
       "    </tr>\n",
       "    <tr>\n",
       "      <th>2</th>\n",
       "      <td>201201010830</td>\n",
       "      <td>201201010900</td>\n",
       "      <td>NaN</td>\n",
       "      <td>NaN</td>\n",
       "      <td>NaN</td>\n",
       "      <td>NaN</td>\n",
       "      <td>NaN</td>\n",
       "      <td>NaN</td>\n",
       "      <td>NaN</td>\n",
       "      <td>NaN</td>\n",
       "      <td>...</td>\n",
       "      <td>NaN</td>\n",
       "      <td>NaN</td>\n",
       "      <td>NaN</td>\n",
       "      <td>NaN</td>\n",
       "      <td>NaN</td>\n",
       "      <td>NaN</td>\n",
       "      <td>NaN</td>\n",
       "      <td>NaN</td>\n",
       "      <td>NaN</td>\n",
       "      <td>2012-01-01 08:30:00</td>\n",
       "    </tr>\n",
       "    <tr>\n",
       "      <th>3</th>\n",
       "      <td>201201010900</td>\n",
       "      <td>201201010930</td>\n",
       "      <td>NaN</td>\n",
       "      <td>NaN</td>\n",
       "      <td>NaN</td>\n",
       "      <td>NaN</td>\n",
       "      <td>NaN</td>\n",
       "      <td>NaN</td>\n",
       "      <td>NaN</td>\n",
       "      <td>NaN</td>\n",
       "      <td>...</td>\n",
       "      <td>NaN</td>\n",
       "      <td>NaN</td>\n",
       "      <td>NaN</td>\n",
       "      <td>NaN</td>\n",
       "      <td>NaN</td>\n",
       "      <td>NaN</td>\n",
       "      <td>NaN</td>\n",
       "      <td>NaN</td>\n",
       "      <td>NaN</td>\n",
       "      <td>2012-01-01 09:00:00</td>\n",
       "    </tr>\n",
       "    <tr>\n",
       "      <th>4</th>\n",
       "      <td>201201010930</td>\n",
       "      <td>201201011000</td>\n",
       "      <td>NaN</td>\n",
       "      <td>NaN</td>\n",
       "      <td>NaN</td>\n",
       "      <td>NaN</td>\n",
       "      <td>NaN</td>\n",
       "      <td>NaN</td>\n",
       "      <td>NaN</td>\n",
       "      <td>NaN</td>\n",
       "      <td>...</td>\n",
       "      <td>NaN</td>\n",
       "      <td>NaN</td>\n",
       "      <td>NaN</td>\n",
       "      <td>NaN</td>\n",
       "      <td>NaN</td>\n",
       "      <td>NaN</td>\n",
       "      <td>NaN</td>\n",
       "      <td>NaN</td>\n",
       "      <td>NaN</td>\n",
       "      <td>2012-01-01 09:30:00</td>\n",
       "    </tr>\n",
       "  </tbody>\n",
       "</table>\n",
       "<p>5 rows × 110 columns</p>\n",
       "</div>"
      ],
      "text/plain": [
       "   TIMESTAMP_START  TIMESTAMP_END  DOY  daytime  file_records  used_records  \\\n",
       "0     201201010730   201201010800  NaN      NaN           NaN           NaN   \n",
       "1     201201010800   201201010830  NaN      NaN           NaN           NaN   \n",
       "2     201201010830   201201010900  NaN      NaN           NaN           NaN   \n",
       "3     201201010900   201201010930  NaN      NaN           NaN           NaN   \n",
       "4     201201010930   201201011000  NaN      NaN           NaN           NaN   \n",
       "\n",
       "   Tau  qc_Tau   H  qc_H  ...  u_var  v_var  w_var  ts_var  co2_var  h2o_var  \\\n",
       "0  NaN     NaN NaN   NaN  ...    NaN    NaN    NaN     NaN      NaN      NaN   \n",
       "1  NaN     NaN NaN   NaN  ...    NaN    NaN    NaN     NaN      NaN      NaN   \n",
       "2  NaN     NaN NaN   NaN  ...    NaN    NaN    NaN     NaN      NaN      NaN   \n",
       "3  NaN     NaN NaN   NaN  ...    NaN    NaN    NaN     NaN      NaN      NaN   \n",
       "4  NaN     NaN NaN   NaN  ...    NaN    NaN    NaN     NaN      NaN      NaN   \n",
       "\n",
       "   w/ts_cov  w/co2_cov  w/h2o_cov           TIMESTAMP  \n",
       "0       NaN        NaN        NaN 2012-01-01 07:30:00  \n",
       "1       NaN        NaN        NaN 2012-01-01 08:00:00  \n",
       "2       NaN        NaN        NaN 2012-01-01 08:30:00  \n",
       "3       NaN        NaN        NaN 2012-01-01 09:00:00  \n",
       "4       NaN        NaN        NaN 2012-01-01 09:30:00  \n",
       "\n",
       "[5 rows x 110 columns]"
      ]
     },
     "execution_count": 5,
     "metadata": {},
     "output_type": "execute_result"
    }
   ],
   "source": [
    "df_EC = pd.read_pickle('df_EC.pkl')\n",
    "df_EC.head()"
   ]
  },
  {
   "cell_type": "code",
   "execution_count": null,
   "metadata": {},
   "outputs": [],
   "source": []
  },
  {
   "cell_type": "code",
   "execution_count": 6,
   "metadata": {},
   "outputs": [],
   "source": [
    "# df_SF.dtypes"
   ]
  },
  {
   "cell_type": "code",
   "execution_count": 7,
   "metadata": {},
   "outputs": [],
   "source": [
    "FILE_MET = 'k34_Met_Soil_v0.csv'\n",
    "df_met = pd.read_csv(FILE_MET, header = 0, na_values = '-9999')"
   ]
  },
  {
   "cell_type": "code",
   "execution_count": 8,
   "metadata": {},
   "outputs": [],
   "source": [
    "df_met['TIMESTAMP'] = [datetime.strptime(str(i),'%Y%m%d%H%M') for i in df_met['TIMESTAMP_START']]"
   ]
  },
  {
   "cell_type": "code",
   "execution_count": null,
   "metadata": {},
   "outputs": [],
   "source": []
  },
  {
   "cell_type": "markdown",
   "metadata": {},
   "source": [
    "Combine micro-met data and sap flow data"
   ]
  },
  {
   "cell_type": "code",
   "execution_count": 9,
   "metadata": {},
   "outputs": [],
   "source": [
    "df = pd.merge(df_met,df_SF,how = 'left',on = 'TIMESTAMP')\n",
    "df = pd.merge(df,df_EC,how = 'left',on = 'TIMESTAMP')\n",
    "# df.head()"
   ]
  },
  {
   "cell_type": "code",
   "execution_count": 10,
   "metadata": {},
   "outputs": [
    {
     "name": "stdout",
     "output_type": "stream",
     "text": [
      "['TIMESTAMP_START_x', 'TIMESTAMP_END_x', 'G', 'SWC_1', 'SWC_2', 'SWC_3', 'SWC_4', 'SWC_5', 'SWC_6', 'TS_1', 'TS_2', 'TS_3', 'TS_4', 'TS_5', 'SW_IN', 'SW_OUT', 'LW_IN', 'LW_OUT', 'PPFD_IN', 'RH_1', 'RH_2', 'RH_3', 'RH_4', 'RH_5', 'RH_6', 'PPFD_OUT', 'NETRAD', 'T_CANOPY', 'PA', 'P_1', 'P_2', 'BATTERY_VOLTAGE', 'T_LW_IN', 'T_LW_OUT', 'TA_1', 'TA_2', 'TA_3', 'TA_4', 'TA_5', 'TA_6', 'WS_1', 'WD_1', 'WS_2', 'WS_3', 'WS_4', 'H2O_1', 'H2O_2', 'H2O_3', 'H2O_4', 'H2O_5', 'H2O_6', 'CO2_1', 'CO2_2', 'CO2_3', 'CO2_4', 'CO2_5', 'CO2_6', 'LW_IN_CORR', 'LW_OUT_CORR', 'PPFD_IN_2', 'Rho_PAR', 'Rho_OIR', 'NDVI', 'TIMESTAMP', 'DOY_x', 'SV_IN_1A', 'SV_OUT_1A', 'SV_MEAN_1A', 'SV_IN_1B', 'SV_OUT_1B', 'SV_MEAN_1B', 'SV_IN_2A', 'SV_OUT_2A', 'SV_MEAN_2A', 'SV_IN_2B', 'SV_OUT_2B', 'SV_MEAN_2B', 'SV_IN_3A', 'SV_OUT_3A', 'SV_MEAN_3A', 'SV_IN_3B', 'SV_OUT_3B', 'SV_MEAN_3B', 'SV_IN_4A', 'SV_OUT_4A', 'SV_MEAN_4A', 'SV_IN_5A', 'SV_OUT_5A', 'SV_MEAN_5A', 'SV_IN_5B', 'SV_OUT_5B', 'SV_MEAN_5B', 'SV_IN_6A', 'SV_OUT_6A', 'SV_MEAN_6A', 'SV_IN_7A', 'SV_OUT_7A', 'SV_MEAN_7A', 'SV_IN_8A', 'SV_OUT_8A', 'SV_MEAN_8A', 'SV_IN_9A', 'SV_OUT_9A', 'SV_MEAN_9A', 'TIMESTAMP_START_y', 'TIMESTAMP_END_y', 'DOY_y', 'daytime', 'file_records', 'used_records', 'Tau', 'qc_Tau', 'H', 'qc_H', 'LE', 'qc_LE', 'co2_flux', 'qc_co2_flux', 'h2o_flux', 'qc_h2o_flux', 'H_strg', 'LE_strg', 'co2_strg', 'h2o_strg', 'co2_v-adv', 'h2o_v-adv', 'co2_molar_density', 'co2_mole_fraction', 'co2_mixing_ratio', 'co2_time_lag', 'co2_def_timelag', 'h2o_molar_density', 'h2o_mole_fraction', 'h2o_mixing_ratio', 'h2o_time_lag', 'h2o_def_timelag', 'sonic_temperature', 'air_temperature', 'air_pressure', 'air_density', 'air_heat_capacity', 'air_molar_volume', 'ET', 'water_vapor_density', 'e', 'es', 'specific_humidity', 'RH', 'VPD', 'Tdew', 'u_unrot', 'v_unrot', 'w_unrot', 'u_rot', 'v_rot', 'w_rot', 'wind_speed', 'max_wind_speed', 'wind_dir', 'yaw', 'pitch', 'roll', 'u*', 'TKE', 'L', '(z-d)/L', 'bowen_ratio', 'T*', 'model', 'x_peak', 'x_offset', 'x_10%', 'x_30%', 'x_50%', 'x_70%', 'x_90%', 'un_Tau', 'Tau_scf', 'un_H', 'H_scf', 'un_LE', 'LE_scf', 'un_co2_flux', 'co2_scf', 'un_h2o_flux', 'h2o_scf', 'spikes_hf', 'amplitude_resolution_hf', 'drop_out_hf', 'absolute_limits_hf', 'skewness_kurtosis_hf', 'skewness_kurtosis_sf', 'discontinuities_hf', 'discontinuities_sf', 'timelag_hf', 'timelag_sf', 'attack_angle_hf', 'non_steady_wind_hf', 'u_spikes', 'v_spikes', 'w_spikes', 'ts_spikes', 'co2_spikes', 'h2o_spikes', 'u_var', 'v_var', 'w_var', 'ts_var', 'co2_var', 'h2o_var', 'w/ts_cov', 'w/co2_cov', 'w/h2o_cov']\n"
     ]
    }
   ],
   "source": [
    "print(list(df))"
   ]
  },
  {
   "cell_type": "code",
   "execution_count": null,
   "metadata": {},
   "outputs": [],
   "source": []
  },
  {
   "cell_type": "code",
   "execution_count": 10,
   "metadata": {},
   "outputs": [],
   "source": [
    "cols_drop = ['TIMESTAMP_START','TIMESTAMP_END','TIMESTAMP','BATTERY_VOLTAGE',\n",
    "             'H2O_1','H2O_2','H2O_3','H2O_4','H2O_5','H2O_6',\n",
    "             'RH_2','RH_3','RH_4','RH_5','P_2','RH_6',\n",
    "             'WS_4','Rho_PAR','Rho_OIR','NDVI',\n",
    "             'PPFD_IN','PPFD_OUT','T_LW_IN','T_LW_OUT','LW_IN','LW_OUT',\n",
    "             'PPFD_IN_2','PA']\n",
    "# cols = ['G', 'SWC_1', 'SWC_2', 'SWC_3', 'SWC_4', 'SWC_5', 'SWC_6', \n",
    "#        'TS_1', 'TS_2', 'TS_3', 'TS_4', 'TS_5', \n",
    "#        'SW_IN', 'SW_OUT', 'RH_1','NETRAD', 'T_CANOPY', \n",
    "#        'TA_1', 'TA_2', 'TA_3', 'TA_4', 'TA_5', 'TA_6', \n",
    "#        'WS_1', 'WD_1', \n",
    "#        'CO2_1', 'CO2_2', 'CO2_3', 'CO2_4', 'CO2_5', 'CO2_6', \n",
    "#        'LW_IN_CORR', 'LW_OUT_CORR', \n",
    "#        'SV_OUT_1A']\n",
    "# cols = ['G', 'SWC_1', 'SWC_2', 'SWC_3', 'SWC_4', 'SWC_5', 'SWC_6', \n",
    "#        'TS_1', 'TS_2', 'TS_3', 'TS_4', 'TS_5', \n",
    "#        'SW_IN', 'SW_OUT', 'RH_1','NETRAD', 'T_CANOPY', \n",
    "#        'TA_1', 'TA_2', 'TA_3', 'TA_4', 'TA_5', 'TA_6', \n",
    "#        'WS_1', \n",
    "#        'CO2_1', 'CO2_2', 'CO2_3', 'CO2_4', 'CO2_5', 'CO2_6', \n",
    "#        'SV_OUT_1A']\n",
    "cols = ['G', 'SWC_1', 'SWC_2', 'SWC_3', 'SWC_4', 'SWC_5', 'SWC_6', \n",
    "       'TS_1', 'TS_2', 'TS_3', 'TS_4', 'TS_5',\n",
    "        'RH_1','NETRAD', 'T_CANOPY', \n",
    "       'TA_1', 'TA_2', 'TA_3', 'TA_4', 'TA_5', 'TA_6', \n",
    "       'CO2_1', 'CO2_2', 'CO2_3', 'CO2_4', 'CO2_5', 'CO2_6', \n",
    "       'SV_OUT_1A']\n",
    "df_fs = df[cols].copy()\n",
    "# df_fs.head()"
   ]
  },
  {
   "cell_type": "code",
   "execution_count": 11,
   "metadata": {},
   "outputs": [],
   "source": [
    "# print(cols)"
   ]
  },
  {
   "cell_type": "code",
   "execution_count": 12,
   "metadata": {},
   "outputs": [],
   "source": [
    "# df_fs.isna().sum()"
   ]
  },
  {
   "cell_type": "code",
   "execution_count": 13,
   "metadata": {},
   "outputs": [],
   "source": [
    "# df_fs['SV_OUT_1A'].plot()"
   ]
  },
  {
   "cell_type": "code",
   "execution_count": 14,
   "metadata": {},
   "outputs": [
    {
     "name": "stdout",
     "output_type": "stream",
     "text": [
      "['G', 'SWC_1', 'SWC_2', 'SWC_3', 'SWC_4', 'SWC_5', 'SWC_6', 'TS_1', 'TS_2', 'TS_3', 'TS_4', 'TS_5', 'RH_1', 'NETRAD', 'T_CANOPY', 'TA_1', 'TA_2', 'TA_3', 'TA_4', 'TA_5', 'TA_6', 'CO2_1', 'CO2_2', 'CO2_3', 'CO2_4', 'CO2_5']\n"
     ]
    }
   ],
   "source": [
    "y_list = ['SV_OUT_1A']\n",
    "cols_x = cols[:-2]\n",
    "print(cols_x)"
   ]
  },
  {
   "cell_type": "code",
   "execution_count": 15,
   "metadata": {},
   "outputs": [],
   "source": [
    "# sns.pairplot(df_fs,x_vars = cols,y_vars='SV_OUT_1A')"
   ]
  },
  {
   "cell_type": "code",
   "execution_count": 16,
   "metadata": {},
   "outputs": [
    {
     "name": "stdout",
     "output_type": "stream",
     "text": [
      "['G', 'SWC_1', 'SWC_2', 'SWC_3', 'SWC_4', 'SWC_5', 'SWC_6', 'TS_1', 'TS_2', 'TS_3', 'TS_4', 'TS_5', 'RH_1', 'NETRAD', 'T_CANOPY', 'TA_1', 'TA_2', 'TA_3', 'TA_4', 'TA_5', 'TA_6', 'CO2_1', 'CO2_2', 'CO2_3', 'CO2_4', 'CO2_5', 'CO2_6', 'SV_OUT_1A']\n"
     ]
    }
   ],
   "source": [
    "print(list(df_fs))"
   ]
  },
  {
   "cell_type": "code",
   "execution_count": 17,
   "metadata": {},
   "outputs": [
    {
     "data": {
      "text/plain": [
       "(7803, 28)"
      ]
     },
     "execution_count": 17,
     "metadata": {},
     "output_type": "execute_result"
    }
   ],
   "source": [
    "df_ml = df_fs.dropna(axis = 0,how = 'any')\n",
    "df_ml.shape"
   ]
  },
  {
   "cell_type": "code",
   "execution_count": 18,
   "metadata": {},
   "outputs": [],
   "source": [
    "df_ml.to_pickle('SapVelocity_ML.pkl')"
   ]
  },
  {
   "cell_type": "code",
   "execution_count": 19,
   "metadata": {},
   "outputs": [
    {
     "name": "stdout",
     "output_type": "stream",
     "text": [
      "['G', 'SWC_1', 'SWC_2', 'SWC_3', 'SWC_4', 'SWC_5', 'SWC_6', 'TS_1', 'TS_2', 'TS_3', 'TS_4', 'TS_5', 'RH_1', 'NETRAD', 'T_CANOPY', 'TA_1', 'TA_2', 'TA_3', 'TA_4', 'TA_5', 'TA_6', 'CO2_1', 'CO2_2', 'CO2_3', 'CO2_4', 'CO2_5', 'CO2_6', 'SV_OUT_1A']\n"
     ]
    }
   ],
   "source": [
    "print(list(df_ml))"
   ]
  },
  {
   "cell_type": "markdown",
   "metadata": {},
   "source": [
    "# Machine Learning Models"
   ]
  },
  {
   "cell_type": "code",
   "execution_count": 20,
   "metadata": {},
   "outputs": [],
   "source": [
    "X_org = df_ml.drop(['SV_OUT_1A'],axis = 1)\n",
    "y_org = df_ml['SV_OUT_1A']"
   ]
  },
  {
   "cell_type": "code",
   "execution_count": 21,
   "metadata": {},
   "outputs": [],
   "source": [
    "from sklearn import preprocessing\n",
    "lab_enc = preprocessing.LabelEncoder()\n",
    "y_encoded = lab_enc.fit_transform(y_org)"
   ]
  },
  {
   "cell_type": "markdown",
   "metadata": {},
   "source": [
    "# Feature Importance "
   ]
  },
  {
   "cell_type": "code",
   "execution_count": 23,
   "metadata": {},
   "outputs": [
    {
     "name": "stdout",
     "output_type": "stream",
     "text": [
      "[0.04216719 0.02929679 0.02958389 0.02970864 0.02861124 0.02943063\n",
      " 0.02687479 0.03898664 0.03471685 0.0371633  0.03954653 0.03913143\n",
      " 0.04365355 0.04730994 0.03860243 0.03699949 0.03748263 0.03718732\n",
      " 0.03969359 0.03645609 0.03814949 0.04077941 0.03914535 0.0372422\n",
      " 0.03806049 0.04121999 0.04280014]\n"
     ]
    },
    {
     "data": {
      "image/png": "[encoded data removed]",
      "text/plain": [
       "<Figure size 432x288 with 1 Axes>"
      ]
     },
     "metadata": {
      "needs_background": "light"
     },
     "output_type": "display_data"
    },
    {
     "name": "stdout",
     "output_type": "stream",
     "text": [
      "Feature ranking:\n",
      "1. feature 13 (0.047310)\n",
      "2. feature 12 (0.043654)\n",
      "3. feature 26 (0.042800)\n",
      "4. feature 0 (0.042167)\n",
      "5. feature 25 (0.041220)\n",
      "6. feature 21 (0.040779)\n",
      "7. feature 18 (0.039694)\n",
      "8. feature 10 (0.039547)\n",
      "9. feature 22 (0.039145)\n",
      "10. feature 11 (0.039131)\n",
      "11. feature 7 (0.038987)\n",
      "12. feature 14 (0.038602)\n",
      "13. feature 20 (0.038149)\n",
      "14. feature 24 (0.038060)\n",
      "15. feature 16 (0.037483)\n",
      "16. feature 23 (0.037242)\n",
      "17. feature 17 (0.037187)\n",
      "18. feature 9 (0.037163)\n",
      "19. feature 15 (0.036999)\n",
      "20. feature 19 (0.036456)\n",
      "21. feature 8 (0.034717)\n",
      "22. feature 3 (0.029709)\n",
      "23. feature 2 (0.029584)\n",
      "24. feature 5 (0.029431)\n",
      "25. feature 1 (0.029297)\n",
      "26. feature 4 (0.028611)\n",
      "27. feature 6 (0.026875)\n"
     ]
    },
    {
     "data": {
      "image/png": "[encoded data removed]",
      "text/plain": [
       "<Figure size 432x288 with 1 Axes>"
      ]
     },
     "metadata": {
      "needs_background": "light"
     },
     "output_type": "display_data"
    }
   ],
   "source": [
    "from sklearn.ensemble import ExtraTreesClassifier\n",
    "from sklearn.ensemble import RandomForestClassifier\n",
    "from sklearn.ensemble import GradientBoostingClassifier\n",
    "forest = RandomForestClassifier()\n",
    "forest.fit(X_org,y_encoded)\n",
    "print(forest.feature_importances_)\n",
    "feat_importances = pd.Series(forest.feature_importances_, index=X_org.columns)\n",
    "feat_importances.nlargest(10).plot(kind='barh')\n",
    "plt.show()\n",
    "\n",
    "importances = forest.feature_importances_\n",
    "std = np.std([tree.feature_importances_ for tree in forest.estimators_],\n",
    "             axis=0)\n",
    "indices = np.argsort(importances)[::-1]\n",
    "\n",
    "# Print the feature ranking\n",
    "print(\"Feature ranking:\")\n",
    "\n",
    "for f in range(X_org.shape[1]):\n",
    "    print(\"%d. feature %d (%f)\" % (f + 1, indices[f], importances[indices[f]]))\n",
    "\n",
    "# Plot the feature importances of the forest\n",
    "plt.figure()\n",
    "# plt.title(\"Feature importances\")\n",
    "plt.bar(range(X_org.shape[1]), importances[indices],\n",
    "       color=\"r\", yerr=std[indices], align=\"center\")\n",
    "plt.xticks(range(X_org.shape[1]), indices)\n",
    "plt.xlim([-1, X_org.shape[1]])\n",
    "plt.ylabel(\"Importances\")\n",
    "plt.show()"
   ]
  },
  {
   "cell_type": "code",
   "execution_count": 31,
   "metadata": {},
   "outputs": [
    {
     "data": {
      "image/png": "[encoded data removed]",
      "text/plain": [
       "<Figure size 1296x288 with 1 Axes>"
      ]
     },
     "metadata": {
      "needs_background": "light"
     },
     "output_type": "display_data"
    }
   ],
   "source": [
    "# Plot the feature importances of the forest\n",
    "plt.figure(figsize = (18,4))\n",
    "# plt.title(\"ET Feature importances\")\n",
    "barlist = plt.bar(range(X_org.shape[1]), importances[indices],\n",
    "       color=\"g\", yerr=std[indices], align=\"center\")\n",
    "for i in range(5):\n",
    "    barlist[i].set_color('r')\n",
    "for i in range(6):\n",
    "    barlist[-(i+1)].set_color('b')\n",
    "plt.xticks(range(X_org.shape[1]), X_org.columns[indices])\n",
    "plt.xlim([-1, X_org.shape[1]])\n",
    "plt.ylabel(\"Importances\")\n",
    "plt.show()"
   ]
  },
  {
   "cell_type": "code",
   "execution_count": null,
   "metadata": {},
   "outputs": [],
   "source": [
    "feat_importances"
   ]
  },
  {
   "cell_type": "markdown",
   "metadata": {},
   "source": [
    "# Feature Selection"
   ]
  },
  {
   "cell_type": "markdown",
   "metadata": {},
   "source": [
    "Model-based Feature Selection"
   ]
  },
  {
   "cell_type": "code",
   "execution_count": null,
   "metadata": {},
   "outputs": [],
   "source": [
    "from sklearn.ensemble import GradientBoostingRegressor\n",
    "from sklearn.feature_selection import SelectFromModel\n",
    "# X.shape\n",
    "\n",
    "clf = GradientBoostingRegressor(n_estimators=100, learning_rate=0.1,max_depth=1, random_state=0, loss='ls')\n",
    "clf = clf.fit(X_org, y_org)\n",
    "clf.feature_importances_  \n",
    "\n",
    "model = SelectFromModel(clf, prefit=True)\n",
    "X_new = model.transform(X_org)\n",
    "y_new = y_org\n",
    "# X_new.shape   \n",
    "\n",
    "cols = model.get_support(indices=True)\n",
    "# Create new dataframe with only desired columns, or overwrite existing\n",
    "new_features = X_org.columns[cols]\n",
    "print(list(new_features))"
   ]
  },
  {
   "cell_type": "code",
   "execution_count": null,
   "metadata": {},
   "outputs": [],
   "source": []
  },
  {
   "cell_type": "code",
   "execution_count": null,
   "metadata": {},
   "outputs": [],
   "source": [
    "# # Feature Selection\n",
    "# # Automatic Fearture Selection\n",
    "# from sklearn.feature_selection import SelectPercentile\n",
    "# rng = np.random.RandomState(42)\n",
    "# noise_train = rng.normal(size=(len(X_train_prefs), 50))\n",
    "# X_train_noise = np.hstack([X_train_prefs, noise_train])\n",
    "# noise_test = rng.normal(size=(len(X_test_prefs), 50))\n",
    "# X_test_noise = np.hstack([X_test_prefs, noise_test])\n",
    "\n",
    "# select = SelectPercentile(percentile=10)\n",
    "# select.fit(X_train_noise, y_train)\n",
    "\n",
    "# # transform training set\n",
    "# X_train1 = select.transform(X_train_noise)\n",
    "# # transform test data\n",
    "# X_test1 = select.transform(X_test_noise)\n",
    "\n",
    "# print(\"X_train.shape: {}\".format(X_train_noise.shape))\n",
    "# print(\"X_train_selected.shape: {}\".format(X_train1.shape))"
   ]
  },
  {
   "cell_type": "markdown",
   "metadata": {},
   "source": [
    "Split train and test data"
   ]
  },
  {
   "cell_type": "markdown",
   "metadata": {},
   "source": [
    "1. assign datasets for ML models"
   ]
  },
  {
   "cell_type": "code",
   "execution_count": 1,
   "metadata": {},
   "outputs": [
    {
     "ename": "NameError",
     "evalue": "name 'X_org' is not defined",
     "output_type": "error",
     "traceback": [
      "\u001b[1;31m---------------------------------------------------------------------------\u001b[0m",
      "\u001b[1;31mNameError\u001b[0m                                 Traceback (most recent call last)",
      "\u001b[1;32m<ipython-input-1-74253e6bf373>\u001b[0m in \u001b[0;36m<module>\u001b[1;34m\u001b[0m\n\u001b[1;32m----> 1\u001b[1;33m \u001b[0mX\u001b[0m \u001b[1;33m=\u001b[0m \u001b[0mX_org\u001b[0m\u001b[1;33m\u001b[0m\u001b[1;33m\u001b[0m\u001b[0m\n\u001b[0m\u001b[0;32m      2\u001b[0m \u001b[0my\u001b[0m \u001b[1;33m=\u001b[0m \u001b[0my_org\u001b[0m\u001b[1;33m\u001b[0m\u001b[1;33m\u001b[0m\u001b[0m\n",
      "\u001b[1;31mNameError\u001b[0m: name 'X_org' is not defined"
     ]
    }
   ],
   "source": [
    "X = X_org\n",
    "y = y_org"
   ]
  },
  {
   "cell_type": "code",
   "execution_count": null,
   "metadata": {},
   "outputs": [],
   "source": [
    "# Split train and test data\n",
    "from sklearn.model_selection import train_test_split\n",
    "X_train_pre, X_test_pre, y_train, y_test = train_test_split(X, y)"
   ]
  },
  {
   "cell_type": "code",
   "execution_count": null,
   "metadata": {},
   "outputs": [],
   "source": [
    "# Preprocessing & Normalization\n",
    "from sklearn.preprocessing import MinMaxScaler, StandardScaler\n",
    "scaler = StandardScaler()\n",
    "scaler.fit(X_train_pre)\n",
    "# Train and Test data before feature selection\n",
    "X_train_prefs = scaler.transform(X_train_pre)\n",
    "X_test_prefs = scaler.transform(X_test_pre)"
   ]
  },
  {
   "cell_type": "markdown",
   "metadata": {},
   "source": [
    "Train and Test Data"
   ]
  },
  {
   "cell_type": "code",
   "execution_count": null,
   "metadata": {},
   "outputs": [],
   "source": [
    "X_train = X_train_prefs\n",
    "X_test = X_test_prefs"
   ]
  },
  {
   "cell_type": "markdown",
   "metadata": {},
   "source": [
    "# Simple ML Regressors"
   ]
  },
  {
   "cell_type": "markdown",
   "metadata": {},
   "source": [
    "k-neighbors regression"
   ]
  },
  {
   "cell_type": "code",
   "execution_count": null,
   "metadata": {},
   "outputs": [],
   "source": [
    "# k-neighbors regression\n",
    "from sklearn.neighbors import KNeighborsRegressor\n",
    "knr = KNeighborsRegressor(n_neighbors=6)\n",
    "\n",
    "visualizer1 = PredictionError(knr)\n",
    "visualizer1.fit(X_train, y_train)  # Fit the training data to the visualizer\n",
    "visualizer1.score(X_test, y_test)  # Evaluate the model on the test data\n",
    "visualizer1.show()   "
   ]
  },
  {
   "cell_type": "code",
   "execution_count": null,
   "metadata": {},
   "outputs": [],
   "source": [
    "visualizer2 = ResidualsPlot(knr)\n",
    "visualizer2.fit(X_train, y_train)  # Fit the training data to the visualizer\n",
    "visualizer2.score(X_test, y_test)  # Evaluate the model on the test data\n",
    "visualizer2.show()"
   ]
  },
  {
   "cell_type": "markdown",
   "metadata": {},
   "source": [
    "Linear Regression"
   ]
  },
  {
   "cell_type": "code",
   "execution_count": null,
   "metadata": {},
   "outputs": [],
   "source": [
    "# Linear Regression\n",
    "from sklearn.linear_model import LinearRegression\n",
    "lr = LinearRegression()\n",
    "lr.fit(X_train,y_train)\n",
    "feat_importances = lr.feature_importances_\n",
    "print(feat_importances)\n",
    "visualizer1 = PredictionError(lr)\n",
    "visualizer1.fit(X_train, y_train)  # Fit the training data to the visualizer\n",
    "visualizer1.score(X_test, y_test)  # Evaluate the model on the test data\n",
    "visualizer1.show()   "
   ]
  },
  {
   "cell_type": "code",
   "execution_count": null,
   "metadata": {},
   "outputs": [],
   "source": [
    "visualizer2 = ResidualsPlot(lr)\n",
    "visualizer2.fit(X_train, y_train)  # Fit the training data to the visualizer\n",
    "visualizer2.score(X_test, y_test)  # Evaluate the model on the test data\n",
    "visualizer2.show()"
   ]
  },
  {
   "cell_type": "markdown",
   "metadata": {},
   "source": [
    "Ridge Regression"
   ]
  },
  {
   "cell_type": "code",
   "execution_count": null,
   "metadata": {},
   "outputs": [],
   "source": [
    "from sklearn.linear_model import Ridge\n",
    "rr = Ridge(alpha = 5)\n",
    "\n",
    "visualizer1 = PredictionError(rr)\n",
    "visualizer1.fit(X_train, y_train)  # Fit the training data to the visualizer\n",
    "visualizer1.score(X_test, y_test)  # Evaluate the model on the test data\n",
    "visualizer1.show()  "
   ]
  },
  {
   "cell_type": "code",
   "execution_count": null,
   "metadata": {},
   "outputs": [],
   "source": [
    "visualizer2 = ResidualsPlot(rr)\n",
    "visualizer2.fit(X_train, y_train)  # Fit the training data to the visualizer\n",
    "visualizer2.score(X_test, y_test)  # Evaluate the model on the test data\n",
    "visualizer2.show()"
   ]
  },
  {
   "cell_type": "markdown",
   "metadata": {},
   "source": [
    "Lasso"
   ]
  },
  {
   "cell_type": "code",
   "execution_count": null,
   "metadata": {},
   "outputs": [],
   "source": [
    "from sklearn.linear_model import Lasso\n",
    "lsr = Lasso(alpha = 0.01, max_iter=10000)\n",
    "visualizer1 = PredictionError(lsr)\n",
    "visualizer1.fit(X_train, y_train)  # Fit the training data to the visualizer\n",
    "visualizer1.score(X_test, y_test)  # Evaluate the model on the test data\n",
    "visualizer1.show()  "
   ]
  },
  {
   "cell_type": "code",
   "execution_count": null,
   "metadata": {},
   "outputs": [],
   "source": [
    "visualizer2 = ResidualsPlot(lsr)\n",
    "visualizer2.fit(X_train, y_train)  # Fit the training data to the visualizer\n",
    "visualizer2.score(X_test, y_test)  # Evaluate the model on the test data\n",
    "visualizer2.show()"
   ]
  },
  {
   "cell_type": "markdown",
   "metadata": {},
   "source": [
    "Decision Tree"
   ]
  },
  {
   "cell_type": "code",
   "execution_count": null,
   "metadata": {},
   "outputs": [],
   "source": [
    "# Decision Tree Regressor\n",
    "from sklearn.tree import DecisionTreeRegressor\n",
    "dtr = DecisionTreeRegressor(max_depth = 5)\n",
    "\n",
    "visualizer1 = PredictionError(dtr)\n",
    "visualizer1.fit(X_train, y_train)  # Fit the training data to the visualizer\n",
    "visualizer1.score(X_test, y_test)  # Evaluate the model on the test data\n",
    "visualizer1.show()"
   ]
  },
  {
   "cell_type": "code",
   "execution_count": null,
   "metadata": {},
   "outputs": [],
   "source": [
    "visualizer2 = ResidualsPlot(dtr)\n",
    "visualizer2.fit(X_train, y_train)  # Fit the training data to the visualizer\n",
    "visualizer2.score(X_test, y_test)  # Evaluate the model on the test data\n",
    "visualizer2.show()"
   ]
  },
  {
   "cell_type": "markdown",
   "metadata": {},
   "source": [
    "Random Forest"
   ]
  },
  {
   "cell_type": "code",
   "execution_count": null,
   "metadata": {},
   "outputs": [],
   "source": [
    "# Random Forest Regressor\n",
    "from sklearn.ensemble import RandomForestRegressor\n",
    "rfr = RandomForestRegressor(max_depth=3, random_state=0,n_estimators=1000)\n",
    "\n",
    "visualizer1 = PredictionError(rfr)\n",
    "visualizer1.fit(X_train, y_train)  # Fit the training data to the visualizer\n",
    "visualizer1.score(X_test, y_test)  # Evaluate the model on the test data\n",
    "visualizer1.show()  "
   ]
  },
  {
   "cell_type": "code",
   "execution_count": null,
   "metadata": {},
   "outputs": [],
   "source": [
    "visualizer2 = ResidualsPlot(rfr)\n",
    "visualizer2.fit(X_train, y_train)  # Fit the training data to the visualizer\n",
    "visualizer2.score(X_test, y_test)  # Evaluate the model on the test data\n",
    "visualizer2.show()"
   ]
  },
  {
   "cell_type": "markdown",
   "metadata": {},
   "source": [
    "Support Vector Machines"
   ]
  },
  {
   "cell_type": "code",
   "execution_count": null,
   "metadata": {},
   "outputs": [],
   "source": [
    "from sklearn.svm import SVR\n",
    "# svmr = SVR(gamma = 'scale',C = 1.0, epsilon = 0.2)\n",
    "svmr = SVR(kernel='linear', gamma='auto')\n",
    "\n",
    "visualizer1 = PredictionError(svmr)\n",
    "visualizer1.fit(X_train, y_train)  # Fit the training data to the visualizer\n",
    "visualizer1.score(X_test, y_test)  # Evaluate the model on the test data\n",
    "visualizer1.show()  "
   ]
  },
  {
   "cell_type": "code",
   "execution_count": null,
   "metadata": {},
   "outputs": [],
   "source": [
    "visualizer2 = ResidualsPlot(svmr)\n",
    "visualizer2.fit(X_train, y_train)  # Fit the training data to the visualizer\n",
    "visualizer2.score(X_test, y_test)  # Evaluate the model on the test data\n",
    "visualizer2.show()"
   ]
  },
  {
   "cell_type": "markdown",
   "metadata": {},
   "source": [
    "Stochastic gradient descent regressor"
   ]
  },
  {
   "cell_type": "code",
   "execution_count": null,
   "metadata": {},
   "outputs": [],
   "source": [
    "from sklearn import linear_model\n",
    "sgdr = linear_model.SGDRegressor(max_iter=1000, tol=1e-3)\n",
    "\n",
    "visualizer1 = PredictionError(sgdr)\n",
    "visualizer1.fit(X_train, y_train)  # Fit the training data to the visualizer\n",
    "visualizer1.score(X_test, y_test)  # Evaluate the model on the test data\n",
    "visualizer1.show()  "
   ]
  },
  {
   "cell_type": "code",
   "execution_count": null,
   "metadata": {},
   "outputs": [],
   "source": [
    "visualizer2 = ResidualsPlot(sgdr)\n",
    "visualizer2.fit(X_train, y_train)  # Fit the training data to the visualizer\n",
    "visualizer2.score(X_test, y_test)  # Evaluate the model on the test data\n",
    "visualizer2.show()"
   ]
  },
  {
   "cell_type": "markdown",
   "metadata": {},
   "source": [
    "Shallow Neural Networks"
   ]
  },
  {
   "cell_type": "code",
   "execution_count": null,
   "metadata": {},
   "outputs": [],
   "source": [
    "# Shallow Neural Networks\n",
    "from sklearn.neural_network import MLPRegressor\n",
    "mlpr = MLPRegressor()\n",
    "\n",
    "visualizer1 = PredictionError(mlpr)\n",
    "visualizer1.fit(X_train, y_train)  # Fit the training data to the visualizer\n",
    "visualizer1.score(X_test, y_test)  # Evaluate the model on the test data\n",
    "visualizer1.show()  "
   ]
  },
  {
   "cell_type": "code",
   "execution_count": null,
   "metadata": {},
   "outputs": [],
   "source": [
    "visualizer2 = ResidualsPlot(mlpr)\n",
    "visualizer2.fit(X_train, y_train)  # Fit the training data to the visualizer\n",
    "visualizer2.score(X_test, y_test)  # Evaluate the model on the test data\n",
    "visualizer2.show()"
   ]
  },
  {
   "cell_type": "code",
   "execution_count": null,
   "metadata": {},
   "outputs": [],
   "source": []
  }
 ],
 "metadata": {
  "kernelspec": {
   "display_name": "Python 3",
   "language": "python",
   "name": "python3"
  },
  "language_info": {
   "codemirror_mode": {
    "name": "ipython",
    "version": 3
   },
   "file_extension": ".py",
   "mimetype": "text/x-python",
   "name": "python",
   "nbconvert_exporter": "python",
   "pygments_lexer": "ipython3",
   "version": "3.7.5"
  }
 },
 "nbformat": 4,
 "nbformat_minor": 2
}
